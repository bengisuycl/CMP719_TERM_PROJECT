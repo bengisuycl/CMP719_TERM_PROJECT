{
  "cells": [
    {
      "cell_type": "markdown",
      "metadata": {
        "id": "view-in-github",
        "colab_type": "text"
      },
      "source": [
        "<a href=\"https://colab.research.google.com/github/bengisuycl/CMP719_TERM_PROJECT/blob/main/added_histogram_loss.ipynb\" target=\"_parent\"><img src=\"https://colab.research.google.com/assets/colab-badge.svg\" alt=\"Open In Colab\"/></a>"
      ]
    },
    {
      "cell_type": "code",
      "execution_count": null,
      "metadata": {
        "colab": {
          "base_uri": "https://localhost:8080/"
        },
        "id": "-jzxW88UGWw2",
        "outputId": "3aa10e49-f5cb-4188-ac50-57f70364bc02"
      },
      "outputs": [
        {
          "output_type": "stream",
          "name": "stdout",
          "text": [
            "Requirement already satisfied: torch in /usr/local/lib/python3.11/dist-packages (2.6.0+cu124)\n",
            "Requirement already satisfied: torchvision in /usr/local/lib/python3.11/dist-packages (0.21.0+cu124)\n",
            "Requirement already satisfied: matplotlib in /usr/local/lib/python3.11/dist-packages (3.10.0)\n",
            "Requirement already satisfied: scikit-image in /usr/local/lib/python3.11/dist-packages (0.25.2)\n",
            "Requirement already satisfied: tqdm in /usr/local/lib/python3.11/dist-packages (4.67.1)\n",
            "Requirement already satisfied: filelock in /usr/local/lib/python3.11/dist-packages (from torch) (3.18.0)\n",
            "Requirement already satisfied: typing-extensions>=4.10.0 in /usr/local/lib/python3.11/dist-packages (from torch) (4.13.2)\n",
            "Requirement already satisfied: networkx in /usr/local/lib/python3.11/dist-packages (from torch) (3.4.2)\n",
            "Requirement already satisfied: jinja2 in /usr/local/lib/python3.11/dist-packages (from torch) (3.1.6)\n",
            "Requirement already satisfied: fsspec in /usr/local/lib/python3.11/dist-packages (from torch) (2025.3.2)\n",
            "Collecting nvidia-cuda-nvrtc-cu12==12.4.127 (from torch)\n",
            "  Downloading nvidia_cuda_nvrtc_cu12-12.4.127-py3-none-manylinux2014_x86_64.whl.metadata (1.5 kB)\n",
            "Collecting nvidia-cuda-runtime-cu12==12.4.127 (from torch)\n",
            "  Downloading nvidia_cuda_runtime_cu12-12.4.127-py3-none-manylinux2014_x86_64.whl.metadata (1.5 kB)\n",
            "Collecting nvidia-cuda-cupti-cu12==12.4.127 (from torch)\n",
            "  Downloading nvidia_cuda_cupti_cu12-12.4.127-py3-none-manylinux2014_x86_64.whl.metadata (1.6 kB)\n",
            "Collecting nvidia-cudnn-cu12==9.1.0.70 (from torch)\n",
            "  Downloading nvidia_cudnn_cu12-9.1.0.70-py3-none-manylinux2014_x86_64.whl.metadata (1.6 kB)\n",
            "Collecting nvidia-cublas-cu12==12.4.5.8 (from torch)\n",
            "  Downloading nvidia_cublas_cu12-12.4.5.8-py3-none-manylinux2014_x86_64.whl.metadata (1.5 kB)\n",
            "Collecting nvidia-cufft-cu12==11.2.1.3 (from torch)\n",
            "  Downloading nvidia_cufft_cu12-11.2.1.3-py3-none-manylinux2014_x86_64.whl.metadata (1.5 kB)\n",
            "Collecting nvidia-curand-cu12==10.3.5.147 (from torch)\n",
            "  Downloading nvidia_curand_cu12-10.3.5.147-py3-none-manylinux2014_x86_64.whl.metadata (1.5 kB)\n",
            "Collecting nvidia-cusolver-cu12==11.6.1.9 (from torch)\n",
            "  Downloading nvidia_cusolver_cu12-11.6.1.9-py3-none-manylinux2014_x86_64.whl.metadata (1.6 kB)\n",
            "Collecting nvidia-cusparse-cu12==12.3.1.170 (from torch)\n",
            "  Downloading nvidia_cusparse_cu12-12.3.1.170-py3-none-manylinux2014_x86_64.whl.metadata (1.6 kB)\n",
            "Requirement already satisfied: nvidia-cusparselt-cu12==0.6.2 in /usr/local/lib/python3.11/dist-packages (from torch) (0.6.2)\n",
            "Requirement already satisfied: nvidia-nccl-cu12==2.21.5 in /usr/local/lib/python3.11/dist-packages (from torch) (2.21.5)\n",
            "Requirement already satisfied: nvidia-nvtx-cu12==12.4.127 in /usr/local/lib/python3.11/dist-packages (from torch) (12.4.127)\n",
            "Collecting nvidia-nvjitlink-cu12==12.4.127 (from torch)\n",
            "  Downloading nvidia_nvjitlink_cu12-12.4.127-py3-none-manylinux2014_x86_64.whl.metadata (1.5 kB)\n",
            "Requirement already satisfied: triton==3.2.0 in /usr/local/lib/python3.11/dist-packages (from torch) (3.2.0)\n",
            "Requirement already satisfied: sympy==1.13.1 in /usr/local/lib/python3.11/dist-packages (from torch) (1.13.1)\n",
            "Requirement already satisfied: mpmath<1.4,>=1.1.0 in /usr/local/lib/python3.11/dist-packages (from sympy==1.13.1->torch) (1.3.0)\n",
            "Requirement already satisfied: numpy in /usr/local/lib/python3.11/dist-packages (from torchvision) (2.0.2)\n",
            "Requirement already satisfied: pillow!=8.3.*,>=5.3.0 in /usr/local/lib/python3.11/dist-packages (from torchvision) (11.2.1)\n",
            "Requirement already satisfied: contourpy>=1.0.1 in /usr/local/lib/python3.11/dist-packages (from matplotlib) (1.3.2)\n",
            "Requirement already satisfied: cycler>=0.10 in /usr/local/lib/python3.11/dist-packages (from matplotlib) (0.12.1)\n",
            "Requirement already satisfied: fonttools>=4.22.0 in /usr/local/lib/python3.11/dist-packages (from matplotlib) (4.58.0)\n",
            "Requirement already satisfied: kiwisolver>=1.3.1 in /usr/local/lib/python3.11/dist-packages (from matplotlib) (1.4.8)\n",
            "Requirement already satisfied: packaging>=20.0 in /usr/local/lib/python3.11/dist-packages (from matplotlib) (24.2)\n",
            "Requirement already satisfied: pyparsing>=2.3.1 in /usr/local/lib/python3.11/dist-packages (from matplotlib) (3.2.3)\n",
            "Requirement already satisfied: python-dateutil>=2.7 in /usr/local/lib/python3.11/dist-packages (from matplotlib) (2.9.0.post0)\n",
            "Requirement already satisfied: scipy>=1.11.4 in /usr/local/lib/python3.11/dist-packages (from scikit-image) (1.15.3)\n",
            "Requirement already satisfied: imageio!=2.35.0,>=2.33 in /usr/local/lib/python3.11/dist-packages (from scikit-image) (2.37.0)\n",
            "Requirement already satisfied: tifffile>=2022.8.12 in /usr/local/lib/python3.11/dist-packages (from scikit-image) (2025.5.10)\n",
            "Requirement already satisfied: lazy-loader>=0.4 in /usr/local/lib/python3.11/dist-packages (from scikit-image) (0.4)\n",
            "Requirement already satisfied: six>=1.5 in /usr/local/lib/python3.11/dist-packages (from python-dateutil>=2.7->matplotlib) (1.17.0)\n",
            "Requirement already satisfied: MarkupSafe>=2.0 in /usr/local/lib/python3.11/dist-packages (from jinja2->torch) (3.0.2)\n",
            "Downloading nvidia_cublas_cu12-12.4.5.8-py3-none-manylinux2014_x86_64.whl (363.4 MB)\n",
            "\u001b[2K   \u001b[90m━━━━━━━━━━━━━━━━━━━━━━━━━━━━━━━━━━━━━━━━\u001b[0m \u001b[32m363.4/363.4 MB\u001b[0m \u001b[31m3.2 MB/s\u001b[0m eta \u001b[36m0:00:00\u001b[0m\n",
            "\u001b[?25hDownloading nvidia_cuda_cupti_cu12-12.4.127-py3-none-manylinux2014_x86_64.whl (13.8 MB)\n",
            "\u001b[2K   \u001b[90m━━━━━━━━━━━━━━━━━━━━━━━━━━━━━━━━━━━━━━━━\u001b[0m \u001b[32m13.8/13.8 MB\u001b[0m \u001b[31m94.4 MB/s\u001b[0m eta \u001b[36m0:00:00\u001b[0m\n",
            "\u001b[?25hDownloading nvidia_cuda_nvrtc_cu12-12.4.127-py3-none-manylinux2014_x86_64.whl (24.6 MB)\n",
            "\u001b[2K   \u001b[90m━━━━━━━━━━━━━━━━━━━━━━━━━━━━━━━━━━━━━━━━\u001b[0m \u001b[32m24.6/24.6 MB\u001b[0m \u001b[31m96.3 MB/s\u001b[0m eta \u001b[36m0:00:00\u001b[0m\n",
            "\u001b[?25hDownloading nvidia_cuda_runtime_cu12-12.4.127-py3-none-manylinux2014_x86_64.whl (883 kB)\n",
            "\u001b[2K   \u001b[90m━━━━━━━━━━━━━━━━━━━━━━━━━━━━━━━━━━━━━━━━\u001b[0m \u001b[32m883.7/883.7 kB\u001b[0m \u001b[31m51.2 MB/s\u001b[0m eta \u001b[36m0:00:00\u001b[0m\n",
            "\u001b[?25hDownloading nvidia_cudnn_cu12-9.1.0.70-py3-none-manylinux2014_x86_64.whl (664.8 MB)\n",
            "\u001b[2K   \u001b[90m━━━━━━━━━━━━━━━━━━━━━━━━━━━━━━━━━━━━━━━━\u001b[0m \u001b[32m664.8/664.8 MB\u001b[0m \u001b[31m1.6 MB/s\u001b[0m eta \u001b[36m0:00:00\u001b[0m\n",
            "\u001b[?25hDownloading nvidia_cufft_cu12-11.2.1.3-py3-none-manylinux2014_x86_64.whl (211.5 MB)\n",
            "\u001b[2K   \u001b[90m━━━━━━━━━━━━━━━━━━━━━━━━━━━━━━━━━━━━━━━━\u001b[0m \u001b[32m211.5/211.5 MB\u001b[0m \u001b[31m11.5 MB/s\u001b[0m eta \u001b[36m0:00:00\u001b[0m\n",
            "\u001b[?25hDownloading nvidia_curand_cu12-10.3.5.147-py3-none-manylinux2014_x86_64.whl (56.3 MB)\n",
            "\u001b[2K   \u001b[90m━━━━━━━━━━━━━━━━━━━━━━━━━━━━━━━━━━━━━━━━\u001b[0m \u001b[32m56.3/56.3 MB\u001b[0m \u001b[31m42.4 MB/s\u001b[0m eta \u001b[36m0:00:00\u001b[0m\n",
            "\u001b[?25hDownloading nvidia_cusolver_cu12-11.6.1.9-py3-none-manylinux2014_x86_64.whl (127.9 MB)\n",
            "\u001b[2K   \u001b[90m━━━━━━━━━━━━━━━━━━━━━━━━━━━━━━━━━━━━━━━━\u001b[0m \u001b[32m127.9/127.9 MB\u001b[0m \u001b[31m20.0 MB/s\u001b[0m eta \u001b[36m0:00:00\u001b[0m\n",
            "\u001b[?25hDownloading nvidia_cusparse_cu12-12.3.1.170-py3-none-manylinux2014_x86_64.whl (207.5 MB)\n",
            "\u001b[2K   \u001b[90m━━━━━━━━━━━━━━━━━━━━━━━━━━━━━━━━━━━━━━━━\u001b[0m \u001b[32m207.5/207.5 MB\u001b[0m \u001b[31m5.9 MB/s\u001b[0m eta \u001b[36m0:00:00\u001b[0m\n",
            "\u001b[?25hDownloading nvidia_nvjitlink_cu12-12.4.127-py3-none-manylinux2014_x86_64.whl (21.1 MB)\n",
            "\u001b[2K   \u001b[90m━━━━━━━━━━━━━━━━━━━━━━━━━━━━━━━━━━━━━━━━\u001b[0m \u001b[32m21.1/21.1 MB\u001b[0m \u001b[31m104.6 MB/s\u001b[0m eta \u001b[36m0:00:00\u001b[0m\n",
            "\u001b[?25hInstalling collected packages: nvidia-nvjitlink-cu12, nvidia-curand-cu12, nvidia-cufft-cu12, nvidia-cuda-runtime-cu12, nvidia-cuda-nvrtc-cu12, nvidia-cuda-cupti-cu12, nvidia-cublas-cu12, nvidia-cusparse-cu12, nvidia-cudnn-cu12, nvidia-cusolver-cu12\n",
            "  Attempting uninstall: nvidia-nvjitlink-cu12\n",
            "    Found existing installation: nvidia-nvjitlink-cu12 12.5.82\n",
            "    Uninstalling nvidia-nvjitlink-cu12-12.5.82:\n",
            "      Successfully uninstalled nvidia-nvjitlink-cu12-12.5.82\n",
            "  Attempting uninstall: nvidia-curand-cu12\n",
            "    Found existing installation: nvidia-curand-cu12 10.3.6.82\n",
            "    Uninstalling nvidia-curand-cu12-10.3.6.82:\n",
            "      Successfully uninstalled nvidia-curand-cu12-10.3.6.82\n",
            "  Attempting uninstall: nvidia-cufft-cu12\n",
            "    Found existing installation: nvidia-cufft-cu12 11.2.3.61\n",
            "    Uninstalling nvidia-cufft-cu12-11.2.3.61:\n",
            "      Successfully uninstalled nvidia-cufft-cu12-11.2.3.61\n",
            "  Attempting uninstall: nvidia-cuda-runtime-cu12\n",
            "    Found existing installation: nvidia-cuda-runtime-cu12 12.5.82\n",
            "    Uninstalling nvidia-cuda-runtime-cu12-12.5.82:\n",
            "      Successfully uninstalled nvidia-cuda-runtime-cu12-12.5.82\n",
            "  Attempting uninstall: nvidia-cuda-nvrtc-cu12\n",
            "    Found existing installation: nvidia-cuda-nvrtc-cu12 12.5.82\n",
            "    Uninstalling nvidia-cuda-nvrtc-cu12-12.5.82:\n",
            "      Successfully uninstalled nvidia-cuda-nvrtc-cu12-12.5.82\n",
            "  Attempting uninstall: nvidia-cuda-cupti-cu12\n",
            "    Found existing installation: nvidia-cuda-cupti-cu12 12.5.82\n",
            "    Uninstalling nvidia-cuda-cupti-cu12-12.5.82:\n",
            "      Successfully uninstalled nvidia-cuda-cupti-cu12-12.5.82\n",
            "  Attempting uninstall: nvidia-cublas-cu12\n",
            "    Found existing installation: nvidia-cublas-cu12 12.5.3.2\n",
            "    Uninstalling nvidia-cublas-cu12-12.5.3.2:\n",
            "      Successfully uninstalled nvidia-cublas-cu12-12.5.3.2\n",
            "  Attempting uninstall: nvidia-cusparse-cu12\n",
            "    Found existing installation: nvidia-cusparse-cu12 12.5.1.3\n",
            "    Uninstalling nvidia-cusparse-cu12-12.5.1.3:\n",
            "      Successfully uninstalled nvidia-cusparse-cu12-12.5.1.3\n",
            "  Attempting uninstall: nvidia-cudnn-cu12\n",
            "    Found existing installation: nvidia-cudnn-cu12 9.3.0.75\n",
            "    Uninstalling nvidia-cudnn-cu12-9.3.0.75:\n",
            "      Successfully uninstalled nvidia-cudnn-cu12-9.3.0.75\n",
            "  Attempting uninstall: nvidia-cusolver-cu12\n",
            "    Found existing installation: nvidia-cusolver-cu12 11.6.3.83\n",
            "    Uninstalling nvidia-cusolver-cu12-11.6.3.83:\n",
            "      Successfully uninstalled nvidia-cusolver-cu12-11.6.3.83\n",
            "Successfully installed nvidia-cublas-cu12-12.4.5.8 nvidia-cuda-cupti-cu12-12.4.127 nvidia-cuda-nvrtc-cu12-12.4.127 nvidia-cuda-runtime-cu12-12.4.127 nvidia-cudnn-cu12-9.1.0.70 nvidia-cufft-cu12-11.2.1.3 nvidia-curand-cu12-10.3.5.147 nvidia-cusolver-cu12-11.6.1.9 nvidia-cusparse-cu12-12.3.1.170 nvidia-nvjitlink-cu12-12.4.127\n"
          ]
        }
      ],
      "source": [
        " !pip install torch torchvision matplotlib scikit-image tqdm\n"
      ]
    },
    {
      "cell_type": "code",
      "execution_count": null,
      "metadata": {
        "id": "QNajhxuxGons",
        "colab": {
          "base_uri": "https://localhost:8080/"
        },
        "outputId": "67c4acac-14bc-4c01-e618-5c14fb93e9e7"
      },
      "outputs": [
        {
          "output_type": "stream",
          "name": "stdout",
          "text": [
            "Mounted at /content/drive\n"
          ]
        }
      ],
      "source": [
        "from google.colab import drive\n",
        "import os\n",
        "\n",
        "drive.mount('/content/drive')\n",
        "\n",
        "# Dataset path\n",
        "rgb_path = '/content/drive/MyDrive/datasets/rgb_images'\n",
        "ir_path  = '/content/drive/MyDrive/datasets/IR'\n",
        "\n",
        "# Target dataset directories\n",
        "os.makedirs('/content/drive/MyDrive/datasets/rgb2ir/trainA', exist_ok=True)\n",
        "os.makedirs('/content/drive/MyDrive/datasets/rgb2ir/trainB', exist_ok=True)\n",
        "os.makedirs('/content/drive/MyDrive/datasets/rgb2ir/testA', exist_ok=True)\n",
        "os.makedirs('/content/drive/MyDrive/datasets/rgb2ir/testB', exist_ok=True)\n"
      ]
    },
    {
      "cell_type": "code",
      "execution_count": null,
      "metadata": {
        "id": "kY0_E9NsGqmX"
      },
      "outputs": [],
      "source": [
        "import glob, random, shutil\n",
        "\n",
        "def split_and_copy_images(src_dir, train_dir, test_dir, split_ratio=0.8, limit=None):\n",
        "    images = glob.glob(os.path.join(src_dir, '*.jpg')) + glob.glob(os.path.join(src_dir, '*.png'))\n",
        "    if limit:\n",
        "        images = random.sample(images, min(limit, len(images)))\n",
        "    random.shuffle(images)\n",
        "    split_point = int(len(images) * split_ratio)\n",
        "    train_images = images[:split_point]\n",
        "    test_images  = images[split_point:]\n",
        "\n",
        "    for img in train_images:\n",
        "        shutil.copy(img, train_dir)\n",
        "    for img in test_images:\n",
        "        shutil.copy(img, test_dir)\n",
        "\n",
        "# RGB images: limit 5000 for balanced training\n",
        "split_and_copy_images(rgb_path, '/content/drive/MyDrive/datasets/rgb2ir/trainA', '/content/drive/MyDrive/datasets/rgb2ir/testA', limit=5000)\n",
        "\n",
        "# IR images: use all\n",
        "split_and_copy_images(ir_path, '/content/drive/MyDrive/datasets/rgb2ir/trainB', '/content/drive/MyDrive/datasets/rgb2ir/testB')\n"
      ]
    },
    {
      "cell_type": "code",
      "source": [
        "pip install wandb torchmetrics"
      ],
      "metadata": {
        "colab": {
          "base_uri": "https://localhost:8080/"
        },
        "id": "B_lXkI5YBGEI",
        "outputId": "03cd2804-3c98-4871-916a-99d06be7ba3c"
      },
      "execution_count": null,
      "outputs": [
        {
          "output_type": "stream",
          "name": "stdout",
          "text": [
            "Requirement already satisfied: wandb in /usr/local/lib/python3.11/dist-packages (0.19.11)\n",
            "Collecting torchmetrics\n",
            "  Downloading torchmetrics-1.7.1-py3-none-any.whl.metadata (21 kB)\n",
            "Requirement already satisfied: click!=8.0.0,>=7.1 in /usr/local/lib/python3.11/dist-packages (from wandb) (8.2.0)\n",
            "Requirement already satisfied: docker-pycreds>=0.4.0 in /usr/local/lib/python3.11/dist-packages (from wandb) (0.4.0)\n",
            "Requirement already satisfied: gitpython!=3.1.29,>=1.0.0 in /usr/local/lib/python3.11/dist-packages (from wandb) (3.1.44)\n",
            "Requirement already satisfied: platformdirs in /usr/local/lib/python3.11/dist-packages (from wandb) (4.3.8)\n",
            "Requirement already satisfied: protobuf!=4.21.0,!=5.28.0,<7,>=3.19.0 in /usr/local/lib/python3.11/dist-packages (from wandb) (5.29.4)\n",
            "Requirement already satisfied: psutil>=5.0.0 in /usr/local/lib/python3.11/dist-packages (from wandb) (5.9.5)\n",
            "Requirement already satisfied: pydantic<3 in /usr/local/lib/python3.11/dist-packages (from wandb) (2.11.4)\n",
            "Requirement already satisfied: pyyaml in /usr/local/lib/python3.11/dist-packages (from wandb) (6.0.2)\n",
            "Requirement already satisfied: requests<3,>=2.0.0 in /usr/local/lib/python3.11/dist-packages (from wandb) (2.32.3)\n",
            "Requirement already satisfied: sentry-sdk>=2.0.0 in /usr/local/lib/python3.11/dist-packages (from wandb) (2.28.0)\n",
            "Requirement already satisfied: setproctitle in /usr/local/lib/python3.11/dist-packages (from wandb) (1.3.6)\n",
            "Requirement already satisfied: setuptools in /usr/local/lib/python3.11/dist-packages (from wandb) (75.2.0)\n",
            "Requirement already satisfied: typing-extensions<5,>=4.4 in /usr/local/lib/python3.11/dist-packages (from wandb) (4.13.2)\n",
            "Requirement already satisfied: numpy>1.20.0 in /usr/local/lib/python3.11/dist-packages (from torchmetrics) (2.0.2)\n",
            "Requirement already satisfied: packaging>17.1 in /usr/local/lib/python3.11/dist-packages (from torchmetrics) (24.2)\n",
            "Requirement already satisfied: torch>=2.0.0 in /usr/local/lib/python3.11/dist-packages (from torchmetrics) (2.6.0+cu124)\n",
            "Collecting lightning-utilities>=0.8.0 (from torchmetrics)\n",
            "  Downloading lightning_utilities-0.14.3-py3-none-any.whl.metadata (5.6 kB)\n",
            "Requirement already satisfied: six>=1.4.0 in /usr/local/lib/python3.11/dist-packages (from docker-pycreds>=0.4.0->wandb) (1.17.0)\n",
            "Requirement already satisfied: gitdb<5,>=4.0.1 in /usr/local/lib/python3.11/dist-packages (from gitpython!=3.1.29,>=1.0.0->wandb) (4.0.12)\n",
            "Requirement already satisfied: annotated-types>=0.6.0 in /usr/local/lib/python3.11/dist-packages (from pydantic<3->wandb) (0.7.0)\n",
            "Requirement already satisfied: pydantic-core==2.33.2 in /usr/local/lib/python3.11/dist-packages (from pydantic<3->wandb) (2.33.2)\n",
            "Requirement already satisfied: typing-inspection>=0.4.0 in /usr/local/lib/python3.11/dist-packages (from pydantic<3->wandb) (0.4.0)\n",
            "Requirement already satisfied: charset-normalizer<4,>=2 in /usr/local/lib/python3.11/dist-packages (from requests<3,>=2.0.0->wandb) (3.4.2)\n",
            "Requirement already satisfied: idna<4,>=2.5 in /usr/local/lib/python3.11/dist-packages (from requests<3,>=2.0.0->wandb) (3.10)\n",
            "Requirement already satisfied: urllib3<3,>=1.21.1 in /usr/local/lib/python3.11/dist-packages (from requests<3,>=2.0.0->wandb) (2.4.0)\n",
            "Requirement already satisfied: certifi>=2017.4.17 in /usr/local/lib/python3.11/dist-packages (from requests<3,>=2.0.0->wandb) (2025.4.26)\n",
            "Requirement already satisfied: filelock in /usr/local/lib/python3.11/dist-packages (from torch>=2.0.0->torchmetrics) (3.18.0)\n",
            "Requirement already satisfied: networkx in /usr/local/lib/python3.11/dist-packages (from torch>=2.0.0->torchmetrics) (3.4.2)\n",
            "Requirement already satisfied: jinja2 in /usr/local/lib/python3.11/dist-packages (from torch>=2.0.0->torchmetrics) (3.1.6)\n",
            "Requirement already satisfied: fsspec in /usr/local/lib/python3.11/dist-packages (from torch>=2.0.0->torchmetrics) (2025.3.2)\n",
            "Requirement already satisfied: nvidia-cuda-nvrtc-cu12==12.4.127 in /usr/local/lib/python3.11/dist-packages (from torch>=2.0.0->torchmetrics) (12.4.127)\n",
            "Requirement already satisfied: nvidia-cuda-runtime-cu12==12.4.127 in /usr/local/lib/python3.11/dist-packages (from torch>=2.0.0->torchmetrics) (12.4.127)\n",
            "Requirement already satisfied: nvidia-cuda-cupti-cu12==12.4.127 in /usr/local/lib/python3.11/dist-packages (from torch>=2.0.0->torchmetrics) (12.4.127)\n",
            "Requirement already satisfied: nvidia-cudnn-cu12==9.1.0.70 in /usr/local/lib/python3.11/dist-packages (from torch>=2.0.0->torchmetrics) (9.1.0.70)\n",
            "Requirement already satisfied: nvidia-cublas-cu12==12.4.5.8 in /usr/local/lib/python3.11/dist-packages (from torch>=2.0.0->torchmetrics) (12.4.5.8)\n",
            "Requirement already satisfied: nvidia-cufft-cu12==11.2.1.3 in /usr/local/lib/python3.11/dist-packages (from torch>=2.0.0->torchmetrics) (11.2.1.3)\n",
            "Requirement already satisfied: nvidia-curand-cu12==10.3.5.147 in /usr/local/lib/python3.11/dist-packages (from torch>=2.0.0->torchmetrics) (10.3.5.147)\n",
            "Requirement already satisfied: nvidia-cusolver-cu12==11.6.1.9 in /usr/local/lib/python3.11/dist-packages (from torch>=2.0.0->torchmetrics) (11.6.1.9)\n",
            "Requirement already satisfied: nvidia-cusparse-cu12==12.3.1.170 in /usr/local/lib/python3.11/dist-packages (from torch>=2.0.0->torchmetrics) (12.3.1.170)\n",
            "Requirement already satisfied: nvidia-cusparselt-cu12==0.6.2 in /usr/local/lib/python3.11/dist-packages (from torch>=2.0.0->torchmetrics) (0.6.2)\n",
            "Requirement already satisfied: nvidia-nccl-cu12==2.21.5 in /usr/local/lib/python3.11/dist-packages (from torch>=2.0.0->torchmetrics) (2.21.5)\n",
            "Requirement already satisfied: nvidia-nvtx-cu12==12.4.127 in /usr/local/lib/python3.11/dist-packages (from torch>=2.0.0->torchmetrics) (12.4.127)\n",
            "Requirement already satisfied: nvidia-nvjitlink-cu12==12.4.127 in /usr/local/lib/python3.11/dist-packages (from torch>=2.0.0->torchmetrics) (12.4.127)\n",
            "Requirement already satisfied: triton==3.2.0 in /usr/local/lib/python3.11/dist-packages (from torch>=2.0.0->torchmetrics) (3.2.0)\n",
            "Requirement already satisfied: sympy==1.13.1 in /usr/local/lib/python3.11/dist-packages (from torch>=2.0.0->torchmetrics) (1.13.1)\n",
            "Requirement already satisfied: mpmath<1.4,>=1.1.0 in /usr/local/lib/python3.11/dist-packages (from sympy==1.13.1->torch>=2.0.0->torchmetrics) (1.3.0)\n",
            "Requirement already satisfied: smmap<6,>=3.0.1 in /usr/local/lib/python3.11/dist-packages (from gitdb<5,>=4.0.1->gitpython!=3.1.29,>=1.0.0->wandb) (5.0.2)\n",
            "Requirement already satisfied: MarkupSafe>=2.0 in /usr/local/lib/python3.11/dist-packages (from jinja2->torch>=2.0.0->torchmetrics) (3.0.2)\n",
            "Downloading torchmetrics-1.7.1-py3-none-any.whl (961 kB)\n",
            "\u001b[2K   \u001b[90m━━━━━━━━━━━━━━━━━━━━━━━━━━━━━━━━━━━━━━━━\u001b[0m \u001b[32m961.5/961.5 kB\u001b[0m \u001b[31m13.4 MB/s\u001b[0m eta \u001b[36m0:00:00\u001b[0m\n",
            "\u001b[?25hDownloading lightning_utilities-0.14.3-py3-none-any.whl (28 kB)\n",
            "Installing collected packages: lightning-utilities, torchmetrics\n",
            "Successfully installed lightning-utilities-0.14.3 torchmetrics-1.7.1\n"
          ]
        }
      ]
    },
    {
      "cell_type": "markdown",
      "source": [
        "Dataset class (Tensor dönüştürücü ve unpaired loader)"
      ],
      "metadata": {
        "id": "eBFQ55WwTsyp"
      }
    },
    {
      "cell_type": "code",
      "source": [
        "from torch.utils.data import Dataset\n",
        "import os\n",
        "from PIL import Image\n",
        "\n",
        "class UnpairedImageDataset(Dataset):\n",
        "    def __init__(self, rootA, rootB, transform=None):\n",
        "        self.files_A = os.listdir(rootA)\n",
        "        self.files_B = os.listdir(rootB)\n",
        "        self.rootA = rootA\n",
        "        self.rootB = rootB\n",
        "        self.transform = transform\n",
        "\n",
        "    def __len__(self):\n",
        "        return max(len(self.files_A), len(self.files_B))\n",
        "\n",
        "    def __getitem__(self, index):\n",
        "        img_A = Image.open(os.path.join(self.rootA, self.files_A[index % len(self.files_A)])).convert(\"RGB\")\n",
        "        img_B = Image.open(os.path.join(self.rootB, self.files_B[index % len(self.files_B)])).convert(\"RGB\")\n",
        "\n",
        "        if self.transform:\n",
        "            img_A = self.transform(img_A)\n",
        "            img_B = self.transform(img_B)\n",
        "\n",
        "        return {'A': img_A, 'B': img_B}\n"
      ],
      "metadata": {
        "id": "Q9xslkw6TNTT"
      },
      "execution_count": null,
      "outputs": []
    },
    {
      "cell_type": "code",
      "source": [
        "from torch.utils.data import Dataset\n",
        "import os\n",
        "from PIL import Image\n",
        "\n",
        "class UnpairedImageDataset(Dataset):\n",
        "    def __init__(self, rootA, rootB, transform=None):\n",
        "        self.files_A = os.listdir(rootA)\n",
        "        self.files_B = os.listdir(rootB)\n",
        "        self.rootA = rootA\n",
        "        self.rootB = rootB\n",
        "        self.transform = transform\n",
        "\n",
        "    def __len__(self):\n",
        "        return max(len(self.files_A), len(self.files_B))\n",
        "\n",
        "    def __getitem__(self, index):\n",
        "        img_A = Image.open(os.path.join(self.rootA, self.files_A[index % len(self.files_A)])).convert(\"RGB\")\n",
        "        img_B = Image.open(os.path.join(self.rootB, self.files_B[index % len(self.files_B)])).convert(\"RGB\")\n",
        "\n",
        "        if self.transform:\n",
        "            img_A = self.transform(img_A)\n",
        "            img_B = self.transform(img_B)\n",
        "\n",
        "        return {'A': img_A, 'B': img_B}\n"
      ],
      "metadata": {
        "id": "lUgwlmmeTx6I"
      },
      "execution_count": null,
      "outputs": []
    },
    {
      "source": [
        "from torchvision import transforms\n",
        "from torch.utils.data import DataLoader\n",
        "\n",
        "transform = transforms.Compose([\n",
        "    transforms.Resize((256, 256)),\n",
        "    transforms.ToTensor(),\n",
        "    transforms.Normalize((0.5, 0.5, 0.5), (0.5, 0.5, 0.5))\n",
        "])\n",
        "\n",
        "dataset = UnpairedImageDataset('/content/drive/MyDrive/datasets/rgb2ir/trainA', '/content/drive/MyDrive/datasets/rgb2ir/trainB', transform=transform)\n",
        "dataloader = DataLoader(dataset, batch_size=1, shuffle=True)"
      ],
      "cell_type": "code",
      "metadata": {
        "id": "JDbfKHp1Fa8j"
      },
      "execution_count": null,
      "outputs": []
    },
    {
      "source": [
        "# Add this at the beginning of your notebook or in a cell before the training loop\n",
        "!pip install pytorch-msssim\n",
        "\n",
        "import torch\n",
        "import torch.nn as nn\n",
        "from tqdm import tqdm\n",
        "# Ensure Discriminator is defined or imported here if not already\n",
        "# from your_module import Discriminator # Example import\n",
        "\n",
        "# Import SSIM loss\n",
        "from pytorch_msssim import ssim, ms_ssim\n",
        "\n",
        "# Define the device\n",
        "device = torch.device(\"cuda\" if torch.cuda.is_available() else \"cpu\")\n",
        "print(f\"Using device: {device}\")\n",
        "\n",
        "# Residual Block (Assuming this is defined correctly elsewhere)\n",
        "class ResidualBlock(nn.Module):\n",
        "    def __init__(self, channels):\n",
        "        super(ResidualBlock, self).__init__()\n",
        "        self.block = nn.Sequential(\n",
        "            nn.Conv2d(channels, channels, kernel_size=3, stride=1, padding=1),\n",
        "            nn.InstanceNorm2d(channels),\n",
        "            nn.ReLU(inplace=True),\n",
        "            nn.Conv2d(channels, channels, kernel_size=3, stride=1, padding=1),\n",
        "            nn.InstanceNorm2d(channels)\n",
        "        )\n",
        "\n",
        "    def forward(self, x):\n",
        "        return x + self.block(x)\n",
        "\n",
        "# Generator (Assuming this is defined correctly elsewhere)\n",
        "class Generator(nn.Module):\n",
        "    def __init__(self, num_residual_blocks=9):\n",
        "        super(Generator, self).__init__()\n",
        "\n",
        "        model = []\n",
        "\n",
        "        # Initial conv\n",
        "        model += [\n",
        "            nn.Conv2d(3, 64, kernel_size=7, stride=1, padding=3),\n",
        "            nn.InstanceNorm2d(64),\n",
        "            nn.ReLU(inplace=True)\n",
        "        ]\n",
        "\n",
        "        # Downsampling\n",
        "        model += [\n",
        "            nn.Conv2d(64, 128, kernel_size=3, stride=2, padding=1),\n",
        "            nn.InstanceNorm2d(128),\n",
        "            nn.ReLU(inplace=True),\n",
        "            nn.Conv2d(128, 256, kernel_size=3, stride=2, padding=1),\n",
        "            nn.InstanceNorm2d(256),\n",
        "            nn.ReLU(inplace=True)\n",
        "        ]\n",
        "\n",
        "        # Residual Blocks\n",
        "        for _ in range(num_residual_blocks):\n",
        "            model += [ResidualBlock(256)]\n",
        "\n",
        "        # Upsampling\n",
        "        model += [\n",
        "            nn.ConvTranspose2d(256, 128, kernel_size=3, stride=2, padding=1, output_padding=1),\n",
        "            nn.InstanceNorm2d(128),\n",
        "            nn.ReLU(inplace=True),\n",
        "            nn.ConvTranspose2d(128, 64, kernel_size=3, stride=2, padding=1, output_padding=1),\n",
        "            nn.InstanceNorm2d(64),\n",
        "            nn.ReLU(inplace=True)\n",
        "        ]\n",
        "\n",
        "        # Output layer\n",
        "        model += [\n",
        "            nn.Conv2d(64, 3, kernel_size=7, stride=1, padding=3),\n",
        "            nn.Tanh()\n",
        "        ]\n",
        "\n",
        "        self.model = nn.Sequential(*model)\n",
        "\n",
        "    def forward(self, x):\n",
        "        return self.model(x)\n",
        "\n",
        "# Discriminator Class (Assuming this is the correct definition for your model)\n",
        "class Discriminator(nn.Module):\n",
        "    def __init__(self, in_channels):\n",
        "        super(Discriminator, self).__init__()\n",
        "\n",
        "        def discriminator_block(in_filters, out_filters, stride, normalize=True):\n",
        "            layers = [nn.Conv2d(in_filters, out_filters, kernel_size=3, stride=stride, padding=1)]\n",
        "            if normalize:\n",
        "                layers.append(nn.InstanceNorm2d(out_filters))\n",
        "            layers.append(nn.LeakyReLU(0.2, inplace=True))\n",
        "            return layers\n",
        "\n",
        "        self.model = nn.Sequential(\n",
        "            *discriminator_block(in_channels, 64, stride=2, normalize=False),\n",
        "            *discriminator_block(64, 128, stride=2),\n",
        "            *discriminator_block(128, 256, stride=2),\n",
        "            *discriminator_block(256, 512, stride=2),\n",
        "            nn.Conv2d(512, 1, kernel_size=3, stride=1, padding=1)\n",
        "        )\n",
        "\n",
        "    def forward(self, img):\n",
        "        # Flatten output for binary classification (real/fake)\n",
        "        return self.model(img).view(img.size(0), -1)\n",
        "\n",
        "\n",
        "# Adversarial loss\n",
        "criterion_GAN = nn.MSELoss().to(device)\n",
        "# Cycle consistency loss\n",
        "criterion_cycle = nn.L1Loss().to(device)\n",
        "# Identity loss\n",
        "criterion_identity = nn.L1Loss().to(device)\n",
        "\n",
        "# Define the SSIM loss function (as a module or a functional call)\n",
        "\n",
        "def ssim_loss(img1, img2):\n",
        "    # Ensure images are on the same device\n",
        "    img1 = img1.to(device)\n",
        "    img2 = img2.to(device)\n",
        "    # Calculate SSIM. `data_range` depends on your normalization.\n",
        "    # If images are normalized to [-1, 1], data_range should be 2.0.\n",
        "    # If images are normalized to [0, 1], data_range should be 1.0.\n",
        "    # Your transform normalizes to [-1, 1], so data_range=2.0\n",
        "    # The function returns the SSIM value. For a loss, use 1 - SSIM.\n",
        "    return 1 - ssim( img1, img2, data_range=2.0, size_average=True) # size_average=True averages SSIM over batch\n",
        "\n",
        "# Modelleri cihaza taşı\n",
        "G_AB = Generator(num_residual_blocks=9).to(device)\n",
        "G_BA = Generator(num_residual_blocks=9).to(device)\n",
        "\n",
        "# Discriminator modellerini başlatın\n",
        "D_A = Discriminator(3).to(device) # Assuming RGB discriminator input is 3 channels\n",
        "D_B = Discriminator(3).to(device) # Assuming IR discriminator input is 3 channels, or adjust if IR is single channel\n",
        "\n",
        "# Optimizerlar\n",
        "lr = 0.0002\n",
        "beta1 = 0.5\n",
        "optimizer_G = torch.optim.Adam(list(G_AB.parameters()) + list(G_BA.parameters()), lr=lr, betas=(beta1, 0.999))\n",
        "optimizer_D_A = torch.optim.Adam(D_A.parameters(), lr=lr, betas=(beta1, 0.999))\n",
        "optimizer_D_B = torch.optim.Adam(D_B.parameters(), lr=lr, betas=(beta1, 0.999))\n",
        "\n",
        "print(\"Models and Optimizers initialized.\")\n",
        "\n",
        "# Now, the ssim_loss function is defined and can be used in the training loop.\n",
        "\n",
        "# with the defined ssim_loss function available."
      ],
      "cell_type": "code",
      "metadata": {
        "colab": {
          "base_uri": "https://localhost:8080/"
        },
        "id": "1xo9sCRBGGCu",
        "outputId": "0003c251-0a94-4c33-b2e5-7e6f70692dd1"
      },
      "execution_count": null,
      "outputs": [
        {
          "output_type": "stream",
          "name": "stdout",
          "text": [
            "Collecting pytorch-msssim\n",
            "  Downloading pytorch_msssim-1.0.0-py3-none-any.whl.metadata (8.0 kB)\n",
            "Requirement already satisfied: torch in /usr/local/lib/python3.11/dist-packages (from pytorch-msssim) (2.6.0+cu124)\n",
            "Requirement already satisfied: filelock in /usr/local/lib/python3.11/dist-packages (from torch->pytorch-msssim) (3.18.0)\n",
            "Requirement already satisfied: typing-extensions>=4.10.0 in /usr/local/lib/python3.11/dist-packages (from torch->pytorch-msssim) (4.13.2)\n",
            "Requirement already satisfied: networkx in /usr/local/lib/python3.11/dist-packages (from torch->pytorch-msssim) (3.4.2)\n",
            "Requirement already satisfied: jinja2 in /usr/local/lib/python3.11/dist-packages (from torch->pytorch-msssim) (3.1.6)\n",
            "Requirement already satisfied: fsspec in /usr/local/lib/python3.11/dist-packages (from torch->pytorch-msssim) (2025.3.2)\n",
            "Requirement already satisfied: nvidia-cuda-nvrtc-cu12==12.4.127 in /usr/local/lib/python3.11/dist-packages (from torch->pytorch-msssim) (12.4.127)\n",
            "Requirement already satisfied: nvidia-cuda-runtime-cu12==12.4.127 in /usr/local/lib/python3.11/dist-packages (from torch->pytorch-msssim) (12.4.127)\n",
            "Requirement already satisfied: nvidia-cuda-cupti-cu12==12.4.127 in /usr/local/lib/python3.11/dist-packages (from torch->pytorch-msssim) (12.4.127)\n",
            "Requirement already satisfied: nvidia-cudnn-cu12==9.1.0.70 in /usr/local/lib/python3.11/dist-packages (from torch->pytorch-msssim) (9.1.0.70)\n",
            "Requirement already satisfied: nvidia-cublas-cu12==12.4.5.8 in /usr/local/lib/python3.11/dist-packages (from torch->pytorch-msssim) (12.4.5.8)\n",
            "Requirement already satisfied: nvidia-cufft-cu12==11.2.1.3 in /usr/local/lib/python3.11/dist-packages (from torch->pytorch-msssim) (11.2.1.3)\n",
            "Requirement already satisfied: nvidia-curand-cu12==10.3.5.147 in /usr/local/lib/python3.11/dist-packages (from torch->pytorch-msssim) (10.3.5.147)\n",
            "Requirement already satisfied: nvidia-cusolver-cu12==11.6.1.9 in /usr/local/lib/python3.11/dist-packages (from torch->pytorch-msssim) (11.6.1.9)\n",
            "Requirement already satisfied: nvidia-cusparse-cu12==12.3.1.170 in /usr/local/lib/python3.11/dist-packages (from torch->pytorch-msssim) (12.3.1.170)\n",
            "Requirement already satisfied: nvidia-cusparselt-cu12==0.6.2 in /usr/local/lib/python3.11/dist-packages (from torch->pytorch-msssim) (0.6.2)\n",
            "Requirement already satisfied: nvidia-nccl-cu12==2.21.5 in /usr/local/lib/python3.11/dist-packages (from torch->pytorch-msssim) (2.21.5)\n",
            "Requirement already satisfied: nvidia-nvtx-cu12==12.4.127 in /usr/local/lib/python3.11/dist-packages (from torch->pytorch-msssim) (12.4.127)\n",
            "Requirement already satisfied: nvidia-nvjitlink-cu12==12.4.127 in /usr/local/lib/python3.11/dist-packages (from torch->pytorch-msssim) (12.4.127)\n",
            "Requirement already satisfied: triton==3.2.0 in /usr/local/lib/python3.11/dist-packages (from torch->pytorch-msssim) (3.2.0)\n",
            "Requirement already satisfied: sympy==1.13.1 in /usr/local/lib/python3.11/dist-packages (from torch->pytorch-msssim) (1.13.1)\n",
            "Requirement already satisfied: mpmath<1.4,>=1.1.0 in /usr/local/lib/python3.11/dist-packages (from sympy==1.13.1->torch->pytorch-msssim) (1.3.0)\n",
            "Requirement already satisfied: MarkupSafe>=2.0 in /usr/local/lib/python3.11/dist-packages (from jinja2->torch->pytorch-msssim) (3.0.2)\n",
            "Downloading pytorch_msssim-1.0.0-py3-none-any.whl (7.7 kB)\n",
            "Installing collected packages: pytorch-msssim\n",
            "Successfully installed pytorch-msssim-1.0.0\n",
            "Using device: cuda\n",
            "Models and Optimizers initialized.\n"
          ]
        }
      ]
    },
    {
      "source": [
        "# Adversarial loss\n",
        "criterion_GAN = nn.MSELoss().to(device)\n",
        "# Cycle consistency loss\n",
        "criterion_cycle = nn.L1Loss().to(device)\n",
        "# Identity loss\n",
        "criterion_identity = nn.L1Loss().to(device)\n",
        "\n",
        "# Modelleri cihaza taşı\n",
        "G_AB = Generator(num_residual_blocks=9).to(device)\n",
        "G_BA = Generator(num_residual_blocks=9).to(device)\n",
        "\n",
        "\n",
        "D_A = Discriminator(3).to(device)\n",
        "D_B = Discriminator(3).to(device)\n",
        "\n",
        "# Optimizerlar\n",
        "lr = 0.0002\n",
        "beta1 = 0.5\n",
        "optimizer_G = torch.optim.Adam(list(G_AB.parameters()) + list(G_BA.parameters()), lr=lr, betas=(beta1, 0.999))\n",
        "optimizer_D_A = torch.optim.Adam(D_A.parameters(), lr=lr, betas=(beta1, 0.999))\n",
        "optimizer_D_B = torch.optim.Adam(D_B.parameters(), lr=lr, betas=(beta1, 0.999))"
      ],
      "cell_type": "code",
      "metadata": {
        "id": "TiCIW_aSZe1k"
      },
      "execution_count": null,
      "outputs": []
    },
    {
      "source": [
        "print(G_AB)"
      ],
      "cell_type": "code",
      "metadata": {
        "id": "X71MwsIGZiaY"
      },
      "execution_count": null,
      "outputs": []
    },
    {
      "source": [
        "from torchvision import transforms\n",
        "from torch.utils.data import DataLoader\n",
        "\n",
        "transform = transforms.Compose([\n",
        "    transforms.Resize((256, 256)),\n",
        "    transforms.ToTensor(),\n",
        "    transforms.Normalize((0.5, 0.5, 0.5), (0.5, 0.5, 0.5))\n",
        "])\n",
        "\n",
        "dataset = UnpairedImageDataset('/content/drive/MyDrive/datasets/rgb2ir/trainA', '/content/drive/MyDrive/datasets/rgb2ir/trainB', transform=transform)\n",
        "dataloader = DataLoader(dataset, batch_size=1, shuffle=True)"
      ],
      "cell_type": "code",
      "metadata": {
        "id": "kNPQo8zxZi4D"
      },
      "execution_count": null,
      "outputs": []
    },
    {
      "cell_type": "code",
      "source": [
        "from google.colab import drive\n",
        "import os\n",
        "import torch\n",
        "\n",
        "drive.mount('/content/drive')\n",
        "\n",
        "checkpoint_dir = '/content/drive/MyDrive/added_histogram_loss'\n",
        "os.makedirs(checkpoint_dir, exist_ok=True)\n"
      ],
      "metadata": {
        "colab": {
          "base_uri": "https://localhost:8080/"
        },
        "id": "-P_fwvwQBTpy",
        "outputId": "266324a3-9143-4c5a-e628-a91ae5242712"
      },
      "execution_count": null,
      "outputs": [
        {
          "output_type": "stream",
          "name": "stdout",
          "text": [
            "Drive already mounted at /content/drive; to attempt to forcibly remount, call drive.mount(\"/content/drive\", force_remount=True).\n"
          ]
        }
      ]
    },
    {
      "source": [
        "num_epochs = 100\n",
        "\n",
        "for epoch in range(num_epochs):\n",
        "    for i, batch in enumerate(tqdm(dataloader)):\n",
        "        real_A = batch['A'].to(device)\n",
        "        real_B = batch['B'].to(device)\n",
        "\n",
        "        # --------------\n",
        "        #  Train Generators\n",
        "        # --------------\n",
        "        optimizer_G.zero_grad()\n",
        "\n",
        "        # Identity loss\n",
        "        loss_id_A = criterion_identity(G_BA(real_A), real_A)\n",
        "        loss_id_B = criterion_identity(G_AB(real_B), real_B)\n",
        "        loss_identity = (loss_id_A + loss_id_B) * 5.0\n",
        "\n",
        "        # GAN loss\n",
        "        fake_B = G_AB(real_A)\n",
        "        pred_fake_B = D_B(fake_B)\n",
        "        valid = torch.ones_like(pred_fake_B, device=device)\n",
        "        loss_GAN_AB = criterion_GAN(pred_fake_B, valid)\n",
        "\n",
        "        fake_A = G_BA(real_B)\n",
        "        pred_fake_A = D_A(fake_A)\n",
        "        valid = torch.ones_like(pred_fake_A, device=device)\n",
        "        loss_GAN_BA = criterion_GAN(pred_fake_A, valid)\n",
        "\n",
        "        # Cycle loss\n",
        "        recov_A = G_BA(fake_B)\n",
        "        recov_B = G_AB(fake_A)\n",
        "        loss_cycle = (criterion_cycle(recov_A, real_A) + criterion_cycle(recov_B, real_B)) * 10.0\n",
        "\n",
        "        # SSIM loss\n",
        "        # Pass detached tensors to ssim_loss\n",
        "        loss_ssim_A = ssim_loss(recov_A.detach(), real_A.detach())\n",
        "        loss_ssim_B = ssim_loss(recov_B.detach(), real_B.detach())\n",
        "        loss_ssim = (loss_ssim_A + loss_ssim_B) * 5.0\n",
        "\n",
        "\n",
        "        # Total generator loss\n",
        "        loss_G = loss_identity + loss_GAN_AB + loss_GAN_BA + loss_cycle + loss_ssim\n",
        "\n",
        "        loss_G.backward()\n",
        "        optimizer_G.step()\n",
        "\n",
        "        # --------------\n",
        "        #  Train Discriminators\n",
        "        # --------------\n",
        "        optimizer_D_A.zero_grad()\n",
        "        pred_real_A = D_A(real_A)\n",
        "        valid = torch.ones_like(pred_real_A, device=device)\n",
        "        loss_real_A = criterion_GAN(pred_real_A, valid)\n",
        "\n",
        "        pred_fake_A = D_A(fake_A.detach())\n",
        "        fake = torch.zeros_like(pred_fake_A, device=device)\n",
        "        loss_fake_A = criterion_GAN(pred_fake_A, fake)\n",
        "\n",
        "        loss_D_A = (loss_real_A + loss_fake_A) * 0.5\n",
        "        loss_D_A.backward()\n",
        "        optimizer_D_A.step()\n",
        "\n",
        "        optimizer_D_B.zero_grad()\n",
        "        pred_real_B = D_B(real_B)\n",
        "        valid = torch.ones_like(pred_real_B, device=device)\n",
        "        loss_real_B = criterion_GAN(pred_real_B, valid)\n",
        "\n",
        "        pred_fake_B = D_B(fake_B.detach())\n",
        "        fake = torch.zeros_like(pred_fake_B, device=device)\n",
        "        loss_fake_B = criterion_GAN(pred_fake_B, fake)\n",
        "\n",
        "        loss_D_B = (loss_real_B + loss_fake_B) * 0.5\n",
        "        loss_D_B.backward()\n",
        "        optimizer_D_B.step()\n",
        "\n",
        "        if i % 100 == 0:\n",
        "            print(f\"Epoch [{epoch}/{num_epochs}] Batch [{i}] Loss_G: {loss_G.item():.4f}, Loss_D_A: {loss_D_A.item():.4f}, Loss_D_B: {loss_D_B.item():.4f}\")\n",
        "\n",
        "    # Epoch sonu model kaydet\n",
        "    torch.save(G_AB.state_dict(), f'G_AB_epoch{epoch}.pth')\n",
        "    torch.save(G_BA.state_dict(), f'G_BA_epoch{epoch}.pth')"
      ],
      "cell_type": "code",
      "metadata": {
        "colab": {
          "base_uri": "https://localhost:8080/"
        },
        "id": "V5HS5QlUZjf6",
        "outputId": "1d0520f6-2893-458e-de0f-5c5334a5fb58"
      },
      "execution_count": null,
      "outputs": [
        {
          "output_type": "stream",
          "name": "stderr",
          "text": [
            "  0%|          | 2/4000 [00:00<18:42,  3.56it/s]"
          ]
        },
        {
          "output_type": "stream",
          "name": "stdout",
          "text": [
            "Epoch [0/100] Batch [0] Loss_G: 31.2627, Loss_D_A: 0.4242, Loss_D_B: 0.3380\n"
          ]
        },
        {
          "output_type": "stream",
          "name": "stderr",
          "text": [
            "  3%|▎         | 102/4000 [00:14<08:37,  7.54it/s]"
          ]
        },
        {
          "output_type": "stream",
          "name": "stdout",
          "text": [
            "Epoch [0/100] Batch [100] Loss_G: 14.2946, Loss_D_A: 0.1874, Loss_D_B: 0.2264\n"
          ]
        },
        {
          "output_type": "stream",
          "name": "stderr",
          "text": [
            "  5%|▌         | 202/4000 [00:29<08:31,  7.43it/s]"
          ]
        },
        {
          "output_type": "stream",
          "name": "stdout",
          "text": [
            "Epoch [0/100] Batch [200] Loss_G: 13.9338, Loss_D_A: 0.0493, Loss_D_B: 0.1352\n"
          ]
        },
        {
          "output_type": "stream",
          "name": "stderr",
          "text": [
            "  8%|▊         | 302/4000 [00:43<08:46,  7.03it/s]"
          ]
        },
        {
          "output_type": "stream",
          "name": "stdout",
          "text": [
            "Epoch [0/100] Batch [300] Loss_G: 13.3169, Loss_D_A: 0.0714, Loss_D_B: 0.1105\n"
          ]
        },
        {
          "output_type": "stream",
          "name": "stderr",
          "text": [
            " 10%|█         | 402/4000 [00:58<08:31,  7.04it/s]"
          ]
        },
        {
          "output_type": "stream",
          "name": "stdout",
          "text": [
            "Epoch [0/100] Batch [400] Loss_G: 10.6290, Loss_D_A: 0.2016, Loss_D_B: 0.1034\n"
          ]
        },
        {
          "output_type": "stream",
          "name": "stderr",
          "text": [
            " 13%|█▎        | 502/4000 [01:11<08:07,  7.17it/s]"
          ]
        },
        {
          "output_type": "stream",
          "name": "stdout",
          "text": [
            "Epoch [0/100] Batch [500] Loss_G: 12.9011, Loss_D_A: 0.1405, Loss_D_B: 0.3771\n"
          ]
        },
        {
          "output_type": "stream",
          "name": "stderr",
          "text": [
            " 15%|█▌        | 602/4000 [01:26<08:34,  6.61it/s]"
          ]
        },
        {
          "output_type": "stream",
          "name": "stdout",
          "text": [
            "Epoch [0/100] Batch [600] Loss_G: 14.3576, Loss_D_A: 0.0213, Loss_D_B: 0.1091\n"
          ]
        },
        {
          "output_type": "stream",
          "name": "stderr",
          "text": [
            " 18%|█▊        | 702/4000 [01:40<07:28,  7.35it/s]"
          ]
        },
        {
          "output_type": "stream",
          "name": "stdout",
          "text": [
            "Epoch [0/100] Batch [700] Loss_G: 9.8144, Loss_D_A: 0.0363, Loss_D_B: 0.0146\n"
          ]
        },
        {
          "output_type": "stream",
          "name": "stderr",
          "text": [
            " 20%|██        | 802/4000 [01:54<08:01,  6.64it/s]"
          ]
        },
        {
          "output_type": "stream",
          "name": "stdout",
          "text": [
            "Epoch [0/100] Batch [800] Loss_G: 13.1801, Loss_D_A: 0.1098, Loss_D_B: 0.1559\n"
          ]
        },
        {
          "output_type": "stream",
          "name": "stderr",
          "text": [
            " 23%|██▎       | 902/4000 [02:09<07:10,  7.20it/s]"
          ]
        },
        {
          "output_type": "stream",
          "name": "stdout",
          "text": [
            "Epoch [0/100] Batch [900] Loss_G: 16.0893, Loss_D_A: 0.0894, Loss_D_B: 0.1735\n"
          ]
        },
        {
          "output_type": "stream",
          "name": "stderr",
          "text": [
            " 25%|██▌       | 1002/4000 [02:23<07:26,  6.71it/s]"
          ]
        },
        {
          "output_type": "stream",
          "name": "stdout",
          "text": [
            "Epoch [0/100] Batch [1000] Loss_G: 13.2996, Loss_D_A: 0.0275, Loss_D_B: 0.0138\n"
          ]
        },
        {
          "output_type": "stream",
          "name": "stderr",
          "text": [
            " 28%|██▊       | 1102/4000 [02:37<06:42,  7.20it/s]"
          ]
        },
        {
          "output_type": "stream",
          "name": "stdout",
          "text": [
            "Epoch [0/100] Batch [1100] Loss_G: 8.4782, Loss_D_A: 0.0194, Loss_D_B: 0.0396\n"
          ]
        },
        {
          "output_type": "stream",
          "name": "stderr",
          "text": [
            " 30%|███       | 1202/4000 [02:52<06:35,  7.08it/s]"
          ]
        },
        {
          "output_type": "stream",
          "name": "stdout",
          "text": [
            "Epoch [0/100] Batch [1200] Loss_G: 10.7771, Loss_D_A: 0.0953, Loss_D_B: 0.2446\n"
          ]
        },
        {
          "output_type": "stream",
          "name": "stderr",
          "text": [
            " 33%|███▎      | 1302/4000 [03:06<06:12,  7.25it/s]"
          ]
        },
        {
          "output_type": "stream",
          "name": "stdout",
          "text": [
            "Epoch [0/100] Batch [1300] Loss_G: 13.5895, Loss_D_A: 0.0502, Loss_D_B: 0.0307\n"
          ]
        },
        {
          "output_type": "stream",
          "name": "stderr",
          "text": [
            " 35%|███▌      | 1402/4000 [03:20<06:11,  7.00it/s]"
          ]
        },
        {
          "output_type": "stream",
          "name": "stdout",
          "text": [
            "Epoch [0/100] Batch [1400] Loss_G: 11.5744, Loss_D_A: 0.2291, Loss_D_B: 0.0781\n"
          ]
        },
        {
          "output_type": "stream",
          "name": "stderr",
          "text": [
            " 38%|███▊      | 1502/4000 [03:34<06:31,  6.38it/s]"
          ]
        },
        {
          "output_type": "stream",
          "name": "stdout",
          "text": [
            "Epoch [0/100] Batch [1500] Loss_G: 16.6089, Loss_D_A: 0.2030, Loss_D_B: 0.1523\n"
          ]
        },
        {
          "output_type": "stream",
          "name": "stderr",
          "text": [
            " 40%|████      | 1602/4000 [03:48<05:48,  6.89it/s]"
          ]
        },
        {
          "output_type": "stream",
          "name": "stdout",
          "text": [
            "Epoch [0/100] Batch [1600] Loss_G: 9.0486, Loss_D_A: 0.1097, Loss_D_B: 0.0733\n"
          ]
        },
        {
          "output_type": "stream",
          "name": "stderr",
          "text": [
            " 43%|████▎     | 1702/4000 [04:03<05:49,  6.58it/s]"
          ]
        },
        {
          "output_type": "stream",
          "name": "stdout",
          "text": [
            "Epoch [0/100] Batch [1700] Loss_G: 7.8359, Loss_D_A: 0.2172, Loss_D_B: 0.0984\n"
          ]
        },
        {
          "output_type": "stream",
          "name": "stderr",
          "text": [
            " 45%|████▌     | 1802/4000 [04:17<04:51,  7.54it/s]"
          ]
        },
        {
          "output_type": "stream",
          "name": "stdout",
          "text": [
            "Epoch [0/100] Batch [1800] Loss_G: 8.1045, Loss_D_A: 0.2867, Loss_D_B: 0.0988\n"
          ]
        },
        {
          "output_type": "stream",
          "name": "stderr",
          "text": [
            " 48%|████▊     | 1902/4000 [04:31<04:57,  7.05it/s]"
          ]
        },
        {
          "output_type": "stream",
          "name": "stdout",
          "text": [
            "Epoch [0/100] Batch [1900] Loss_G: 8.4455, Loss_D_A: 0.1368, Loss_D_B: 0.0619\n"
          ]
        },
        {
          "output_type": "stream",
          "name": "stderr",
          "text": [
            " 50%|█████     | 2002/4000 [04:45<04:48,  6.92it/s]"
          ]
        },
        {
          "output_type": "stream",
          "name": "stdout",
          "text": [
            "Epoch [0/100] Batch [2000] Loss_G: 10.2314, Loss_D_A: 0.2362, Loss_D_B: 0.1281\n"
          ]
        },
        {
          "output_type": "stream",
          "name": "stderr",
          "text": [
            " 53%|█████▎    | 2102/4000 [04:59<04:28,  7.07it/s]"
          ]
        },
        {
          "output_type": "stream",
          "name": "stdout",
          "text": [
            "Epoch [0/100] Batch [2100] Loss_G: 10.2278, Loss_D_A: 0.3492, Loss_D_B: 0.1379\n"
          ]
        },
        {
          "output_type": "stream",
          "name": "stderr",
          "text": [
            " 55%|█████▌    | 2202/4000 [05:13<04:44,  6.32it/s]"
          ]
        },
        {
          "output_type": "stream",
          "name": "stdout",
          "text": [
            "Epoch [0/100] Batch [2200] Loss_G: 7.9435, Loss_D_A: 0.1216, Loss_D_B: 0.1190\n"
          ]
        },
        {
          "output_type": "stream",
          "name": "stderr",
          "text": [
            " 58%|█████▊    | 2302/4000 [05:28<03:50,  7.37it/s]"
          ]
        },
        {
          "output_type": "stream",
          "name": "stdout",
          "text": [
            "Epoch [0/100] Batch [2300] Loss_G: 8.2507, Loss_D_A: 0.0217, Loss_D_B: 0.0229\n"
          ]
        },
        {
          "output_type": "stream",
          "name": "stderr",
          "text": [
            " 60%|██████    | 2402/4000 [05:42<03:46,  7.05it/s]"
          ]
        },
        {
          "output_type": "stream",
          "name": "stdout",
          "text": [
            "Epoch [0/100] Batch [2400] Loss_G: 7.7991, Loss_D_A: 0.1675, Loss_D_B: 0.0615\n"
          ]
        },
        {
          "output_type": "stream",
          "name": "stderr",
          "text": [
            " 63%|██████▎   | 2502/4000 [05:56<03:38,  6.87it/s]"
          ]
        },
        {
          "output_type": "stream",
          "name": "stdout",
          "text": [
            "Epoch [0/100] Batch [2500] Loss_G: 15.6148, Loss_D_A: 0.3767, Loss_D_B: 0.0832\n"
          ]
        },
        {
          "output_type": "stream",
          "name": "stderr",
          "text": [
            " 65%|██████▌   | 2602/4000 [06:10<03:35,  6.48it/s]"
          ]
        },
        {
          "output_type": "stream",
          "name": "stdout",
          "text": [
            "Epoch [0/100] Batch [2600] Loss_G: 9.9608, Loss_D_A: 0.0339, Loss_D_B: 0.0502\n"
          ]
        },
        {
          "output_type": "stream",
          "name": "stderr",
          "text": [
            " 68%|██████▊   | 2702/4000 [06:25<03:09,  6.84it/s]"
          ]
        },
        {
          "output_type": "stream",
          "name": "stdout",
          "text": [
            "Epoch [0/100] Batch [2700] Loss_G: 9.3138, Loss_D_A: 0.1028, Loss_D_B: 0.0220\n"
          ]
        },
        {
          "output_type": "stream",
          "name": "stderr",
          "text": [
            " 70%|███████   | 2802/4000 [06:39<02:35,  7.69it/s]"
          ]
        },
        {
          "output_type": "stream",
          "name": "stdout",
          "text": [
            "Epoch [0/100] Batch [2800] Loss_G: 6.8646, Loss_D_A: 0.1497, Loss_D_B: 0.1740\n"
          ]
        },
        {
          "output_type": "stream",
          "name": "stderr",
          "text": [
            " 73%|███████▎  | 2902/4000 [06:53<02:36,  7.03it/s]"
          ]
        },
        {
          "output_type": "stream",
          "name": "stdout",
          "text": [
            "Epoch [0/100] Batch [2900] Loss_G: 13.5836, Loss_D_A: 0.0792, Loss_D_B: 0.2356\n"
          ]
        },
        {
          "output_type": "stream",
          "name": "stderr",
          "text": [
            " 75%|███████▌  | 3002/4000 [07:07<02:16,  7.31it/s]"
          ]
        },
        {
          "output_type": "stream",
          "name": "stdout",
          "text": [
            "Epoch [0/100] Batch [3000] Loss_G: 10.2990, Loss_D_A: 0.0419, Loss_D_B: 0.0811\n"
          ]
        },
        {
          "output_type": "stream",
          "name": "stderr",
          "text": [
            " 78%|███████▊  | 3102/4000 [07:21<02:05,  7.17it/s]"
          ]
        },
        {
          "output_type": "stream",
          "name": "stdout",
          "text": [
            "Epoch [0/100] Batch [3100] Loss_G: 8.8522, Loss_D_A: 0.0747, Loss_D_B: 0.0798\n"
          ]
        },
        {
          "output_type": "stream",
          "name": "stderr",
          "text": [
            " 80%|████████  | 3202/4000 [07:36<01:47,  7.43it/s]"
          ]
        },
        {
          "output_type": "stream",
          "name": "stdout",
          "text": [
            "Epoch [0/100] Batch [3200] Loss_G: 11.7583, Loss_D_A: 0.2043, Loss_D_B: 0.1388\n"
          ]
        },
        {
          "output_type": "stream",
          "name": "stderr",
          "text": [
            " 83%|████████▎ | 3302/4000 [07:49<01:40,  6.94it/s]"
          ]
        },
        {
          "output_type": "stream",
          "name": "stdout",
          "text": [
            "Epoch [0/100] Batch [3300] Loss_G: 7.9357, Loss_D_A: 0.1893, Loss_D_B: 0.3252\n"
          ]
        },
        {
          "output_type": "stream",
          "name": "stderr",
          "text": [
            " 85%|████████▌ | 3402/4000 [08:04<01:18,  7.65it/s]"
          ]
        },
        {
          "output_type": "stream",
          "name": "stdout",
          "text": [
            "Epoch [0/100] Batch [3400] Loss_G: 9.0167, Loss_D_A: 0.1989, Loss_D_B: 0.2166\n"
          ]
        },
        {
          "output_type": "stream",
          "name": "stderr",
          "text": [
            " 88%|████████▊ | 3502/4000 [08:18<01:11,  6.94it/s]"
          ]
        },
        {
          "output_type": "stream",
          "name": "stdout",
          "text": [
            "Epoch [0/100] Batch [3500] Loss_G: 8.3041, Loss_D_A: 0.0800, Loss_D_B: 0.0216\n"
          ]
        },
        {
          "output_type": "stream",
          "name": "stderr",
          "text": [
            " 90%|█████████ | 3602/4000 [08:32<00:56,  7.08it/s]"
          ]
        },
        {
          "output_type": "stream",
          "name": "stdout",
          "text": [
            "Epoch [0/100] Batch [3600] Loss_G: 8.9290, Loss_D_A: 0.0890, Loss_D_B: 0.1398\n"
          ]
        },
        {
          "output_type": "stream",
          "name": "stderr",
          "text": [
            " 93%|█████████▎| 3702/4000 [08:46<00:44,  6.73it/s]"
          ]
        },
        {
          "output_type": "stream",
          "name": "stdout",
          "text": [
            "Epoch [0/100] Batch [3700] Loss_G: 8.6874, Loss_D_A: 0.2309, Loss_D_B: 0.0359\n"
          ]
        },
        {
          "output_type": "stream",
          "name": "stderr",
          "text": [
            " 95%|█████████▌| 3802/4000 [09:01<00:29,  6.65it/s]"
          ]
        },
        {
          "output_type": "stream",
          "name": "stdout",
          "text": [
            "Epoch [0/100] Batch [3800] Loss_G: 6.6563, Loss_D_A: 0.1279, Loss_D_B: 0.1576\n"
          ]
        },
        {
          "output_type": "stream",
          "name": "stderr",
          "text": [
            " 98%|█████████▊| 3902/4000 [09:15<00:14,  6.96it/s]"
          ]
        },
        {
          "output_type": "stream",
          "name": "stdout",
          "text": [
            "Epoch [0/100] Batch [3900] Loss_G: 10.9684, Loss_D_A: 0.0606, Loss_D_B: 0.1248\n"
          ]
        },
        {
          "output_type": "stream",
          "name": "stderr",
          "text": [
            "100%|██████████| 4000/4000 [09:29<00:00,  7.03it/s]\n",
            "  0%|          | 2/4000 [00:00<08:57,  7.44it/s]"
          ]
        },
        {
          "output_type": "stream",
          "name": "stdout",
          "text": [
            "Epoch [1/100] Batch [0] Loss_G: 7.6349, Loss_D_A: 0.0386, Loss_D_B: 0.1565\n"
          ]
        },
        {
          "output_type": "stream",
          "name": "stderr",
          "text": [
            "  3%|▎         | 102/4000 [00:14<09:35,  6.77it/s]"
          ]
        },
        {
          "output_type": "stream",
          "name": "stdout",
          "text": [
            "Epoch [1/100] Batch [100] Loss_G: 9.1726, Loss_D_A: 0.0319, Loss_D_B: 0.0076\n"
          ]
        },
        {
          "output_type": "stream",
          "name": "stderr",
          "text": [
            "  5%|▌         | 202/4000 [00:28<09:34,  6.62it/s]"
          ]
        },
        {
          "output_type": "stream",
          "name": "stdout",
          "text": [
            "Epoch [1/100] Batch [200] Loss_G: 6.1296, Loss_D_A: 0.0855, Loss_D_B: 0.0532\n"
          ]
        },
        {
          "output_type": "stream",
          "name": "stderr",
          "text": [
            "  8%|▊         | 302/4000 [00:43<09:06,  6.77it/s]"
          ]
        },
        {
          "output_type": "stream",
          "name": "stdout",
          "text": [
            "Epoch [1/100] Batch [300] Loss_G: 6.5016, Loss_D_A: 0.1901, Loss_D_B: 0.0541\n"
          ]
        },
        {
          "output_type": "stream",
          "name": "stderr",
          "text": [
            " 10%|█         | 402/4000 [00:57<07:55,  7.56it/s]"
          ]
        },
        {
          "output_type": "stream",
          "name": "stdout",
          "text": [
            "Epoch [1/100] Batch [400] Loss_G: 12.0777, Loss_D_A: 0.1297, Loss_D_B: 0.0365\n"
          ]
        },
        {
          "output_type": "stream",
          "name": "stderr",
          "text": [
            " 13%|█▎        | 502/4000 [01:11<08:26,  6.91it/s]"
          ]
        },
        {
          "output_type": "stream",
          "name": "stdout",
          "text": [
            "Epoch [1/100] Batch [500] Loss_G: 8.8278, Loss_D_A: 0.1065, Loss_D_B: 0.0633\n"
          ]
        },
        {
          "output_type": "stream",
          "name": "stderr",
          "text": [
            " 15%|█▌        | 602/4000 [01:25<08:30,  6.65it/s]"
          ]
        },
        {
          "output_type": "stream",
          "name": "stdout",
          "text": [
            "Epoch [1/100] Batch [600] Loss_G: 6.7066, Loss_D_A: 0.1397, Loss_D_B: 0.0778\n"
          ]
        },
        {
          "output_type": "stream",
          "name": "stderr",
          "text": [
            " 18%|█▊        | 702/4000 [01:39<07:41,  7.14it/s]"
          ]
        },
        {
          "output_type": "stream",
          "name": "stdout",
          "text": [
            "Epoch [1/100] Batch [700] Loss_G: 11.5553, Loss_D_A: 0.0509, Loss_D_B: 0.0637\n"
          ]
        },
        {
          "output_type": "stream",
          "name": "stderr",
          "text": [
            " 20%|██        | 802/4000 [01:53<07:19,  7.28it/s]"
          ]
        },
        {
          "output_type": "stream",
          "name": "stdout",
          "text": [
            "Epoch [1/100] Batch [800] Loss_G: 6.9136, Loss_D_A: 0.1024, Loss_D_B: 0.0260\n"
          ]
        },
        {
          "output_type": "stream",
          "name": "stderr",
          "text": [
            " 23%|██▎       | 902/4000 [02:07<06:39,  7.76it/s]"
          ]
        },
        {
          "output_type": "stream",
          "name": "stdout",
          "text": [
            "Epoch [1/100] Batch [900] Loss_G: 8.5103, Loss_D_A: 0.2739, Loss_D_B: 0.1529\n"
          ]
        },
        {
          "output_type": "stream",
          "name": "stderr",
          "text": [
            " 25%|██▌       | 1002/4000 [02:21<07:59,  6.26it/s]"
          ]
        },
        {
          "output_type": "stream",
          "name": "stdout",
          "text": [
            "Epoch [1/100] Batch [1000] Loss_G: 6.3173, Loss_D_A: 0.0894, Loss_D_B: 0.0371\n"
          ]
        },
        {
          "output_type": "stream",
          "name": "stderr",
          "text": [
            " 28%|██▊       | 1102/4000 [02:35<06:06,  7.90it/s]"
          ]
        },
        {
          "output_type": "stream",
          "name": "stdout",
          "text": [
            "Epoch [1/100] Batch [1100] Loss_G: 8.1621, Loss_D_A: 0.0289, Loss_D_B: 0.0760\n"
          ]
        },
        {
          "output_type": "stream",
          "name": "stderr",
          "text": [
            " 30%|███       | 1202/4000 [02:50<06:45,  6.90it/s]"
          ]
        },
        {
          "output_type": "stream",
          "name": "stdout",
          "text": [
            "Epoch [1/100] Batch [1200] Loss_G: 7.2727, Loss_D_A: 0.0911, Loss_D_B: 0.0451\n"
          ]
        },
        {
          "output_type": "stream",
          "name": "stderr",
          "text": [
            " 33%|███▎      | 1302/4000 [03:04<06:22,  7.06it/s]"
          ]
        },
        {
          "output_type": "stream",
          "name": "stdout",
          "text": [
            "Epoch [1/100] Batch [1300] Loss_G: 7.3462, Loss_D_A: 0.0608, Loss_D_B: 0.0742\n"
          ]
        },
        {
          "output_type": "stream",
          "name": "stderr",
          "text": [
            " 35%|███▌      | 1402/4000 [03:18<06:06,  7.10it/s]"
          ]
        },
        {
          "output_type": "stream",
          "name": "stdout",
          "text": [
            "Epoch [1/100] Batch [1400] Loss_G: 6.9381, Loss_D_A: 0.0474, Loss_D_B: 0.0290\n"
          ]
        },
        {
          "output_type": "stream",
          "name": "stderr",
          "text": [
            " 38%|███▊      | 1502/4000 [03:32<05:29,  7.57it/s]"
          ]
        },
        {
          "output_type": "stream",
          "name": "stdout",
          "text": [
            "Epoch [1/100] Batch [1500] Loss_G: 10.6239, Loss_D_A: 0.1338, Loss_D_B: 0.0204\n"
          ]
        },
        {
          "output_type": "stream",
          "name": "stderr",
          "text": [
            " 40%|████      | 1602/4000 [03:46<05:37,  7.10it/s]"
          ]
        },
        {
          "output_type": "stream",
          "name": "stdout",
          "text": [
            "Epoch [1/100] Batch [1600] Loss_G: 14.4271, Loss_D_A: 0.2830, Loss_D_B: 0.1388\n"
          ]
        },
        {
          "output_type": "stream",
          "name": "stderr",
          "text": [
            " 43%|████▎     | 1702/4000 [04:01<05:35,  6.84it/s]"
          ]
        },
        {
          "output_type": "stream",
          "name": "stdout",
          "text": [
            "Epoch [1/100] Batch [1700] Loss_G: 5.8825, Loss_D_A: 0.1036, Loss_D_B: 0.0718\n"
          ]
        },
        {
          "output_type": "stream",
          "name": "stderr",
          "text": [
            " 45%|████▌     | 1802/4000 [04:15<04:59,  7.35it/s]"
          ]
        },
        {
          "output_type": "stream",
          "name": "stdout",
          "text": [
            "Epoch [1/100] Batch [1800] Loss_G: 7.4687, Loss_D_A: 0.0725, Loss_D_B: 0.0729\n"
          ]
        },
        {
          "output_type": "stream",
          "name": "stderr",
          "text": [
            " 48%|████▊     | 1902/4000 [04:29<04:47,  7.29it/s]"
          ]
        },
        {
          "output_type": "stream",
          "name": "stdout",
          "text": [
            "Epoch [1/100] Batch [1900] Loss_G: 7.7266, Loss_D_A: 0.0747, Loss_D_B: 0.0611\n"
          ]
        },
        {
          "output_type": "stream",
          "name": "stderr",
          "text": [
            " 50%|█████     | 2002/4000 [04:44<05:15,  6.34it/s]"
          ]
        },
        {
          "output_type": "stream",
          "name": "stdout",
          "text": [
            "Epoch [1/100] Batch [2000] Loss_G: 5.8378, Loss_D_A: 0.2500, Loss_D_B: 0.1032\n"
          ]
        },
        {
          "output_type": "stream",
          "name": "stderr",
          "text": [
            " 53%|█████▎    | 2102/4000 [04:58<04:24,  7.17it/s]"
          ]
        },
        {
          "output_type": "stream",
          "name": "stdout",
          "text": [
            "Epoch [1/100] Batch [2100] Loss_G: 7.0015, Loss_D_A: 0.0545, Loss_D_B: 0.0391\n"
          ]
        },
        {
          "output_type": "stream",
          "name": "stderr",
          "text": [
            " 55%|█████▌    | 2202/4000 [05:12<04:05,  7.33it/s]"
          ]
        },
        {
          "output_type": "stream",
          "name": "stdout",
          "text": [
            "Epoch [1/100] Batch [2200] Loss_G: 8.0686, Loss_D_A: 0.1536, Loss_D_B: 0.0554\n"
          ]
        },
        {
          "output_type": "stream",
          "name": "stderr",
          "text": [
            " 58%|█████▊    | 2302/4000 [05:26<03:50,  7.38it/s]"
          ]
        },
        {
          "output_type": "stream",
          "name": "stdout",
          "text": [
            "Epoch [1/100] Batch [2300] Loss_G: 7.9137, Loss_D_A: 0.3264, Loss_D_B: 0.1894\n"
          ]
        },
        {
          "output_type": "stream",
          "name": "stderr",
          "text": [
            " 60%|██████    | 2402/4000 [05:41<04:06,  6.48it/s]"
          ]
        },
        {
          "output_type": "stream",
          "name": "stdout",
          "text": [
            "Epoch [1/100] Batch [2400] Loss_G: 6.4648, Loss_D_A: 0.0730, Loss_D_B: 0.0316\n"
          ]
        },
        {
          "output_type": "stream",
          "name": "stderr",
          "text": [
            " 63%|██████▎   | 2502/4000 [05:55<03:31,  7.07it/s]"
          ]
        },
        {
          "output_type": "stream",
          "name": "stdout",
          "text": [
            "Epoch [1/100] Batch [2500] Loss_G: 10.0271, Loss_D_A: 0.0775, Loss_D_B: 0.0440\n"
          ]
        },
        {
          "output_type": "stream",
          "name": "stderr",
          "text": [
            " 65%|██████▌   | 2602/4000 [06:09<03:08,  7.40it/s]"
          ]
        },
        {
          "output_type": "stream",
          "name": "stdout",
          "text": [
            "Epoch [1/100] Batch [2600] Loss_G: 8.8071, Loss_D_A: 0.0588, Loss_D_B: 0.1002\n"
          ]
        },
        {
          "output_type": "stream",
          "name": "stderr",
          "text": [
            " 68%|██████▊   | 2702/4000 [06:23<03:06,  6.97it/s]"
          ]
        },
        {
          "output_type": "stream",
          "name": "stdout",
          "text": [
            "Epoch [1/100] Batch [2700] Loss_G: 7.6175, Loss_D_A: 0.1094, Loss_D_B: 0.0936\n"
          ]
        },
        {
          "output_type": "stream",
          "name": "stderr",
          "text": [
            " 70%|███████   | 2802/4000 [06:38<02:43,  7.31it/s]"
          ]
        },
        {
          "output_type": "stream",
          "name": "stdout",
          "text": [
            "Epoch [1/100] Batch [2800] Loss_G: 9.7785, Loss_D_A: 0.0351, Loss_D_B: 0.0153\n"
          ]
        },
        {
          "output_type": "stream",
          "name": "stderr",
          "text": [
            " 73%|███████▎  | 2902/4000 [06:52<02:31,  7.26it/s]"
          ]
        },
        {
          "output_type": "stream",
          "name": "stdout",
          "text": [
            "Epoch [1/100] Batch [2900] Loss_G: 7.6132, Loss_D_A: 0.0834, Loss_D_B: 0.0997\n"
          ]
        },
        {
          "output_type": "stream",
          "name": "stderr",
          "text": [
            " 75%|███████▌  | 3002/4000 [07:06<02:12,  7.51it/s]"
          ]
        },
        {
          "output_type": "stream",
          "name": "stdout",
          "text": [
            "Epoch [1/100] Batch [3000] Loss_G: 5.0604, Loss_D_A: 0.1416, Loss_D_B: 0.2194\n"
          ]
        },
        {
          "output_type": "stream",
          "name": "stderr",
          "text": [
            " 78%|███████▊  | 3102/4000 [07:20<01:59,  7.52it/s]"
          ]
        },
        {
          "output_type": "stream",
          "name": "stdout",
          "text": [
            "Epoch [1/100] Batch [3100] Loss_G: 8.9629, Loss_D_A: 0.0658, Loss_D_B: 0.0846\n"
          ]
        },
        {
          "output_type": "stream",
          "name": "stderr",
          "text": [
            " 80%|████████  | 3202/4000 [07:34<01:51,  7.15it/s]"
          ]
        },
        {
          "output_type": "stream",
          "name": "stdout",
          "text": [
            "Epoch [1/100] Batch [3200] Loss_G: 6.3728, Loss_D_A: 0.0625, Loss_D_B: 0.0240\n"
          ]
        },
        {
          "output_type": "stream",
          "name": "stderr",
          "text": [
            " 83%|████████▎ | 3302/4000 [07:49<01:36,  7.24it/s]"
          ]
        },
        {
          "output_type": "stream",
          "name": "stdout",
          "text": [
            "Epoch [1/100] Batch [3300] Loss_G: 6.7446, Loss_D_A: 0.0623, Loss_D_B: 0.0369\n"
          ]
        },
        {
          "output_type": "stream",
          "name": "stderr",
          "text": [
            " 85%|████████▌ | 3402/4000 [08:03<01:22,  7.28it/s]"
          ]
        },
        {
          "output_type": "stream",
          "name": "stdout",
          "text": [
            "Epoch [1/100] Batch [3400] Loss_G: 7.8158, Loss_D_A: 0.1467, Loss_D_B: 0.0932\n"
          ]
        },
        {
          "output_type": "stream",
          "name": "stderr",
          "text": [
            " 88%|████████▊ | 3502/4000 [08:17<01:07,  7.36it/s]"
          ]
        },
        {
          "output_type": "stream",
          "name": "stdout",
          "text": [
            "Epoch [1/100] Batch [3500] Loss_G: 7.2276, Loss_D_A: 0.0349, Loss_D_B: 0.0123\n"
          ]
        },
        {
          "output_type": "stream",
          "name": "stderr",
          "text": [
            " 90%|█████████ | 3602/4000 [08:31<00:54,  7.32it/s]"
          ]
        },
        {
          "output_type": "stream",
          "name": "stdout",
          "text": [
            "Epoch [1/100] Batch [3600] Loss_G: 7.7784, Loss_D_A: 0.0421, Loss_D_B: 0.0472\n"
          ]
        },
        {
          "output_type": "stream",
          "name": "stderr",
          "text": [
            " 93%|█████████▎| 3702/4000 [08:45<00:44,  6.63it/s]"
          ]
        },
        {
          "output_type": "stream",
          "name": "stdout",
          "text": [
            "Epoch [1/100] Batch [3700] Loss_G: 7.4898, Loss_D_A: 0.0516, Loss_D_B: 0.0279\n"
          ]
        },
        {
          "output_type": "stream",
          "name": "stderr",
          "text": [
            " 95%|█████████▌| 3802/4000 [09:00<00:30,  6.50it/s]"
          ]
        },
        {
          "output_type": "stream",
          "name": "stdout",
          "text": [
            "Epoch [1/100] Batch [3800] Loss_G: 8.4101, Loss_D_A: 0.2400, Loss_D_B: 0.1055\n"
          ]
        },
        {
          "output_type": "stream",
          "name": "stderr",
          "text": [
            " 98%|█████████▊| 3902/4000 [09:14<00:14,  6.74it/s]"
          ]
        },
        {
          "output_type": "stream",
          "name": "stdout",
          "text": [
            "Epoch [1/100] Batch [3900] Loss_G: 8.2517, Loss_D_A: 0.0468, Loss_D_B: 0.0932\n"
          ]
        },
        {
          "output_type": "stream",
          "name": "stderr",
          "text": [
            "100%|██████████| 4000/4000 [09:28<00:00,  7.04it/s]\n",
            "  0%|          | 2/4000 [00:00<08:45,  7.60it/s]"
          ]
        },
        {
          "output_type": "stream",
          "name": "stdout",
          "text": [
            "Epoch [2/100] Batch [0] Loss_G: 5.5815, Loss_D_A: 0.0660, Loss_D_B: 0.1071\n"
          ]
        },
        {
          "output_type": "stream",
          "name": "stderr",
          "text": [
            "  3%|▎         | 102/4000 [00:14<09:22,  6.93it/s]"
          ]
        },
        {
          "output_type": "stream",
          "name": "stdout",
          "text": [
            "Epoch [2/100] Batch [100] Loss_G: 8.2343, Loss_D_A: 0.1904, Loss_D_B: 0.0739\n"
          ]
        },
        {
          "output_type": "stream",
          "name": "stderr",
          "text": [
            "  5%|▌         | 202/4000 [00:29<09:49,  6.44it/s]"
          ]
        },
        {
          "output_type": "stream",
          "name": "stdout",
          "text": [
            "Epoch [2/100] Batch [200] Loss_G: 7.1010, Loss_D_A: 0.0278, Loss_D_B: 0.0282\n"
          ]
        },
        {
          "output_type": "stream",
          "name": "stderr",
          "text": [
            "  8%|▊         | 302/4000 [00:43<08:09,  7.55it/s]"
          ]
        },
        {
          "output_type": "stream",
          "name": "stdout",
          "text": [
            "Epoch [2/100] Batch [300] Loss_G: 7.2015, Loss_D_A: 0.1146, Loss_D_B: 0.1310\n"
          ]
        },
        {
          "output_type": "stream",
          "name": "stderr",
          "text": [
            " 10%|█         | 402/4000 [00:58<08:09,  7.34it/s]"
          ]
        },
        {
          "output_type": "stream",
          "name": "stdout",
          "text": [
            "Epoch [2/100] Batch [400] Loss_G: 6.0684, Loss_D_A: 0.3344, Loss_D_B: 0.0463\n"
          ]
        },
        {
          "output_type": "stream",
          "name": "stderr",
          "text": [
            " 13%|█▎        | 502/4000 [01:12<08:00,  7.28it/s]"
          ]
        },
        {
          "output_type": "stream",
          "name": "stdout",
          "text": [
            "Epoch [2/100] Batch [500] Loss_G: 6.0247, Loss_D_A: 0.1273, Loss_D_B: 0.0510\n"
          ]
        },
        {
          "output_type": "stream",
          "name": "stderr",
          "text": [
            " 15%|█▌        | 602/4000 [01:26<07:47,  7.27it/s]"
          ]
        },
        {
          "output_type": "stream",
          "name": "stdout",
          "text": [
            "Epoch [2/100] Batch [600] Loss_G: 10.9820, Loss_D_A: 0.0840, Loss_D_B: 0.0953\n"
          ]
        },
        {
          "output_type": "stream",
          "name": "stderr",
          "text": [
            " 18%|█▊        | 702/4000 [01:40<08:10,  6.73it/s]"
          ]
        },
        {
          "output_type": "stream",
          "name": "stdout",
          "text": [
            "Epoch [2/100] Batch [700] Loss_G: 8.2148, Loss_D_A: 0.1264, Loss_D_B: 0.1553\n"
          ]
        },
        {
          "output_type": "stream",
          "name": "stderr",
          "text": [
            " 20%|██        | 802/4000 [01:55<07:52,  6.77it/s]"
          ]
        },
        {
          "output_type": "stream",
          "name": "stdout",
          "text": [
            "Epoch [2/100] Batch [800] Loss_G: 7.6000, Loss_D_A: 0.0923, Loss_D_B: 0.0314\n"
          ]
        },
        {
          "output_type": "stream",
          "name": "stderr",
          "text": [
            " 23%|██▎       | 902/4000 [02:09<06:51,  7.53it/s]"
          ]
        },
        {
          "output_type": "stream",
          "name": "stdout",
          "text": [
            "Epoch [2/100] Batch [900] Loss_G: 5.2916, Loss_D_A: 0.1798, Loss_D_B: 0.0881\n"
          ]
        },
        {
          "output_type": "stream",
          "name": "stderr",
          "text": [
            " 25%|██▌       | 1002/4000 [02:23<06:55,  7.22it/s]"
          ]
        },
        {
          "output_type": "stream",
          "name": "stdout",
          "text": [
            "Epoch [2/100] Batch [1000] Loss_G: 6.3733, Loss_D_A: 0.1660, Loss_D_B: 0.0532\n"
          ]
        },
        {
          "output_type": "stream",
          "name": "stderr",
          "text": [
            " 28%|██▊       | 1102/4000 [02:38<06:53,  7.00it/s]"
          ]
        },
        {
          "output_type": "stream",
          "name": "stdout",
          "text": [
            "Epoch [2/100] Batch [1100] Loss_G: 8.8453, Loss_D_A: 0.2064, Loss_D_B: 0.0212\n"
          ]
        },
        {
          "output_type": "stream",
          "name": "stderr",
          "text": [
            " 30%|███       | 1202/4000 [02:52<06:28,  7.20it/s]"
          ]
        },
        {
          "output_type": "stream",
          "name": "stdout",
          "text": [
            "Epoch [2/100] Batch [1200] Loss_G: 10.1580, Loss_D_A: 0.0728, Loss_D_B: 0.1180\n"
          ]
        },
        {
          "output_type": "stream",
          "name": "stderr",
          "text": [
            " 33%|███▎      | 1302/4000 [03:06<06:22,  7.05it/s]"
          ]
        },
        {
          "output_type": "stream",
          "name": "stdout",
          "text": [
            "Epoch [2/100] Batch [1300] Loss_G: 7.9302, Loss_D_A: 0.0890, Loss_D_B: 0.0132\n"
          ]
        },
        {
          "output_type": "stream",
          "name": "stderr",
          "text": [
            " 35%|███▌      | 1402/4000 [03:21<06:27,  6.70it/s]"
          ]
        },
        {
          "output_type": "stream",
          "name": "stdout",
          "text": [
            "Epoch [2/100] Batch [1400] Loss_G: 6.7391, Loss_D_A: 0.1329, Loss_D_B: 0.0929\n"
          ]
        },
        {
          "output_type": "stream",
          "name": "stderr",
          "text": [
            " 38%|███▊      | 1502/4000 [03:38<06:18,  6.59it/s]"
          ]
        },
        {
          "output_type": "stream",
          "name": "stdout",
          "text": [
            "Epoch [2/100] Batch [1500] Loss_G: 5.3702, Loss_D_A: 0.0493, Loss_D_B: 0.1454\n"
          ]
        },
        {
          "output_type": "stream",
          "name": "stderr",
          "text": [
            " 40%|████      | 1602/4000 [03:56<05:56,  6.73it/s]"
          ]
        },
        {
          "output_type": "stream",
          "name": "stdout",
          "text": [
            "Epoch [2/100] Batch [1600] Loss_G: 5.6019, Loss_D_A: 0.2633, Loss_D_B: 0.0595\n"
          ]
        },
        {
          "output_type": "stream",
          "name": "stderr",
          "text": [
            " 43%|████▎     | 1702/4000 [04:11<06:03,  6.32it/s]"
          ]
        },
        {
          "output_type": "stream",
          "name": "stdout",
          "text": [
            "Epoch [2/100] Batch [1700] Loss_G: 6.2052, Loss_D_A: 0.2070, Loss_D_B: 0.0474\n"
          ]
        },
        {
          "output_type": "stream",
          "name": "stderr",
          "text": [
            " 45%|████▌     | 1802/4000 [04:26<05:13,  7.00it/s]"
          ]
        },
        {
          "output_type": "stream",
          "name": "stdout",
          "text": [
            "Epoch [2/100] Batch [1800] Loss_G: 9.4897, Loss_D_A: 0.0585, Loss_D_B: 0.0391\n"
          ]
        },
        {
          "output_type": "stream",
          "name": "stderr",
          "text": [
            " 48%|████▊     | 1902/4000 [04:41<04:56,  7.08it/s]"
          ]
        },
        {
          "output_type": "stream",
          "name": "stdout",
          "text": [
            "Epoch [2/100] Batch [1900] Loss_G: 7.8305, Loss_D_A: 0.1240, Loss_D_B: 0.0237\n"
          ]
        },
        {
          "output_type": "stream",
          "name": "stderr",
          "text": [
            " 50%|█████     | 2002/4000 [04:55<04:38,  7.17it/s]"
          ]
        },
        {
          "output_type": "stream",
          "name": "stdout",
          "text": [
            "Epoch [2/100] Batch [2000] Loss_G: 8.3056, Loss_D_A: 0.0593, Loss_D_B: 0.0874\n"
          ]
        },
        {
          "output_type": "stream",
          "name": "stderr",
          "text": [
            " 53%|█████▎    | 2102/4000 [05:10<04:23,  7.20it/s]"
          ]
        },
        {
          "output_type": "stream",
          "name": "stdout",
          "text": [
            "Epoch [2/100] Batch [2100] Loss_G: 8.7906, Loss_D_A: 0.0664, Loss_D_B: 0.2881\n"
          ]
        },
        {
          "output_type": "stream",
          "name": "stderr",
          "text": [
            " 55%|█████▌    | 2202/4000 [05:25<03:50,  7.80it/s]"
          ]
        },
        {
          "output_type": "stream",
          "name": "stdout",
          "text": [
            "Epoch [2/100] Batch [2200] Loss_G: 7.7306, Loss_D_A: 0.0398, Loss_D_B: 0.1138\n"
          ]
        },
        {
          "output_type": "stream",
          "name": "stderr",
          "text": [
            " 58%|█████▊    | 2302/4000 [05:40<03:52,  7.31it/s]"
          ]
        },
        {
          "output_type": "stream",
          "name": "stdout",
          "text": [
            "Epoch [2/100] Batch [2300] Loss_G: 5.5989, Loss_D_A: 0.1285, Loss_D_B: 0.0255\n"
          ]
        },
        {
          "output_type": "stream",
          "name": "stderr",
          "text": [
            " 60%|██████    | 2402/4000 [05:55<03:47,  7.01it/s]"
          ]
        },
        {
          "output_type": "stream",
          "name": "stdout",
          "text": [
            "Epoch [2/100] Batch [2400] Loss_G: 5.6191, Loss_D_A: 0.2278, Loss_D_B: 0.1119\n"
          ]
        },
        {
          "output_type": "stream",
          "name": "stderr",
          "text": [
            " 63%|██████▎   | 2502/4000 [06:10<03:36,  6.91it/s]"
          ]
        },
        {
          "output_type": "stream",
          "name": "stdout",
          "text": [
            "Epoch [2/100] Batch [2500] Loss_G: 5.9479, Loss_D_A: 0.2295, Loss_D_B: 0.0501\n"
          ]
        },
        {
          "output_type": "stream",
          "name": "stderr",
          "text": [
            " 65%|██████▌   | 2602/4000 [06:23<03:20,  6.98it/s]"
          ]
        },
        {
          "output_type": "stream",
          "name": "stdout",
          "text": [
            "Epoch [2/100] Batch [2600] Loss_G: 5.9325, Loss_D_A: 0.0416, Loss_D_B: 0.0473\n"
          ]
        },
        {
          "output_type": "stream",
          "name": "stderr",
          "text": [
            " 68%|██████▊   | 2702/4000 [06:38<02:57,  7.31it/s]"
          ]
        },
        {
          "output_type": "stream",
          "name": "stdout",
          "text": [
            "Epoch [2/100] Batch [2700] Loss_G: 5.7956, Loss_D_A: 0.1054, Loss_D_B: 0.0996\n"
          ]
        },
        {
          "output_type": "stream",
          "name": "stderr",
          "text": [
            " 70%|███████   | 2802/4000 [06:52<02:47,  7.13it/s]"
          ]
        },
        {
          "output_type": "stream",
          "name": "stdout",
          "text": [
            "Epoch [2/100] Batch [2800] Loss_G: 4.4078, Loss_D_A: 0.2153, Loss_D_B: 0.1037\n"
          ]
        },
        {
          "output_type": "stream",
          "name": "stderr",
          "text": [
            " 73%|███████▎  | 2902/4000 [07:06<02:31,  7.23it/s]"
          ]
        },
        {
          "output_type": "stream",
          "name": "stdout",
          "text": [
            "Epoch [2/100] Batch [2900] Loss_G: 5.2457, Loss_D_A: 0.0306, Loss_D_B: 0.0778\n"
          ]
        },
        {
          "output_type": "stream",
          "name": "stderr",
          "text": [
            " 75%|███████▌  | 3002/4000 [07:20<02:19,  7.17it/s]"
          ]
        },
        {
          "output_type": "stream",
          "name": "stdout",
          "text": [
            "Epoch [2/100] Batch [3000] Loss_G: 4.4921, Loss_D_A: 0.0753, Loss_D_B: 0.0519\n"
          ]
        },
        {
          "output_type": "stream",
          "name": "stderr",
          "text": [
            " 78%|███████▊  | 3102/4000 [07:34<02:04,  7.20it/s]"
          ]
        },
        {
          "output_type": "stream",
          "name": "stdout",
          "text": [
            "Epoch [2/100] Batch [3100] Loss_G: 5.4876, Loss_D_A: 0.2281, Loss_D_B: 0.0129\n"
          ]
        },
        {
          "output_type": "stream",
          "name": "stderr",
          "text": [
            " 80%|████████  | 3202/4000 [07:49<01:52,  7.11it/s]"
          ]
        },
        {
          "output_type": "stream",
          "name": "stdout",
          "text": [
            "Epoch [2/100] Batch [3200] Loss_G: 6.2649, Loss_D_A: 0.1624, Loss_D_B: 0.1406\n"
          ]
        },
        {
          "output_type": "stream",
          "name": "stderr",
          "text": [
            " 83%|████████▎ | 3302/4000 [08:03<01:40,  6.94it/s]"
          ]
        },
        {
          "output_type": "stream",
          "name": "stdout",
          "text": [
            "Epoch [2/100] Batch [3300] Loss_G: 7.2455, Loss_D_A: 0.0573, Loss_D_B: 0.0273\n"
          ]
        },
        {
          "output_type": "stream",
          "name": "stderr",
          "text": [
            " 85%|████████▌ | 3402/4000 [08:18<01:22,  7.21it/s]"
          ]
        },
        {
          "output_type": "stream",
          "name": "stdout",
          "text": [
            "Epoch [2/100] Batch [3400] Loss_G: 6.5917, Loss_D_A: 0.0958, Loss_D_B: 0.0846\n"
          ]
        },
        {
          "output_type": "stream",
          "name": "stderr",
          "text": [
            " 88%|████████▊ | 3502/4000 [08:32<01:03,  7.90it/s]"
          ]
        },
        {
          "output_type": "stream",
          "name": "stdout",
          "text": [
            "Epoch [2/100] Batch [3500] Loss_G: 7.2827, Loss_D_A: 0.0743, Loss_D_B: 0.0956\n"
          ]
        },
        {
          "output_type": "stream",
          "name": "stderr",
          "text": [
            " 90%|█████████ | 3602/4000 [08:46<00:52,  7.57it/s]"
          ]
        },
        {
          "output_type": "stream",
          "name": "stdout",
          "text": [
            "Epoch [2/100] Batch [3600] Loss_G: 5.8540, Loss_D_A: 0.0681, Loss_D_B: 0.0991\n"
          ]
        },
        {
          "output_type": "stream",
          "name": "stderr",
          "text": [
            " 93%|█████████▎| 3702/4000 [09:00<00:44,  6.63it/s]"
          ]
        },
        {
          "output_type": "stream",
          "name": "stdout",
          "text": [
            "Epoch [2/100] Batch [3700] Loss_G: 5.9741, Loss_D_A: 0.1381, Loss_D_B: 0.0223\n"
          ]
        },
        {
          "output_type": "stream",
          "name": "stderr",
          "text": [
            " 95%|█████████▌| 3802/4000 [09:14<00:28,  6.92it/s]"
          ]
        },
        {
          "output_type": "stream",
          "name": "stdout",
          "text": [
            "Epoch [2/100] Batch [3800] Loss_G: 5.3811, Loss_D_A: 0.1754, Loss_D_B: 0.0826\n"
          ]
        },
        {
          "output_type": "stream",
          "name": "stderr",
          "text": [
            " 98%|█████████▊| 3902/4000 [09:29<00:15,  6.22it/s]"
          ]
        },
        {
          "output_type": "stream",
          "name": "stdout",
          "text": [
            "Epoch [2/100] Batch [3900] Loss_G: 5.4353, Loss_D_A: 0.0512, Loss_D_B: 0.0404\n"
          ]
        },
        {
          "output_type": "stream",
          "name": "stderr",
          "text": [
            "100%|██████████| 4000/4000 [09:43<00:00,  6.85it/s]\n",
            "  0%|          | 2/4000 [00:00<08:03,  8.27it/s]"
          ]
        },
        {
          "output_type": "stream",
          "name": "stdout",
          "text": [
            "Epoch [3/100] Batch [0] Loss_G: 6.6582, Loss_D_A: 0.1120, Loss_D_B: 0.0816\n"
          ]
        },
        {
          "output_type": "stream",
          "name": "stderr",
          "text": [
            "  3%|▎         | 102/4000 [00:14<08:53,  7.30it/s]"
          ]
        },
        {
          "output_type": "stream",
          "name": "stdout",
          "text": [
            "Epoch [3/100] Batch [100] Loss_G: 5.5189, Loss_D_A: 0.1798, Loss_D_B: 0.2740\n"
          ]
        },
        {
          "output_type": "stream",
          "name": "stderr",
          "text": [
            "  5%|▌         | 202/4000 [00:28<08:56,  7.07it/s]"
          ]
        },
        {
          "output_type": "stream",
          "name": "stdout",
          "text": [
            "Epoch [3/100] Batch [200] Loss_G: 5.3780, Loss_D_A: 0.0999, Loss_D_B: 0.0430\n"
          ]
        },
        {
          "output_type": "stream",
          "name": "stderr",
          "text": [
            "  8%|▊         | 302/4000 [00:42<07:45,  7.95it/s]"
          ]
        },
        {
          "output_type": "stream",
          "name": "stdout",
          "text": [
            "Epoch [3/100] Batch [300] Loss_G: 7.0965, Loss_D_A: 0.1210, Loss_D_B: 0.0344\n"
          ]
        },
        {
          "output_type": "stream",
          "name": "stderr",
          "text": [
            " 10%|█         | 402/4000 [00:56<08:31,  7.04it/s]"
          ]
        },
        {
          "output_type": "stream",
          "name": "stdout",
          "text": [
            "Epoch [3/100] Batch [400] Loss_G: 8.1671, Loss_D_A: 0.0425, Loss_D_B: 0.0355\n"
          ]
        },
        {
          "output_type": "stream",
          "name": "stderr",
          "text": [
            " 13%|█▎        | 502/4000 [01:10<08:36,  6.78it/s]"
          ]
        },
        {
          "output_type": "stream",
          "name": "stdout",
          "text": [
            "Epoch [3/100] Batch [500] Loss_G: 6.2157, Loss_D_A: 0.0849, Loss_D_B: 0.0274\n"
          ]
        },
        {
          "output_type": "stream",
          "name": "stderr",
          "text": [
            " 15%|█▌        | 602/4000 [01:24<08:02,  7.05it/s]"
          ]
        },
        {
          "output_type": "stream",
          "name": "stdout",
          "text": [
            "Epoch [3/100] Batch [600] Loss_G: 7.9126, Loss_D_A: 0.1603, Loss_D_B: 0.0354\n"
          ]
        },
        {
          "output_type": "stream",
          "name": "stderr",
          "text": [
            " 18%|█▊        | 702/4000 [01:39<08:25,  6.52it/s]"
          ]
        },
        {
          "output_type": "stream",
          "name": "stdout",
          "text": [
            "Epoch [3/100] Batch [700] Loss_G: 6.2639, Loss_D_A: 0.0655, Loss_D_B: 0.0135\n"
          ]
        },
        {
          "output_type": "stream",
          "name": "stderr",
          "text": [
            " 20%|██        | 802/4000 [01:53<07:18,  7.29it/s]"
          ]
        },
        {
          "output_type": "stream",
          "name": "stdout",
          "text": [
            "Epoch [3/100] Batch [800] Loss_G: 5.3839, Loss_D_A: 0.2593, Loss_D_B: 0.0167\n"
          ]
        },
        {
          "output_type": "stream",
          "name": "stderr",
          "text": [
            " 23%|██▎       | 902/4000 [02:07<07:18,  7.06it/s]"
          ]
        },
        {
          "output_type": "stream",
          "name": "stdout",
          "text": [
            "Epoch [3/100] Batch [900] Loss_G: 7.5987, Loss_D_A: 0.2331, Loss_D_B: 0.0712\n"
          ]
        },
        {
          "output_type": "stream",
          "name": "stderr",
          "text": [
            " 25%|██▌       | 1002/4000 [02:22<07:15,  6.89it/s]"
          ]
        },
        {
          "output_type": "stream",
          "name": "stdout",
          "text": [
            "Epoch [3/100] Batch [1000] Loss_G: 6.9442, Loss_D_A: 0.1769, Loss_D_B: 0.0710\n"
          ]
        },
        {
          "output_type": "stream",
          "name": "stderr",
          "text": [
            " 28%|██▊       | 1102/4000 [02:36<06:37,  7.29it/s]"
          ]
        },
        {
          "output_type": "stream",
          "name": "stdout",
          "text": [
            "Epoch [3/100] Batch [1100] Loss_G: 6.0845, Loss_D_A: 0.1255, Loss_D_B: 0.0544\n"
          ]
        },
        {
          "output_type": "stream",
          "name": "stderr",
          "text": [
            " 30%|███       | 1202/4000 [02:50<06:33,  7.12it/s]"
          ]
        },
        {
          "output_type": "stream",
          "name": "stdout",
          "text": [
            "Epoch [3/100] Batch [1200] Loss_G: 6.1446, Loss_D_A: 0.0274, Loss_D_B: 0.0728\n"
          ]
        },
        {
          "output_type": "stream",
          "name": "stderr",
          "text": [
            " 33%|███▎      | 1302/4000 [03:04<05:57,  7.55it/s]"
          ]
        },
        {
          "output_type": "stream",
          "name": "stdout",
          "text": [
            "Epoch [3/100] Batch [1300] Loss_G: 5.6124, Loss_D_A: 0.0484, Loss_D_B: 0.0422\n"
          ]
        },
        {
          "output_type": "stream",
          "name": "stderr",
          "text": [
            " 35%|███▌      | 1402/4000 [03:18<06:04,  7.13it/s]"
          ]
        },
        {
          "output_type": "stream",
          "name": "stdout",
          "text": [
            "Epoch [3/100] Batch [1400] Loss_G: 5.3319, Loss_D_A: 0.1794, Loss_D_B: 0.0277\n"
          ]
        },
        {
          "output_type": "stream",
          "name": "stderr",
          "text": [
            " 38%|███▊      | 1502/4000 [03:32<06:00,  6.94it/s]"
          ]
        },
        {
          "output_type": "stream",
          "name": "stdout",
          "text": [
            "Epoch [3/100] Batch [1500] Loss_G: 7.2968, Loss_D_A: 0.1212, Loss_D_B: 0.0460\n"
          ]
        },
        {
          "output_type": "stream",
          "name": "stderr",
          "text": [
            " 40%|████      | 1602/4000 [03:47<05:34,  7.16it/s]"
          ]
        },
        {
          "output_type": "stream",
          "name": "stdout",
          "text": [
            "Epoch [3/100] Batch [1600] Loss_G: 6.5109, Loss_D_A: 0.1207, Loss_D_B: 0.0543\n"
          ]
        },
        {
          "output_type": "stream",
          "name": "stderr",
          "text": [
            " 43%|████▎     | 1702/4000 [04:01<05:07,  7.47it/s]"
          ]
        },
        {
          "output_type": "stream",
          "name": "stdout",
          "text": [
            "Epoch [3/100] Batch [1700] Loss_G: 6.9837, Loss_D_A: 0.0466, Loss_D_B: 0.0645\n"
          ]
        },
        {
          "output_type": "stream",
          "name": "stderr",
          "text": [
            " 45%|████▌     | 1802/4000 [04:15<05:07,  7.15it/s]"
          ]
        },
        {
          "output_type": "stream",
          "name": "stdout",
          "text": [
            "Epoch [3/100] Batch [1800] Loss_G: 8.4008, Loss_D_A: 0.1145, Loss_D_B: 0.0164\n"
          ]
        },
        {
          "output_type": "stream",
          "name": "stderr",
          "text": [
            " 48%|████▊     | 1902/4000 [04:29<05:04,  6.88it/s]"
          ]
        },
        {
          "output_type": "stream",
          "name": "stdout",
          "text": [
            "Epoch [3/100] Batch [1900] Loss_G: 6.0433, Loss_D_A: 0.2992, Loss_D_B: 0.0183\n"
          ]
        },
        {
          "output_type": "stream",
          "name": "stderr",
          "text": [
            " 50%|█████     | 2002/4000 [04:43<05:26,  6.12it/s]"
          ]
        },
        {
          "output_type": "stream",
          "name": "stdout",
          "text": [
            "Epoch [3/100] Batch [2000] Loss_G: 6.2373, Loss_D_A: 0.1750, Loss_D_B: 0.0469\n"
          ]
        },
        {
          "output_type": "stream",
          "name": "stderr",
          "text": [
            " 53%|█████▎    | 2102/4000 [04:58<04:50,  6.53it/s]"
          ]
        },
        {
          "output_type": "stream",
          "name": "stdout",
          "text": [
            "Epoch [3/100] Batch [2100] Loss_G: 6.3190, Loss_D_A: 0.0422, Loss_D_B: 0.0167\n"
          ]
        },
        {
          "output_type": "stream",
          "name": "stderr",
          "text": [
            " 55%|█████▌    | 2202/4000 [05:12<04:28,  6.70it/s]"
          ]
        },
        {
          "output_type": "stream",
          "name": "stdout",
          "text": [
            "Epoch [3/100] Batch [2200] Loss_G: 4.9870, Loss_D_A: 0.1496, Loss_D_B: 0.0176\n"
          ]
        },
        {
          "output_type": "stream",
          "name": "stderr",
          "text": [
            " 58%|█████▊    | 2302/4000 [05:26<04:18,  6.57it/s]"
          ]
        },
        {
          "output_type": "stream",
          "name": "stdout",
          "text": [
            "Epoch [3/100] Batch [2300] Loss_G: 7.9487, Loss_D_A: 0.1133, Loss_D_B: 0.0179\n"
          ]
        },
        {
          "output_type": "stream",
          "name": "stderr",
          "text": [
            " 60%|██████    | 2402/4000 [05:40<03:44,  7.13it/s]"
          ]
        },
        {
          "output_type": "stream",
          "name": "stdout",
          "text": [
            "Epoch [3/100] Batch [2400] Loss_G: 5.6451, Loss_D_A: 0.2083, Loss_D_B: 0.0396\n"
          ]
        },
        {
          "output_type": "stream",
          "name": "stderr",
          "text": [
            " 63%|██████▎   | 2502/4000 [05:54<03:18,  7.56it/s]"
          ]
        },
        {
          "output_type": "stream",
          "name": "stdout",
          "text": [
            "Epoch [3/100] Batch [2500] Loss_G: 6.7400, Loss_D_A: 0.1561, Loss_D_B: 0.1492\n"
          ]
        },
        {
          "output_type": "stream",
          "name": "stderr",
          "text": [
            " 65%|██████▌   | 2602/4000 [06:08<03:06,  7.50it/s]"
          ]
        },
        {
          "output_type": "stream",
          "name": "stdout",
          "text": [
            "Epoch [3/100] Batch [2600] Loss_G: 8.4034, Loss_D_A: 0.1426, Loss_D_B: 0.0657\n"
          ]
        },
        {
          "output_type": "stream",
          "name": "stderr",
          "text": [
            " 68%|██████▊   | 2702/4000 [06:22<02:59,  7.24it/s]"
          ]
        },
        {
          "output_type": "stream",
          "name": "stdout",
          "text": [
            "Epoch [3/100] Batch [2700] Loss_G: 9.1618, Loss_D_A: 0.0119, Loss_D_B: 0.0257\n"
          ]
        },
        {
          "output_type": "stream",
          "name": "stderr",
          "text": [
            " 70%|███████   | 2802/4000 [06:37<02:45,  7.23it/s]"
          ]
        },
        {
          "output_type": "stream",
          "name": "stdout",
          "text": [
            "Epoch [3/100] Batch [2800] Loss_G: 6.8670, Loss_D_A: 0.0450, Loss_D_B: 0.0309\n"
          ]
        },
        {
          "output_type": "stream",
          "name": "stderr",
          "text": [
            " 73%|███████▎  | 2902/4000 [06:51<02:30,  7.30it/s]"
          ]
        },
        {
          "output_type": "stream",
          "name": "stdout",
          "text": [
            "Epoch [3/100] Batch [2900] Loss_G: 6.0581, Loss_D_A: 0.0862, Loss_D_B: 0.0629\n"
          ]
        },
        {
          "output_type": "stream",
          "name": "stderr",
          "text": [
            " 75%|███████▌  | 3002/4000 [07:05<02:50,  5.87it/s]"
          ]
        },
        {
          "output_type": "stream",
          "name": "stdout",
          "text": [
            "Epoch [3/100] Batch [3000] Loss_G: 7.4110, Loss_D_A: 0.1421, Loss_D_B: 0.0163\n"
          ]
        },
        {
          "output_type": "stream",
          "name": "stderr",
          "text": [
            " 78%|███████▊  | 3102/4000 [07:19<02:10,  6.87it/s]"
          ]
        },
        {
          "output_type": "stream",
          "name": "stdout",
          "text": [
            "Epoch [3/100] Batch [3100] Loss_G: 7.0437, Loss_D_A: 0.2308, Loss_D_B: 0.0201\n"
          ]
        },
        {
          "output_type": "stream",
          "name": "stderr",
          "text": [
            " 80%|████████  | 3202/4000 [07:33<01:51,  7.16it/s]"
          ]
        },
        {
          "output_type": "stream",
          "name": "stdout",
          "text": [
            "Epoch [3/100] Batch [3200] Loss_G: 5.2280, Loss_D_A: 0.1733, Loss_D_B: 0.0343\n"
          ]
        },
        {
          "output_type": "stream",
          "name": "stderr",
          "text": [
            " 83%|████████▎ | 3302/4000 [07:47<01:31,  7.59it/s]"
          ]
        },
        {
          "output_type": "stream",
          "name": "stdout",
          "text": [
            "Epoch [3/100] Batch [3300] Loss_G: 7.6687, Loss_D_A: 0.3293, Loss_D_B: 0.2141\n"
          ]
        },
        {
          "output_type": "stream",
          "name": "stderr",
          "text": [
            " 85%|████████▌ | 3402/4000 [08:02<01:31,  6.51it/s]"
          ]
        },
        {
          "output_type": "stream",
          "name": "stdout",
          "text": [
            "Epoch [3/100] Batch [3400] Loss_G: 4.8431, Loss_D_A: 0.1299, Loss_D_B: 0.0327\n"
          ]
        },
        {
          "output_type": "stream",
          "name": "stderr",
          "text": [
            " 88%|████████▊ | 3502/4000 [08:17<01:19,  6.28it/s]"
          ]
        },
        {
          "output_type": "stream",
          "name": "stdout",
          "text": [
            "Epoch [3/100] Batch [3500] Loss_G: 6.6927, Loss_D_A: 0.2436, Loss_D_B: 0.0205\n"
          ]
        },
        {
          "output_type": "stream",
          "name": "stderr",
          "text": [
            " 90%|█████████ | 3602/4000 [08:31<00:52,  7.56it/s]"
          ]
        },
        {
          "output_type": "stream",
          "name": "stdout",
          "text": [
            "Epoch [3/100] Batch [3600] Loss_G: 8.8593, Loss_D_A: 0.2765, Loss_D_B: 0.0235\n"
          ]
        },
        {
          "output_type": "stream",
          "name": "stderr",
          "text": [
            " 93%|█████████▎| 3702/4000 [08:45<00:45,  6.55it/s]"
          ]
        },
        {
          "output_type": "stream",
          "name": "stdout",
          "text": [
            "Epoch [3/100] Batch [3700] Loss_G: 6.9442, Loss_D_A: 0.0679, Loss_D_B: 0.0581\n"
          ]
        },
        {
          "output_type": "stream",
          "name": "stderr",
          "text": [
            " 95%|█████████▌| 3802/4000 [08:59<00:26,  7.49it/s]"
          ]
        },
        {
          "output_type": "stream",
          "name": "stdout",
          "text": [
            "Epoch [3/100] Batch [3800] Loss_G: 5.6386, Loss_D_A: 0.1156, Loss_D_B: 0.0212\n"
          ]
        },
        {
          "output_type": "stream",
          "name": "stderr",
          "text": [
            " 98%|█████████▊| 3902/4000 [09:13<00:13,  7.04it/s]"
          ]
        },
        {
          "output_type": "stream",
          "name": "stdout",
          "text": [
            "Epoch [3/100] Batch [3900] Loss_G: 5.7615, Loss_D_A: 0.0397, Loss_D_B: 0.0219\n"
          ]
        },
        {
          "output_type": "stream",
          "name": "stderr",
          "text": [
            "100%|██████████| 4000/4000 [09:27<00:00,  7.05it/s]\n",
            "  0%|          | 2/4000 [00:00<09:24,  7.08it/s]"
          ]
        },
        {
          "output_type": "stream",
          "name": "stdout",
          "text": [
            "Epoch [4/100] Batch [0] Loss_G: 6.2477, Loss_D_A: 0.0618, Loss_D_B: 0.0627\n"
          ]
        },
        {
          "output_type": "stream",
          "name": "stderr",
          "text": [
            "  3%|▎         | 102/4000 [00:14<09:13,  7.04it/s]"
          ]
        },
        {
          "output_type": "stream",
          "name": "stdout",
          "text": [
            "Epoch [4/100] Batch [100] Loss_G: 8.3061, Loss_D_A: 0.0182, Loss_D_B: 0.0494\n"
          ]
        },
        {
          "output_type": "stream",
          "name": "stderr",
          "text": [
            "  5%|▌         | 202/4000 [00:28<09:01,  7.01it/s]"
          ]
        },
        {
          "output_type": "stream",
          "name": "stdout",
          "text": [
            "Epoch [4/100] Batch [200] Loss_G: 5.8856, Loss_D_A: 0.1186, Loss_D_B: 0.0455\n"
          ]
        },
        {
          "output_type": "stream",
          "name": "stderr",
          "text": [
            "  8%|▊         | 302/4000 [00:42<09:06,  6.76it/s]"
          ]
        },
        {
          "output_type": "stream",
          "name": "stdout",
          "text": [
            "Epoch [4/100] Batch [300] Loss_G: 5.8645, Loss_D_A: 0.3785, Loss_D_B: 0.0677\n"
          ]
        },
        {
          "output_type": "stream",
          "name": "stderr",
          "text": [
            " 10%|█         | 402/4000 [00:56<09:01,  6.64it/s]"
          ]
        },
        {
          "output_type": "stream",
          "name": "stdout",
          "text": [
            "Epoch [4/100] Batch [400] Loss_G: 4.8819, Loss_D_A: 0.0273, Loss_D_B: 0.0300\n"
          ]
        },
        {
          "output_type": "stream",
          "name": "stderr",
          "text": [
            " 13%|█▎        | 502/4000 [01:11<08:00,  7.28it/s]"
          ]
        },
        {
          "output_type": "stream",
          "name": "stdout",
          "text": [
            "Epoch [4/100] Batch [500] Loss_G: 7.8995, Loss_D_A: 0.0439, Loss_D_B: 0.0649\n"
          ]
        },
        {
          "output_type": "stream",
          "name": "stderr",
          "text": [
            " 15%|█▌        | 602/4000 [01:25<08:00,  7.07it/s]"
          ]
        },
        {
          "output_type": "stream",
          "name": "stdout",
          "text": [
            "Epoch [4/100] Batch [600] Loss_G: 4.9553, Loss_D_A: 0.1211, Loss_D_B: 0.0135\n"
          ]
        },
        {
          "output_type": "stream",
          "name": "stderr",
          "text": [
            " 18%|█▊        | 702/4000 [01:40<08:16,  6.65it/s]"
          ]
        },
        {
          "output_type": "stream",
          "name": "stdout",
          "text": [
            "Epoch [4/100] Batch [700] Loss_G: 4.3455, Loss_D_A: 0.0735, Loss_D_B: 0.0165\n"
          ]
        },
        {
          "output_type": "stream",
          "name": "stderr",
          "text": [
            " 20%|██        | 802/4000 [01:54<07:33,  7.05it/s]"
          ]
        },
        {
          "output_type": "stream",
          "name": "stdout",
          "text": [
            "Epoch [4/100] Batch [800] Loss_G: 5.6674, Loss_D_A: 0.0207, Loss_D_B: 0.0152\n"
          ]
        },
        {
          "output_type": "stream",
          "name": "stderr",
          "text": [
            " 23%|██▎       | 902/4000 [02:09<07:39,  6.75it/s]"
          ]
        },
        {
          "output_type": "stream",
          "name": "stdout",
          "text": [
            "Epoch [4/100] Batch [900] Loss_G: 6.2459, Loss_D_A: 0.1273, Loss_D_B: 0.1446\n"
          ]
        },
        {
          "output_type": "stream",
          "name": "stderr",
          "text": [
            " 25%|██▌       | 1002/4000 [02:23<07:28,  6.69it/s]"
          ]
        },
        {
          "output_type": "stream",
          "name": "stdout",
          "text": [
            "Epoch [4/100] Batch [1000] Loss_G: 8.5166, Loss_D_A: 0.0400, Loss_D_B: 0.0294\n"
          ]
        },
        {
          "output_type": "stream",
          "name": "stderr",
          "text": [
            " 28%|██▊       | 1102/4000 [02:38<06:55,  6.98it/s]"
          ]
        },
        {
          "output_type": "stream",
          "name": "stdout",
          "text": [
            "Epoch [4/100] Batch [1100] Loss_G: 5.9971, Loss_D_A: 0.4340, Loss_D_B: 0.0432\n"
          ]
        },
        {
          "output_type": "stream",
          "name": "stderr",
          "text": [
            " 30%|███       | 1202/4000 [02:52<07:19,  6.37it/s]"
          ]
        },
        {
          "output_type": "stream",
          "name": "stdout",
          "text": [
            "Epoch [4/100] Batch [1200] Loss_G: 6.3312, Loss_D_A: 0.2171, Loss_D_B: 0.0610\n"
          ]
        },
        {
          "output_type": "stream",
          "name": "stderr",
          "text": [
            " 33%|███▎      | 1302/4000 [03:06<06:19,  7.12it/s]"
          ]
        },
        {
          "output_type": "stream",
          "name": "stdout",
          "text": [
            "Epoch [4/100] Batch [1300] Loss_G: 9.1340, Loss_D_A: 0.1209, Loss_D_B: 0.0321\n"
          ]
        },
        {
          "output_type": "stream",
          "name": "stderr",
          "text": [
            " 35%|███▌      | 1402/4000 [03:20<06:11,  6.99it/s]"
          ]
        },
        {
          "output_type": "stream",
          "name": "stdout",
          "text": [
            "Epoch [4/100] Batch [1400] Loss_G: 4.6563, Loss_D_A: 0.1095, Loss_D_B: 0.0313\n"
          ]
        },
        {
          "output_type": "stream",
          "name": "stderr",
          "text": [
            " 38%|███▊      | 1502/4000 [03:35<05:49,  7.15it/s]"
          ]
        },
        {
          "output_type": "stream",
          "name": "stdout",
          "text": [
            "Epoch [4/100] Batch [1500] Loss_G: 5.2010, Loss_D_A: 0.1764, Loss_D_B: 0.0191\n"
          ]
        },
        {
          "output_type": "stream",
          "name": "stderr",
          "text": [
            " 40%|████      | 1602/4000 [03:49<05:35,  7.15it/s]"
          ]
        },
        {
          "output_type": "stream",
          "name": "stdout",
          "text": [
            "Epoch [4/100] Batch [1600] Loss_G: 6.8656, Loss_D_A: 0.1497, Loss_D_B: 0.0289\n"
          ]
        },
        {
          "output_type": "stream",
          "name": "stderr",
          "text": [
            " 43%|████▎     | 1702/4000 [04:03<05:24,  7.09it/s]"
          ]
        },
        {
          "output_type": "stream",
          "name": "stdout",
          "text": [
            "Epoch [4/100] Batch [1700] Loss_G: 4.5160, Loss_D_A: 0.0370, Loss_D_B: 0.0511\n"
          ]
        },
        {
          "output_type": "stream",
          "name": "stderr",
          "text": [
            " 45%|████▌     | 1801/4000 [04:17<05:06,  7.18it/s]"
          ]
        },
        {
          "output_type": "stream",
          "name": "stdout",
          "text": [
            "Epoch [4/100] Batch [1800] Loss_G: 9.1558, Loss_D_A: 0.0920, Loss_D_B: 0.0477\n"
          ]
        },
        {
          "output_type": "stream",
          "name": "stderr",
          "text": [
            " 48%|████▊     | 1902/4000 [04:31<05:00,  6.98it/s]"
          ]
        },
        {
          "output_type": "stream",
          "name": "stdout",
          "text": [
            "Epoch [4/100] Batch [1900] Loss_G: 6.6858, Loss_D_A: 0.1232, Loss_D_B: 0.0659\n"
          ]
        },
        {
          "output_type": "stream",
          "name": "stderr",
          "text": [
            " 50%|█████     | 2002/4000 [04:45<04:58,  6.69it/s]"
          ]
        },
        {
          "output_type": "stream",
          "name": "stdout",
          "text": [
            "Epoch [4/100] Batch [2000] Loss_G: 5.7341, Loss_D_A: 0.1762, Loss_D_B: 0.0514\n"
          ]
        },
        {
          "output_type": "stream",
          "name": "stderr",
          "text": [
            " 53%|█████▎    | 2102/4000 [04:59<04:45,  6.65it/s]"
          ]
        },
        {
          "output_type": "stream",
          "name": "stdout",
          "text": [
            "Epoch [4/100] Batch [2100] Loss_G: 4.1784, Loss_D_A: 0.2079, Loss_D_B: 0.1870\n"
          ]
        },
        {
          "output_type": "stream",
          "name": "stderr",
          "text": [
            " 55%|█████▌    | 2202/4000 [05:13<04:12,  7.13it/s]"
          ]
        },
        {
          "output_type": "stream",
          "name": "stdout",
          "text": [
            "Epoch [4/100] Batch [2200] Loss_G: 6.6698, Loss_D_A: 0.2199, Loss_D_B: 0.0838\n"
          ]
        },
        {
          "output_type": "stream",
          "name": "stderr",
          "text": [
            " 58%|█████▊    | 2302/4000 [05:27<03:52,  7.29it/s]"
          ]
        },
        {
          "output_type": "stream",
          "name": "stdout",
          "text": [
            "Epoch [4/100] Batch [2300] Loss_G: 5.5744, Loss_D_A: 0.2786, Loss_D_B: 0.0791\n"
          ]
        },
        {
          "output_type": "stream",
          "name": "stderr",
          "text": [
            " 60%|██████    | 2402/4000 [05:41<03:28,  7.67it/s]"
          ]
        },
        {
          "output_type": "stream",
          "name": "stdout",
          "text": [
            "Epoch [4/100] Batch [2400] Loss_G: 5.1422, Loss_D_A: 0.1004, Loss_D_B: 0.0365\n"
          ]
        },
        {
          "output_type": "stream",
          "name": "stderr",
          "text": [
            " 63%|██████▎   | 2502/4000 [05:56<03:18,  7.55it/s]"
          ]
        },
        {
          "output_type": "stream",
          "name": "stdout",
          "text": [
            "Epoch [4/100] Batch [2500] Loss_G: 7.3755, Loss_D_A: 0.3999, Loss_D_B: 0.0140\n"
          ]
        },
        {
          "output_type": "stream",
          "name": "stderr",
          "text": [
            " 65%|██████▌   | 2602/4000 [06:10<03:29,  6.69it/s]"
          ]
        },
        {
          "output_type": "stream",
          "name": "stdout",
          "text": [
            "Epoch [4/100] Batch [2600] Loss_G: 7.5335, Loss_D_A: 0.1573, Loss_D_B: 0.0263\n"
          ]
        },
        {
          "output_type": "stream",
          "name": "stderr",
          "text": [
            " 68%|██████▊   | 2702/4000 [06:24<02:55,  7.41it/s]"
          ]
        },
        {
          "output_type": "stream",
          "name": "stdout",
          "text": [
            "Epoch [4/100] Batch [2700] Loss_G: 5.4757, Loss_D_A: 0.1035, Loss_D_B: 0.0278\n"
          ]
        },
        {
          "output_type": "stream",
          "name": "stderr",
          "text": [
            " 70%|███████   | 2802/4000 [06:38<02:32,  7.84it/s]"
          ]
        },
        {
          "output_type": "stream",
          "name": "stdout",
          "text": [
            "Epoch [4/100] Batch [2800] Loss_G: 5.6630, Loss_D_A: 0.0820, Loss_D_B: 0.0256\n"
          ]
        },
        {
          "output_type": "stream",
          "name": "stderr",
          "text": [
            " 73%|███████▎  | 2902/4000 [06:53<02:40,  6.84it/s]"
          ]
        },
        {
          "output_type": "stream",
          "name": "stdout",
          "text": [
            "Epoch [4/100] Batch [2900] Loss_G: 7.3538, Loss_D_A: 0.0663, Loss_D_B: 0.0376\n"
          ]
        },
        {
          "output_type": "stream",
          "name": "stderr",
          "text": [
            " 75%|███████▌  | 3002/4000 [07:07<02:17,  7.24it/s]"
          ]
        },
        {
          "output_type": "stream",
          "name": "stdout",
          "text": [
            "Epoch [4/100] Batch [3000] Loss_G: 6.3117, Loss_D_A: 0.1726, Loss_D_B: 0.0187\n"
          ]
        },
        {
          "output_type": "stream",
          "name": "stderr",
          "text": [
            " 78%|███████▊  | 3102/4000 [07:22<02:05,  7.17it/s]"
          ]
        },
        {
          "output_type": "stream",
          "name": "stdout",
          "text": [
            "Epoch [4/100] Batch [3100] Loss_G: 8.1087, Loss_D_A: 0.1521, Loss_D_B: 0.0270\n"
          ]
        },
        {
          "output_type": "stream",
          "name": "stderr",
          "text": [
            " 80%|████████  | 3202/4000 [07:37<01:53,  7.05it/s]"
          ]
        },
        {
          "output_type": "stream",
          "name": "stdout",
          "text": [
            "Epoch [4/100] Batch [3200] Loss_G: 6.1879, Loss_D_A: 0.3068, Loss_D_B: 0.0381\n"
          ]
        },
        {
          "output_type": "stream",
          "name": "stderr",
          "text": [
            " 83%|████████▎ | 3302/4000 [07:51<01:42,  6.79it/s]"
          ]
        },
        {
          "output_type": "stream",
          "name": "stdout",
          "text": [
            "Epoch [4/100] Batch [3300] Loss_G: 7.1955, Loss_D_A: 0.1261, Loss_D_B: 0.0118\n"
          ]
        },
        {
          "output_type": "stream",
          "name": "stderr",
          "text": [
            " 85%|████████▌ | 3402/4000 [08:05<01:39,  6.03it/s]"
          ]
        },
        {
          "output_type": "stream",
          "name": "stdout",
          "text": [
            "Epoch [4/100] Batch [3400] Loss_G: 7.0947, Loss_D_A: 0.2114, Loss_D_B: 0.1020\n"
          ]
        },
        {
          "output_type": "stream",
          "name": "stderr",
          "text": [
            " 88%|████████▊ | 3502/4000 [08:20<01:25,  5.81it/s]"
          ]
        },
        {
          "output_type": "stream",
          "name": "stdout",
          "text": [
            "Epoch [4/100] Batch [3500] Loss_G: 5.1808, Loss_D_A: 0.1350, Loss_D_B: 0.0170\n"
          ]
        },
        {
          "output_type": "stream",
          "name": "stderr",
          "text": [
            " 90%|█████████ | 3602/4000 [08:34<00:50,  7.84it/s]"
          ]
        },
        {
          "output_type": "stream",
          "name": "stdout",
          "text": [
            "Epoch [4/100] Batch [3600] Loss_G: 8.1436, Loss_D_A: 0.0856, Loss_D_B: 0.0260\n"
          ]
        },
        {
          "output_type": "stream",
          "name": "stderr",
          "text": [
            " 93%|█████████▎| 3702/4000 [08:47<00:42,  7.03it/s]"
          ]
        },
        {
          "output_type": "stream",
          "name": "stdout",
          "text": [
            "Epoch [4/100] Batch [3700] Loss_G: 4.7950, Loss_D_A: 0.0521, Loss_D_B: 0.0301\n"
          ]
        },
        {
          "output_type": "stream",
          "name": "stderr",
          "text": [
            " 95%|█████████▌| 3802/4000 [09:01<00:26,  7.45it/s]"
          ]
        },
        {
          "output_type": "stream",
          "name": "stdout",
          "text": [
            "Epoch [4/100] Batch [3800] Loss_G: 5.2563, Loss_D_A: 0.0870, Loss_D_B: 0.0464\n"
          ]
        },
        {
          "output_type": "stream",
          "name": "stderr",
          "text": [
            " 98%|█████████▊| 3902/4000 [09:16<00:14,  6.93it/s]"
          ]
        },
        {
          "output_type": "stream",
          "name": "stdout",
          "text": [
            "Epoch [4/100] Batch [3900] Loss_G: 5.1001, Loss_D_A: 0.0829, Loss_D_B: 0.0398\n"
          ]
        },
        {
          "output_type": "stream",
          "name": "stderr",
          "text": [
            "100%|██████████| 4000/4000 [09:29<00:00,  7.02it/s]\n",
            "  0%|          | 2/4000 [00:00<09:57,  6.69it/s]"
          ]
        },
        {
          "output_type": "stream",
          "name": "stdout",
          "text": [
            "Epoch [5/100] Batch [0] Loss_G: 5.1291, Loss_D_A: 0.2059, Loss_D_B: 0.0422\n"
          ]
        },
        {
          "output_type": "stream",
          "name": "stderr",
          "text": [
            "  3%|▎         | 102/4000 [00:14<09:34,  6.78it/s]"
          ]
        },
        {
          "output_type": "stream",
          "name": "stdout",
          "text": [
            "Epoch [5/100] Batch [100] Loss_G: 6.6152, Loss_D_A: 0.0988, Loss_D_B: 0.0183\n"
          ]
        },
        {
          "output_type": "stream",
          "name": "stderr",
          "text": [
            "  5%|▌         | 202/4000 [00:28<09:12,  6.87it/s]"
          ]
        },
        {
          "output_type": "stream",
          "name": "stdout",
          "text": [
            "Epoch [5/100] Batch [200] Loss_G: 3.8439, Loss_D_A: 0.2115, Loss_D_B: 0.0308\n"
          ]
        },
        {
          "output_type": "stream",
          "name": "stderr",
          "text": [
            "  8%|▊         | 302/4000 [00:43<09:11,  6.71it/s]"
          ]
        },
        {
          "output_type": "stream",
          "name": "stdout",
          "text": [
            "Epoch [5/100] Batch [300] Loss_G: 5.7670, Loss_D_A: 0.1209, Loss_D_B: 0.0192\n"
          ]
        },
        {
          "output_type": "stream",
          "name": "stderr",
          "text": [
            " 10%|█         | 402/4000 [00:56<08:03,  7.44it/s]"
          ]
        },
        {
          "output_type": "stream",
          "name": "stdout",
          "text": [
            "Epoch [5/100] Batch [400] Loss_G: 6.3663, Loss_D_A: 0.0628, Loss_D_B: 0.0322\n"
          ]
        },
        {
          "output_type": "stream",
          "name": "stderr",
          "text": [
            " 13%|█▎        | 502/4000 [01:10<08:13,  7.09it/s]"
          ]
        },
        {
          "output_type": "stream",
          "name": "stdout",
          "text": [
            "Epoch [5/100] Batch [500] Loss_G: 5.8597, Loss_D_A: 0.0692, Loss_D_B: 0.0260\n"
          ]
        },
        {
          "output_type": "stream",
          "name": "stderr",
          "text": [
            " 15%|█▌        | 602/4000 [01:25<07:57,  7.12it/s]"
          ]
        },
        {
          "output_type": "stream",
          "name": "stdout",
          "text": [
            "Epoch [5/100] Batch [600] Loss_G: 6.1974, Loss_D_A: 0.1425, Loss_D_B: 0.0839\n"
          ]
        },
        {
          "output_type": "stream",
          "name": "stderr",
          "text": [
            " 18%|█▊        | 702/4000 [01:39<08:40,  6.33it/s]"
          ]
        },
        {
          "output_type": "stream",
          "name": "stdout",
          "text": [
            "Epoch [5/100] Batch [700] Loss_G: 6.8347, Loss_D_A: 0.3573, Loss_D_B: 0.1291\n"
          ]
        },
        {
          "output_type": "stream",
          "name": "stderr",
          "text": [
            " 20%|██        | 802/4000 [01:53<08:17,  6.42it/s]"
          ]
        },
        {
          "output_type": "stream",
          "name": "stdout",
          "text": [
            "Epoch [5/100] Batch [800] Loss_G: 6.2675, Loss_D_A: 0.2510, Loss_D_B: 0.0214\n"
          ]
        },
        {
          "output_type": "stream",
          "name": "stderr",
          "text": [
            " 23%|██▎       | 902/4000 [02:07<07:27,  6.93it/s]"
          ]
        },
        {
          "output_type": "stream",
          "name": "stdout",
          "text": [
            "Epoch [5/100] Batch [900] Loss_G: 5.5003, Loss_D_A: 0.2432, Loss_D_B: 0.0379\n"
          ]
        },
        {
          "output_type": "stream",
          "name": "stderr",
          "text": [
            " 25%|██▌       | 1002/4000 [02:21<07:12,  6.93it/s]"
          ]
        },
        {
          "output_type": "stream",
          "name": "stdout",
          "text": [
            "Epoch [5/100] Batch [1000] Loss_G: 6.1952, Loss_D_A: 0.1023, Loss_D_B: 0.0315\n"
          ]
        },
        {
          "output_type": "stream",
          "name": "stderr",
          "text": [
            " 28%|██▊       | 1102/4000 [02:35<07:01,  6.87it/s]"
          ]
        },
        {
          "output_type": "stream",
          "name": "stdout",
          "text": [
            "Epoch [5/100] Batch [1100] Loss_G: 6.3483, Loss_D_A: 0.2240, Loss_D_B: 0.0373\n"
          ]
        },
        {
          "output_type": "stream",
          "name": "stderr",
          "text": [
            " 30%|███       | 1202/4000 [02:50<06:57,  6.71it/s]"
          ]
        },
        {
          "output_type": "stream",
          "name": "stdout",
          "text": [
            "Epoch [5/100] Batch [1200] Loss_G: 4.9689, Loss_D_A: 0.0992, Loss_D_B: 0.0107\n"
          ]
        },
        {
          "output_type": "stream",
          "name": "stderr",
          "text": [
            " 33%|███▎      | 1302/4000 [03:04<06:19,  7.11it/s]"
          ]
        },
        {
          "output_type": "stream",
          "name": "stdout",
          "text": [
            "Epoch [5/100] Batch [1300] Loss_G: 4.3588, Loss_D_A: 0.2276, Loss_D_B: 0.0792\n"
          ]
        },
        {
          "output_type": "stream",
          "name": "stderr",
          "text": [
            " 35%|███▌      | 1402/4000 [03:17<05:46,  7.50it/s]"
          ]
        },
        {
          "output_type": "stream",
          "name": "stdout",
          "text": [
            "Epoch [5/100] Batch [1400] Loss_G: 6.9315, Loss_D_A: 0.0201, Loss_D_B: 0.0753\n"
          ]
        },
        {
          "output_type": "stream",
          "name": "stderr",
          "text": [
            " 38%|███▊      | 1502/4000 [03:31<05:28,  7.60it/s]"
          ]
        },
        {
          "output_type": "stream",
          "name": "stdout",
          "text": [
            "Epoch [5/100] Batch [1500] Loss_G: 7.5635, Loss_D_A: 0.1035, Loss_D_B: 0.0222\n"
          ]
        },
        {
          "output_type": "stream",
          "name": "stderr",
          "text": [
            " 40%|████      | 1602/4000 [03:46<05:34,  7.16it/s]"
          ]
        },
        {
          "output_type": "stream",
          "name": "stdout",
          "text": [
            "Epoch [5/100] Batch [1600] Loss_G: 5.5737, Loss_D_A: 0.1025, Loss_D_B: 0.0355\n"
          ]
        },
        {
          "output_type": "stream",
          "name": "stderr",
          "text": [
            " 43%|████▎     | 1702/4000 [04:00<04:57,  7.73it/s]"
          ]
        },
        {
          "output_type": "stream",
          "name": "stdout",
          "text": [
            "Epoch [5/100] Batch [1700] Loss_G: 5.3173, Loss_D_A: 0.2451, Loss_D_B: 0.0287\n"
          ]
        },
        {
          "output_type": "stream",
          "name": "stderr",
          "text": [
            " 45%|████▌     | 1802/4000 [04:14<05:09,  7.10it/s]"
          ]
        },
        {
          "output_type": "stream",
          "name": "stdout",
          "text": [
            "Epoch [5/100] Batch [1800] Loss_G: 5.6734, Loss_D_A: 0.0962, Loss_D_B: 0.0232\n"
          ]
        },
        {
          "output_type": "stream",
          "name": "stderr",
          "text": [
            " 48%|████▊     | 1902/4000 [04:28<04:41,  7.44it/s]"
          ]
        },
        {
          "output_type": "stream",
          "name": "stdout",
          "text": [
            "Epoch [5/100] Batch [1900] Loss_G: 6.3484, Loss_D_A: 0.0662, Loss_D_B: 0.0682\n"
          ]
        },
        {
          "output_type": "stream",
          "name": "stderr",
          "text": [
            " 50%|█████     | 2002/4000 [04:42<04:49,  6.89it/s]"
          ]
        },
        {
          "output_type": "stream",
          "name": "stdout",
          "text": [
            "Epoch [5/100] Batch [2000] Loss_G: 6.0069, Loss_D_A: 0.0863, Loss_D_B: 0.0175\n"
          ]
        },
        {
          "output_type": "stream",
          "name": "stderr",
          "text": [
            " 53%|█████▎    | 2102/4000 [04:57<04:43,  6.69it/s]"
          ]
        },
        {
          "output_type": "stream",
          "name": "stdout",
          "text": [
            "Epoch [5/100] Batch [2100] Loss_G: 5.8101, Loss_D_A: 0.0856, Loss_D_B: 0.0141\n"
          ]
        },
        {
          "output_type": "stream",
          "name": "stderr",
          "text": [
            " 55%|█████▌    | 2202/4000 [05:10<04:13,  7.08it/s]"
          ]
        },
        {
          "output_type": "stream",
          "name": "stdout",
          "text": [
            "Epoch [5/100] Batch [2200] Loss_G: 6.2759, Loss_D_A: 0.1940, Loss_D_B: 0.0425\n"
          ]
        },
        {
          "output_type": "stream",
          "name": "stderr",
          "text": [
            " 58%|█████▊    | 2302/4000 [05:25<04:02,  7.01it/s]"
          ]
        },
        {
          "output_type": "stream",
          "name": "stdout",
          "text": [
            "Epoch [5/100] Batch [2300] Loss_G: 5.8199, Loss_D_A: 0.2423, Loss_D_B: 0.0244\n"
          ]
        },
        {
          "output_type": "stream",
          "name": "stderr",
          "text": [
            " 60%|██████    | 2402/4000 [05:38<03:34,  7.45it/s]"
          ]
        },
        {
          "output_type": "stream",
          "name": "stdout",
          "text": [
            "Epoch [5/100] Batch [2400] Loss_G: 6.1048, Loss_D_A: 0.1205, Loss_D_B: 0.1290\n"
          ]
        },
        {
          "output_type": "stream",
          "name": "stderr",
          "text": [
            " 63%|██████▎   | 2502/4000 [05:52<03:14,  7.71it/s]"
          ]
        },
        {
          "output_type": "stream",
          "name": "stdout",
          "text": [
            "Epoch [5/100] Batch [2500] Loss_G: 5.7850, Loss_D_A: 0.1348, Loss_D_B: 0.0225\n"
          ]
        },
        {
          "output_type": "stream",
          "name": "stderr",
          "text": [
            " 65%|██████▌   | 2602/4000 [06:07<03:39,  6.38it/s]"
          ]
        },
        {
          "output_type": "stream",
          "name": "stdout",
          "text": [
            "Epoch [5/100] Batch [2600] Loss_G: 9.4429, Loss_D_A: 0.0680, Loss_D_B: 0.0159\n"
          ]
        },
        {
          "output_type": "stream",
          "name": "stderr",
          "text": [
            " 68%|██████▊   | 2702/4000 [06:21<03:21,  6.45it/s]"
          ]
        },
        {
          "output_type": "stream",
          "name": "stdout",
          "text": [
            "Epoch [5/100] Batch [2700] Loss_G: 6.6584, Loss_D_A: 0.0642, Loss_D_B: 0.0130\n"
          ]
        },
        {
          "output_type": "stream",
          "name": "stderr",
          "text": [
            " 70%|███████   | 2802/4000 [06:35<02:42,  7.35it/s]"
          ]
        },
        {
          "output_type": "stream",
          "name": "stdout",
          "text": [
            "Epoch [5/100] Batch [2800] Loss_G: 6.8666, Loss_D_A: 0.1234, Loss_D_B: 0.0337\n"
          ]
        },
        {
          "output_type": "stream",
          "name": "stderr",
          "text": [
            " 73%|███████▎  | 2902/4000 [06:49<02:44,  6.67it/s]"
          ]
        },
        {
          "output_type": "stream",
          "name": "stdout",
          "text": [
            "Epoch [5/100] Batch [2900] Loss_G: 4.1275, Loss_D_A: 0.0381, Loss_D_B: 0.0136\n"
          ]
        },
        {
          "output_type": "stream",
          "name": "stderr",
          "text": [
            " 75%|███████▌  | 3002/4000 [07:03<02:14,  7.44it/s]"
          ]
        },
        {
          "output_type": "stream",
          "name": "stdout",
          "text": [
            "Epoch [5/100] Batch [3000] Loss_G: 7.5317, Loss_D_A: 0.0283, Loss_D_B: 0.0262\n"
          ]
        },
        {
          "output_type": "stream",
          "name": "stderr",
          "text": [
            " 78%|███████▊  | 3102/4000 [07:18<02:09,  6.93it/s]"
          ]
        },
        {
          "output_type": "stream",
          "name": "stdout",
          "text": [
            "Epoch [5/100] Batch [3100] Loss_G: 6.7906, Loss_D_A: 0.1605, Loss_D_B: 0.0319\n"
          ]
        },
        {
          "output_type": "stream",
          "name": "stderr",
          "text": [
            " 80%|████████  | 3202/4000 [07:32<01:54,  6.96it/s]"
          ]
        },
        {
          "output_type": "stream",
          "name": "stdout",
          "text": [
            "Epoch [5/100] Batch [3200] Loss_G: 4.8532, Loss_D_A: 0.3068, Loss_D_B: 0.0719\n"
          ]
        },
        {
          "output_type": "stream",
          "name": "stderr",
          "text": [
            " 83%|████████▎ | 3302/4000 [07:46<01:46,  6.53it/s]"
          ]
        },
        {
          "output_type": "stream",
          "name": "stdout",
          "text": [
            "Epoch [5/100] Batch [3300] Loss_G: 5.5416, Loss_D_A: 0.2303, Loss_D_B: 0.0203\n"
          ]
        },
        {
          "output_type": "stream",
          "name": "stderr",
          "text": [
            " 85%|████████▌ | 3402/4000 [08:01<01:19,  7.54it/s]"
          ]
        },
        {
          "output_type": "stream",
          "name": "stdout",
          "text": [
            "Epoch [5/100] Batch [3400] Loss_G: 4.8557, Loss_D_A: 0.1000, Loss_D_B: 0.0159\n"
          ]
        },
        {
          "output_type": "stream",
          "name": "stderr",
          "text": [
            " 88%|████████▊ | 3502/4000 [08:15<01:05,  7.61it/s]"
          ]
        },
        {
          "output_type": "stream",
          "name": "stdout",
          "text": [
            "Epoch [5/100] Batch [3500] Loss_G: 8.4181, Loss_D_A: 0.0837, Loss_D_B: 0.0260\n"
          ]
        },
        {
          "output_type": "stream",
          "name": "stderr",
          "text": [
            " 90%|█████████ | 3602/4000 [08:30<00:56,  7.06it/s]"
          ]
        },
        {
          "output_type": "stream",
          "name": "stdout",
          "text": [
            "Epoch [5/100] Batch [3600] Loss_G: 5.7022, Loss_D_A: 0.1805, Loss_D_B: 0.0310\n"
          ]
        },
        {
          "output_type": "stream",
          "name": "stderr",
          "text": [
            " 93%|█████████▎| 3702/4000 [08:44<00:43,  6.81it/s]"
          ]
        },
        {
          "output_type": "stream",
          "name": "stdout",
          "text": [
            "Epoch [5/100] Batch [3700] Loss_G: 6.0380, Loss_D_A: 0.0480, Loss_D_B: 0.0207\n"
          ]
        },
        {
          "output_type": "stream",
          "name": "stderr",
          "text": [
            " 95%|█████████▌| 3802/4000 [08:58<00:30,  6.51it/s]"
          ]
        },
        {
          "output_type": "stream",
          "name": "stdout",
          "text": [
            "Epoch [5/100] Batch [3800] Loss_G: 4.9888, Loss_D_A: 0.1703, Loss_D_B: 0.1149\n"
          ]
        },
        {
          "output_type": "stream",
          "name": "stderr",
          "text": [
            " 98%|█████████▊| 3902/4000 [09:13<00:12,  7.86it/s]"
          ]
        },
        {
          "output_type": "stream",
          "name": "stdout",
          "text": [
            "Epoch [5/100] Batch [3900] Loss_G: 6.3318, Loss_D_A: 0.1825, Loss_D_B: 0.0156\n"
          ]
        },
        {
          "output_type": "stream",
          "name": "stderr",
          "text": [
            "100%|██████████| 4000/4000 [09:27<00:00,  7.05it/s]\n",
            "  0%|          | 2/4000 [00:00<08:11,  8.13it/s]"
          ]
        },
        {
          "output_type": "stream",
          "name": "stdout",
          "text": [
            "Epoch [6/100] Batch [0] Loss_G: 5.0567, Loss_D_A: 0.0299, Loss_D_B: 0.0156\n"
          ]
        },
        {
          "output_type": "stream",
          "name": "stderr",
          "text": [
            "  3%|▎         | 102/4000 [00:14<09:34,  6.79it/s]"
          ]
        },
        {
          "output_type": "stream",
          "name": "stdout",
          "text": [
            "Epoch [6/100] Batch [100] Loss_G: 5.3935, Loss_D_A: 0.2740, Loss_D_B: 0.0368\n"
          ]
        },
        {
          "output_type": "stream",
          "name": "stderr",
          "text": [
            "  5%|▌         | 202/4000 [00:28<08:41,  7.28it/s]"
          ]
        },
        {
          "output_type": "stream",
          "name": "stdout",
          "text": [
            "Epoch [6/100] Batch [200] Loss_G: 5.7349, Loss_D_A: 0.0189, Loss_D_B: 0.0331\n"
          ]
        },
        {
          "output_type": "stream",
          "name": "stderr",
          "text": [
            "  8%|▊         | 302/4000 [00:42<09:07,  6.76it/s]"
          ]
        },
        {
          "output_type": "stream",
          "name": "stdout",
          "text": [
            "Epoch [6/100] Batch [300] Loss_G: 6.4704, Loss_D_A: 0.1741, Loss_D_B: 0.0525\n"
          ]
        },
        {
          "output_type": "stream",
          "name": "stderr",
          "text": [
            " 10%|█         | 402/4000 [00:56<08:21,  7.17it/s]"
          ]
        },
        {
          "output_type": "stream",
          "name": "stdout",
          "text": [
            "Epoch [6/100] Batch [400] Loss_G: 6.0172, Loss_D_A: 0.2669, Loss_D_B: 0.0557\n"
          ]
        },
        {
          "output_type": "stream",
          "name": "stderr",
          "text": [
            " 13%|█▎        | 502/4000 [01:11<08:18,  7.02it/s]"
          ]
        },
        {
          "output_type": "stream",
          "name": "stdout",
          "text": [
            "Epoch [6/100] Batch [500] Loss_G: 8.1330, Loss_D_A: 0.1232, Loss_D_B: 0.0327\n"
          ]
        },
        {
          "output_type": "stream",
          "name": "stderr",
          "text": [
            " 15%|█▌        | 602/4000 [01:25<08:56,  6.34it/s]"
          ]
        },
        {
          "output_type": "stream",
          "name": "stdout",
          "text": [
            "Epoch [6/100] Batch [600] Loss_G: 7.6442, Loss_D_A: 0.1824, Loss_D_B: 0.0336\n"
          ]
        },
        {
          "output_type": "stream",
          "name": "stderr",
          "text": [
            " 18%|█▊        | 702/4000 [01:40<07:14,  7.60it/s]"
          ]
        },
        {
          "output_type": "stream",
          "name": "stdout",
          "text": [
            "Epoch [6/100] Batch [700] Loss_G: 6.0023, Loss_D_A: 0.1476, Loss_D_B: 0.0318\n"
          ]
        },
        {
          "output_type": "stream",
          "name": "stderr",
          "text": [
            " 20%|██        | 802/4000 [01:54<07:06,  7.50it/s]"
          ]
        },
        {
          "output_type": "stream",
          "name": "stdout",
          "text": [
            "Epoch [6/100] Batch [800] Loss_G: 4.2639, Loss_D_A: 0.2542, Loss_D_B: 0.0259\n"
          ]
        },
        {
          "output_type": "stream",
          "name": "stderr",
          "text": [
            " 23%|██▎       | 902/4000 [02:08<07:42,  6.70it/s]"
          ]
        },
        {
          "output_type": "stream",
          "name": "stdout",
          "text": [
            "Epoch [6/100] Batch [900] Loss_G: 4.8531, Loss_D_A: 0.0783, Loss_D_B: 0.0347\n"
          ]
        },
        {
          "output_type": "stream",
          "name": "stderr",
          "text": [
            " 25%|██▌       | 1002/4000 [02:23<07:40,  6.51it/s]"
          ]
        },
        {
          "output_type": "stream",
          "name": "stdout",
          "text": [
            "Epoch [6/100] Batch [1000] Loss_G: 7.0902, Loss_D_A: 0.0730, Loss_D_B: 0.0259\n"
          ]
        },
        {
          "output_type": "stream",
          "name": "stderr",
          "text": [
            " 28%|██▊       | 1102/4000 [02:37<06:54,  6.99it/s]"
          ]
        },
        {
          "output_type": "stream",
          "name": "stdout",
          "text": [
            "Epoch [6/100] Batch [1100] Loss_G: 4.6435, Loss_D_A: 0.0941, Loss_D_B: 0.0167\n"
          ]
        },
        {
          "output_type": "stream",
          "name": "stderr",
          "text": [
            " 30%|███       | 1202/4000 [02:51<07:01,  6.64it/s]"
          ]
        },
        {
          "output_type": "stream",
          "name": "stdout",
          "text": [
            "Epoch [6/100] Batch [1200] Loss_G: 5.9828, Loss_D_A: 0.0335, Loss_D_B: 0.0120\n"
          ]
        },
        {
          "output_type": "stream",
          "name": "stderr",
          "text": [
            " 33%|███▎      | 1302/4000 [03:05<06:58,  6.45it/s]"
          ]
        },
        {
          "output_type": "stream",
          "name": "stdout",
          "text": [
            "Epoch [6/100] Batch [1300] Loss_G: 4.6819, Loss_D_A: 0.0657, Loss_D_B: 0.0160\n"
          ]
        },
        {
          "output_type": "stream",
          "name": "stderr",
          "text": [
            " 35%|███▌      | 1402/4000 [03:19<05:53,  7.36it/s]"
          ]
        },
        {
          "output_type": "stream",
          "name": "stdout",
          "text": [
            "Epoch [6/100] Batch [1400] Loss_G: 5.1202, Loss_D_A: 0.1337, Loss_D_B: 0.0566\n"
          ]
        },
        {
          "output_type": "stream",
          "name": "stderr",
          "text": [
            " 38%|███▊      | 1502/4000 [03:34<05:53,  7.07it/s]"
          ]
        },
        {
          "output_type": "stream",
          "name": "stdout",
          "text": [
            "Epoch [6/100] Batch [1500] Loss_G: 4.6614, Loss_D_A: 0.1516, Loss_D_B: 0.0189\n"
          ]
        },
        {
          "output_type": "stream",
          "name": "stderr",
          "text": [
            " 40%|████      | 1602/4000 [03:48<05:12,  7.67it/s]"
          ]
        },
        {
          "output_type": "stream",
          "name": "stdout",
          "text": [
            "Epoch [6/100] Batch [1600] Loss_G: 6.6797, Loss_D_A: 0.0659, Loss_D_B: 0.0352\n"
          ]
        },
        {
          "output_type": "stream",
          "name": "stderr",
          "text": [
            " 43%|████▎     | 1702/4000 [04:03<05:19,  7.20it/s]"
          ]
        },
        {
          "output_type": "stream",
          "name": "stdout",
          "text": [
            "Epoch [6/100] Batch [1700] Loss_G: 7.9670, Loss_D_A: 0.0441, Loss_D_B: 0.0176\n"
          ]
        },
        {
          "output_type": "stream",
          "name": "stderr",
          "text": [
            " 45%|████▌     | 1802/4000 [04:16<05:30,  6.64it/s]"
          ]
        },
        {
          "output_type": "stream",
          "name": "stdout",
          "text": [
            "Epoch [6/100] Batch [1800] Loss_G: 5.8594, Loss_D_A: 0.1302, Loss_D_B: 0.0218\n"
          ]
        },
        {
          "output_type": "stream",
          "name": "stderr",
          "text": [
            " 48%|████▊     | 1902/4000 [04:31<05:23,  6.49it/s]"
          ]
        },
        {
          "output_type": "stream",
          "name": "stdout",
          "text": [
            "Epoch [6/100] Batch [1900] Loss_G: 7.3108, Loss_D_A: 0.0472, Loss_D_B: 0.0227\n"
          ]
        },
        {
          "output_type": "stream",
          "name": "stderr",
          "text": [
            " 50%|█████     | 2002/4000 [04:45<04:42,  7.07it/s]"
          ]
        },
        {
          "output_type": "stream",
          "name": "stdout",
          "text": [
            "Epoch [6/100] Batch [2000] Loss_G: 7.1792, Loss_D_A: 0.1132, Loss_D_B: 0.0101\n"
          ]
        },
        {
          "output_type": "stream",
          "name": "stderr",
          "text": [
            " 53%|█████▎    | 2102/4000 [04:59<04:04,  7.75it/s]"
          ]
        },
        {
          "output_type": "stream",
          "name": "stdout",
          "text": [
            "Epoch [6/100] Batch [2100] Loss_G: 5.7745, Loss_D_A: 0.1814, Loss_D_B: 0.0500\n"
          ]
        },
        {
          "output_type": "stream",
          "name": "stderr",
          "text": [
            " 55%|█████▌    | 2202/4000 [05:13<04:44,  6.32it/s]"
          ]
        },
        {
          "output_type": "stream",
          "name": "stdout",
          "text": [
            "Epoch [6/100] Batch [2200] Loss_G: 7.9334, Loss_D_A: 0.1074, Loss_D_B: 0.0391\n"
          ]
        },
        {
          "output_type": "stream",
          "name": "stderr",
          "text": [
            " 58%|█████▊    | 2302/4000 [05:27<04:01,  7.02it/s]"
          ]
        },
        {
          "output_type": "stream",
          "name": "stdout",
          "text": [
            "Epoch [6/100] Batch [2300] Loss_G: 7.9093, Loss_D_A: 0.1072, Loss_D_B: 0.0144\n"
          ]
        },
        {
          "output_type": "stream",
          "name": "stderr",
          "text": [
            " 60%|██████    | 2402/4000 [05:41<04:00,  6.64it/s]"
          ]
        },
        {
          "output_type": "stream",
          "name": "stdout",
          "text": [
            "Epoch [6/100] Batch [2400] Loss_G: 6.6110, Loss_D_A: 0.2133, Loss_D_B: 0.0272\n"
          ]
        },
        {
          "output_type": "stream",
          "name": "stderr",
          "text": [
            " 63%|██████▎   | 2502/4000 [05:55<03:33,  7.02it/s]"
          ]
        },
        {
          "output_type": "stream",
          "name": "stdout",
          "text": [
            "Epoch [6/100] Batch [2500] Loss_G: 5.7827, Loss_D_A: 0.2064, Loss_D_B: 0.0193\n"
          ]
        },
        {
          "output_type": "stream",
          "name": "stderr",
          "text": [
            " 65%|██████▌   | 2602/4000 [06:09<03:11,  7.29it/s]"
          ]
        },
        {
          "output_type": "stream",
          "name": "stdout",
          "text": [
            "Epoch [6/100] Batch [2600] Loss_G: 10.1126, Loss_D_A: 0.1485, Loss_D_B: 0.0196\n"
          ]
        },
        {
          "output_type": "stream",
          "name": "stderr",
          "text": [
            " 68%|██████▊   | 2702/4000 [06:24<03:49,  5.66it/s]"
          ]
        },
        {
          "output_type": "stream",
          "name": "stdout",
          "text": [
            "Epoch [6/100] Batch [2700] Loss_G: 5.4580, Loss_D_A: 0.2678, Loss_D_B: 0.0254\n"
          ]
        },
        {
          "output_type": "stream",
          "name": "stderr",
          "text": [
            " 70%|███████   | 2802/4000 [06:38<02:51,  6.98it/s]"
          ]
        },
        {
          "output_type": "stream",
          "name": "stdout",
          "text": [
            "Epoch [6/100] Batch [2800] Loss_G: 6.0475, Loss_D_A: 0.1241, Loss_D_B: 0.0403\n"
          ]
        },
        {
          "output_type": "stream",
          "name": "stderr",
          "text": [
            " 73%|███████▎  | 2902/4000 [06:53<02:31,  7.27it/s]"
          ]
        },
        {
          "output_type": "stream",
          "name": "stdout",
          "text": [
            "Epoch [6/100] Batch [2900] Loss_G: 6.3514, Loss_D_A: 0.1137, Loss_D_B: 0.0424\n"
          ]
        },
        {
          "output_type": "stream",
          "name": "stderr",
          "text": [
            " 75%|███████▌  | 3002/4000 [07:07<02:22,  7.02it/s]"
          ]
        },
        {
          "output_type": "stream",
          "name": "stdout",
          "text": [
            "Epoch [6/100] Batch [3000] Loss_G: 7.6879, Loss_D_A: 0.1763, Loss_D_B: 0.0185\n"
          ]
        },
        {
          "output_type": "stream",
          "name": "stderr",
          "text": [
            " 78%|███████▊  | 3102/4000 [07:21<02:03,  7.30it/s]"
          ]
        },
        {
          "output_type": "stream",
          "name": "stdout",
          "text": [
            "Epoch [6/100] Batch [3100] Loss_G: 6.0942, Loss_D_A: 0.0357, Loss_D_B: 0.0146\n"
          ]
        },
        {
          "output_type": "stream",
          "name": "stderr",
          "text": [
            " 80%|████████  | 3202/4000 [07:34<01:55,  6.90it/s]"
          ]
        },
        {
          "output_type": "stream",
          "name": "stdout",
          "text": [
            "Epoch [6/100] Batch [3200] Loss_G: 5.6428, Loss_D_A: 0.1474, Loss_D_B: 0.1178\n"
          ]
        },
        {
          "output_type": "stream",
          "name": "stderr",
          "text": [
            " 83%|████████▎ | 3302/4000 [07:48<01:38,  7.05it/s]"
          ]
        },
        {
          "output_type": "stream",
          "name": "stdout",
          "text": [
            "Epoch [6/100] Batch [3300] Loss_G: 6.7230, Loss_D_A: 0.0860, Loss_D_B: 0.0310\n"
          ]
        },
        {
          "output_type": "stream",
          "name": "stderr",
          "text": [
            " 85%|████████▌ | 3402/4000 [08:02<01:33,  6.43it/s]"
          ]
        },
        {
          "output_type": "stream",
          "name": "stdout",
          "text": [
            "Epoch [6/100] Batch [3400] Loss_G: 7.2158, Loss_D_A: 0.1124, Loss_D_B: 0.0146\n"
          ]
        },
        {
          "output_type": "stream",
          "name": "stderr",
          "text": [
            " 88%|████████▊ | 3502/4000 [08:17<01:09,  7.15it/s]"
          ]
        },
        {
          "output_type": "stream",
          "name": "stdout",
          "text": [
            "Epoch [6/100] Batch [3500] Loss_G: 5.2918, Loss_D_A: 0.1512, Loss_D_B: 0.0196\n"
          ]
        },
        {
          "output_type": "stream",
          "name": "stderr",
          "text": [
            " 90%|█████████ | 3602/4000 [08:31<00:58,  6.85it/s]"
          ]
        },
        {
          "output_type": "stream",
          "name": "stdout",
          "text": [
            "Epoch [6/100] Batch [3600] Loss_G: 5.7340, Loss_D_A: 0.1658, Loss_D_B: 0.0388\n"
          ]
        },
        {
          "output_type": "stream",
          "name": "stderr",
          "text": [
            " 93%|█████████▎| 3702/4000 [08:45<00:40,  7.34it/s]"
          ]
        },
        {
          "output_type": "stream",
          "name": "stdout",
          "text": [
            "Epoch [6/100] Batch [3700] Loss_G: 6.6919, Loss_D_A: 0.2086, Loss_D_B: 0.0462\n"
          ]
        },
        {
          "output_type": "stream",
          "name": "stderr",
          "text": [
            " 95%|█████████▌| 3802/4000 [08:59<00:29,  6.65it/s]"
          ]
        },
        {
          "output_type": "stream",
          "name": "stdout",
          "text": [
            "Epoch [6/100] Batch [3800] Loss_G: 4.5473, Loss_D_A: 0.1124, Loss_D_B: 0.0247\n"
          ]
        },
        {
          "output_type": "stream",
          "name": "stderr",
          "text": [
            " 98%|█████████▊| 3902/4000 [09:13<00:13,  7.15it/s]"
          ]
        },
        {
          "output_type": "stream",
          "name": "stdout",
          "text": [
            "Epoch [6/100] Batch [3900] Loss_G: 5.2006, Loss_D_A: 0.0763, Loss_D_B: 0.0268\n"
          ]
        },
        {
          "output_type": "stream",
          "name": "stderr",
          "text": [
            "100%|██████████| 4000/4000 [09:27<00:00,  7.04it/s]\n",
            "  0%|          | 2/4000 [00:00<08:49,  7.55it/s]"
          ]
        },
        {
          "output_type": "stream",
          "name": "stdout",
          "text": [
            "Epoch [7/100] Batch [0] Loss_G: 5.8898, Loss_D_A: 0.1723, Loss_D_B: 0.0373\n"
          ]
        },
        {
          "output_type": "stream",
          "name": "stderr",
          "text": [
            "  3%|▎         | 102/4000 [00:14<09:31,  6.82it/s]"
          ]
        },
        {
          "output_type": "stream",
          "name": "stdout",
          "text": [
            "Epoch [7/100] Batch [100] Loss_G: 6.6528, Loss_D_A: 0.0574, Loss_D_B: 0.0241\n"
          ]
        },
        {
          "output_type": "stream",
          "name": "stderr",
          "text": [
            "  5%|▌         | 202/4000 [00:28<10:08,  6.24it/s]"
          ]
        },
        {
          "output_type": "stream",
          "name": "stdout",
          "text": [
            "Epoch [7/100] Batch [200] Loss_G: 5.1952, Loss_D_A: 0.2058, Loss_D_B: 0.0165\n"
          ]
        },
        {
          "output_type": "stream",
          "name": "stderr",
          "text": [
            "  8%|▊         | 302/4000 [00:42<08:53,  6.93it/s]"
          ]
        },
        {
          "output_type": "stream",
          "name": "stdout",
          "text": [
            "Epoch [7/100] Batch [300] Loss_G: 8.0499, Loss_D_A: 0.0736, Loss_D_B: 0.0144\n"
          ]
        },
        {
          "output_type": "stream",
          "name": "stderr",
          "text": [
            " 10%|█         | 402/4000 [00:56<07:48,  7.68it/s]"
          ]
        },
        {
          "output_type": "stream",
          "name": "stdout",
          "text": [
            "Epoch [7/100] Batch [400] Loss_G: 6.1595, Loss_D_A: 0.2379, Loss_D_B: 0.0688\n"
          ]
        },
        {
          "output_type": "stream",
          "name": "stderr",
          "text": [
            " 13%|█▎        | 502/4000 [01:10<08:39,  6.74it/s]"
          ]
        },
        {
          "output_type": "stream",
          "name": "stdout",
          "text": [
            "Epoch [7/100] Batch [500] Loss_G: 5.9311, Loss_D_A: 0.0504, Loss_D_B: 0.0243\n"
          ]
        },
        {
          "output_type": "stream",
          "name": "stderr",
          "text": [
            " 15%|█▌        | 602/4000 [01:24<08:04,  7.02it/s]"
          ]
        },
        {
          "output_type": "stream",
          "name": "stdout",
          "text": [
            "Epoch [7/100] Batch [600] Loss_G: 8.3030, Loss_D_A: 0.2314, Loss_D_B: 0.0275\n"
          ]
        },
        {
          "output_type": "stream",
          "name": "stderr",
          "text": [
            " 18%|█▊        | 702/4000 [01:39<07:45,  7.09it/s]"
          ]
        },
        {
          "output_type": "stream",
          "name": "stdout",
          "text": [
            "Epoch [7/100] Batch [700] Loss_G: 6.3699, Loss_D_A: 0.1030, Loss_D_B: 0.0434\n"
          ]
        },
        {
          "output_type": "stream",
          "name": "stderr",
          "text": [
            " 20%|██        | 802/4000 [01:53<07:25,  7.18it/s]"
          ]
        },
        {
          "output_type": "stream",
          "name": "stdout",
          "text": [
            "Epoch [7/100] Batch [800] Loss_G: 7.1310, Loss_D_A: 0.1158, Loss_D_B: 0.0459\n"
          ]
        },
        {
          "output_type": "stream",
          "name": "stderr",
          "text": [
            " 23%|██▎       | 902/4000 [02:07<07:15,  7.12it/s]"
          ]
        },
        {
          "output_type": "stream",
          "name": "stdout",
          "text": [
            "Epoch [7/100] Batch [900] Loss_G: 6.1934, Loss_D_A: 0.1341, Loss_D_B: 0.0175\n"
          ]
        },
        {
          "output_type": "stream",
          "name": "stderr",
          "text": [
            " 25%|██▌       | 1002/4000 [02:21<07:27,  6.70it/s]"
          ]
        },
        {
          "output_type": "stream",
          "name": "stdout",
          "text": [
            "Epoch [7/100] Batch [1000] Loss_G: 4.2228, Loss_D_A: 0.0333, Loss_D_B: 0.0398\n"
          ]
        },
        {
          "output_type": "stream",
          "name": "stderr",
          "text": [
            " 28%|██▊       | 1102/4000 [02:35<06:47,  7.12it/s]"
          ]
        },
        {
          "output_type": "stream",
          "name": "stdout",
          "text": [
            "Epoch [7/100] Batch [1100] Loss_G: 4.4007, Loss_D_A: 0.0882, Loss_D_B: 0.0232\n"
          ]
        },
        {
          "output_type": "stream",
          "name": "stderr",
          "text": [
            " 30%|███       | 1202/4000 [02:49<06:31,  7.14it/s]"
          ]
        },
        {
          "output_type": "stream",
          "name": "stdout",
          "text": [
            "Epoch [7/100] Batch [1200] Loss_G: 4.7703, Loss_D_A: 0.2197, Loss_D_B: 0.0173\n"
          ]
        },
        {
          "output_type": "stream",
          "name": "stderr",
          "text": [
            " 33%|███▎      | 1302/4000 [03:03<05:40,  7.91it/s]"
          ]
        },
        {
          "output_type": "stream",
          "name": "stdout",
          "text": [
            "Epoch [7/100] Batch [1300] Loss_G: 6.0699, Loss_D_A: 0.2308, Loss_D_B: 0.0289\n"
          ]
        },
        {
          "output_type": "stream",
          "name": "stderr",
          "text": [
            " 35%|███▌      | 1402/4000 [03:17<06:03,  7.15it/s]"
          ]
        },
        {
          "output_type": "stream",
          "name": "stdout",
          "text": [
            "Epoch [7/100] Batch [1400] Loss_G: 4.6414, Loss_D_A: 0.1829, Loss_D_B: 0.0348\n"
          ]
        },
        {
          "output_type": "stream",
          "name": "stderr",
          "text": [
            " 38%|███▊      | 1502/4000 [03:31<05:34,  7.46it/s]"
          ]
        },
        {
          "output_type": "stream",
          "name": "stdout",
          "text": [
            "Epoch [7/100] Batch [1500] Loss_G: 5.0636, Loss_D_A: 0.2184, Loss_D_B: 0.1131\n"
          ]
        },
        {
          "output_type": "stream",
          "name": "stderr",
          "text": [
            " 40%|████      | 1602/4000 [03:45<05:25,  7.36it/s]"
          ]
        },
        {
          "output_type": "stream",
          "name": "stdout",
          "text": [
            "Epoch [7/100] Batch [1600] Loss_G: 4.9418, Loss_D_A: 0.3429, Loss_D_B: 0.0930\n"
          ]
        },
        {
          "output_type": "stream",
          "name": "stderr",
          "text": [
            " 43%|████▎     | 1702/4000 [03:59<06:00,  6.38it/s]"
          ]
        },
        {
          "output_type": "stream",
          "name": "stdout",
          "text": [
            "Epoch [7/100] Batch [1700] Loss_G: 6.4128, Loss_D_A: 0.0262, Loss_D_B: 0.0226\n"
          ]
        },
        {
          "output_type": "stream",
          "name": "stderr",
          "text": [
            " 45%|████▌     | 1802/4000 [04:13<04:55,  7.45it/s]"
          ]
        },
        {
          "output_type": "stream",
          "name": "stdout",
          "text": [
            "Epoch [7/100] Batch [1800] Loss_G: 5.0213, Loss_D_A: 0.2375, Loss_D_B: 0.0268\n"
          ]
        },
        {
          "output_type": "stream",
          "name": "stderr",
          "text": [
            " 48%|████▊     | 1902/4000 [04:28<05:18,  6.59it/s]"
          ]
        },
        {
          "output_type": "stream",
          "name": "stdout",
          "text": [
            "Epoch [7/100] Batch [1900] Loss_G: 6.2249, Loss_D_A: 0.1379, Loss_D_B: 0.0190\n"
          ]
        },
        {
          "output_type": "stream",
          "name": "stderr",
          "text": [
            " 50%|█████     | 2002/4000 [04:43<04:58,  6.70it/s]"
          ]
        },
        {
          "output_type": "stream",
          "name": "stdout",
          "text": [
            "Epoch [7/100] Batch [2000] Loss_G: 6.6656, Loss_D_A: 0.0868, Loss_D_B: 0.0139\n"
          ]
        },
        {
          "output_type": "stream",
          "name": "stderr",
          "text": [
            " 53%|█████▎    | 2102/4000 [04:57<04:25,  7.15it/s]"
          ]
        },
        {
          "output_type": "stream",
          "name": "stdout",
          "text": [
            "Epoch [7/100] Batch [2100] Loss_G: 6.4322, Loss_D_A: 0.1444, Loss_D_B: 0.0232\n"
          ]
        },
        {
          "output_type": "stream",
          "name": "stderr",
          "text": [
            " 55%|█████▌    | 2202/4000 [05:12<04:34,  6.56it/s]"
          ]
        },
        {
          "output_type": "stream",
          "name": "stdout",
          "text": [
            "Epoch [7/100] Batch [2200] Loss_G: 5.8910, Loss_D_A: 0.4331, Loss_D_B: 0.0142\n"
          ]
        },
        {
          "output_type": "stream",
          "name": "stderr",
          "text": [
            " 58%|█████▊    | 2302/4000 [05:26<04:00,  7.06it/s]"
          ]
        },
        {
          "output_type": "stream",
          "name": "stdout",
          "text": [
            "Epoch [7/100] Batch [2300] Loss_G: 6.8692, Loss_D_A: 0.1390, Loss_D_B: 0.0182\n"
          ]
        },
        {
          "output_type": "stream",
          "name": "stderr",
          "text": [
            " 60%|██████    | 2402/4000 [05:40<03:41,  7.20it/s]"
          ]
        },
        {
          "output_type": "stream",
          "name": "stdout",
          "text": [
            "Epoch [7/100] Batch [2400] Loss_G: 5.2590, Loss_D_A: 0.2319, Loss_D_B: 0.0235\n"
          ]
        },
        {
          "output_type": "stream",
          "name": "stderr",
          "text": [
            " 63%|██████▎   | 2502/4000 [05:54<03:32,  7.06it/s]"
          ]
        },
        {
          "output_type": "stream",
          "name": "stdout",
          "text": [
            "Epoch [7/100] Batch [2500] Loss_G: 6.3482, Loss_D_A: 0.1705, Loss_D_B: 0.1055\n"
          ]
        },
        {
          "output_type": "stream",
          "name": "stderr",
          "text": [
            " 65%|██████▌   | 2602/4000 [06:08<03:23,  6.87it/s]"
          ]
        },
        {
          "output_type": "stream",
          "name": "stdout",
          "text": [
            "Epoch [7/100] Batch [2600] Loss_G: 4.4095, Loss_D_A: 0.0782, Loss_D_B: 0.0453\n"
          ]
        },
        {
          "output_type": "stream",
          "name": "stderr",
          "text": [
            " 68%|██████▊   | 2702/4000 [06:23<02:49,  7.67it/s]"
          ]
        },
        {
          "output_type": "stream",
          "name": "stdout",
          "text": [
            "Epoch [7/100] Batch [2700] Loss_G: 4.1039, Loss_D_A: 0.1201, Loss_D_B: 0.2106\n"
          ]
        },
        {
          "output_type": "stream",
          "name": "stderr",
          "text": [
            " 70%|███████   | 2801/4000 [06:37<03:04,  6.48it/s]"
          ]
        },
        {
          "output_type": "stream",
          "name": "stdout",
          "text": [
            "Epoch [7/100] Batch [2800] Loss_G: 5.6030, Loss_D_A: 0.2883, Loss_D_B: 0.0271\n"
          ]
        },
        {
          "output_type": "stream",
          "name": "stderr",
          "text": [
            " 73%|███████▎  | 2902/4000 [06:51<02:30,  7.29it/s]"
          ]
        },
        {
          "output_type": "stream",
          "name": "stdout",
          "text": [
            "Epoch [7/100] Batch [2900] Loss_G: 4.9054, Loss_D_A: 0.1543, Loss_D_B: 0.0210\n"
          ]
        },
        {
          "output_type": "stream",
          "name": "stderr",
          "text": [
            " 75%|███████▌  | 3002/4000 [07:06<02:26,  6.83it/s]"
          ]
        },
        {
          "output_type": "stream",
          "name": "stdout",
          "text": [
            "Epoch [7/100] Batch [3000] Loss_G: 4.5494, Loss_D_A: 0.2364, Loss_D_B: 0.0327\n"
          ]
        },
        {
          "output_type": "stream",
          "name": "stderr",
          "text": [
            " 78%|███████▊  | 3102/4000 [07:20<02:20,  6.39it/s]"
          ]
        },
        {
          "output_type": "stream",
          "name": "stdout",
          "text": [
            "Epoch [7/100] Batch [3100] Loss_G: 5.3548, Loss_D_A: 0.0519, Loss_D_B: 0.0082\n"
          ]
        },
        {
          "output_type": "stream",
          "name": "stderr",
          "text": [
            " 80%|████████  | 3202/4000 [07:34<01:53,  7.04it/s]"
          ]
        },
        {
          "output_type": "stream",
          "name": "stdout",
          "text": [
            "Epoch [7/100] Batch [3200] Loss_G: 5.1560, Loss_D_A: 0.0910, Loss_D_B: 0.0447\n"
          ]
        },
        {
          "output_type": "stream",
          "name": "stderr",
          "text": [
            " 83%|████████▎ | 3302/4000 [07:48<01:33,  7.46it/s]"
          ]
        },
        {
          "output_type": "stream",
          "name": "stdout",
          "text": [
            "Epoch [7/100] Batch [3300] Loss_G: 5.1206, Loss_D_A: 0.0148, Loss_D_B: 0.0306\n"
          ]
        },
        {
          "output_type": "stream",
          "name": "stderr",
          "text": [
            " 85%|████████▌ | 3402/4000 [08:02<01:40,  5.97it/s]"
          ]
        },
        {
          "output_type": "stream",
          "name": "stdout",
          "text": [
            "Epoch [7/100] Batch [3400] Loss_G: 4.9080, Loss_D_A: 0.1961, Loss_D_B: 0.0151\n"
          ]
        },
        {
          "output_type": "stream",
          "name": "stderr",
          "text": [
            " 88%|████████▊ | 3502/4000 [08:16<01:12,  6.90it/s]"
          ]
        },
        {
          "output_type": "stream",
          "name": "stdout",
          "text": [
            "Epoch [7/100] Batch [3500] Loss_G: 5.9510, Loss_D_A: 0.1121, Loss_D_B: 0.0147\n"
          ]
        },
        {
          "output_type": "stream",
          "name": "stderr",
          "text": [
            " 90%|█████████ | 3602/4000 [08:31<00:53,  7.38it/s]"
          ]
        },
        {
          "output_type": "stream",
          "name": "stdout",
          "text": [
            "Epoch [7/100] Batch [3600] Loss_G: 4.6630, Loss_D_A: 0.1360, Loss_D_B: 0.0400\n"
          ]
        },
        {
          "output_type": "stream",
          "name": "stderr",
          "text": [
            " 93%|█████████▎| 3702/4000 [08:45<00:45,  6.57it/s]"
          ]
        },
        {
          "output_type": "stream",
          "name": "stdout",
          "text": [
            "Epoch [7/100] Batch [3700] Loss_G: 5.3055, Loss_D_A: 0.1456, Loss_D_B: 0.0518\n"
          ]
        },
        {
          "output_type": "stream",
          "name": "stderr",
          "text": [
            " 95%|█████████▌| 3802/4000 [08:59<00:29,  6.70it/s]"
          ]
        },
        {
          "output_type": "stream",
          "name": "stdout",
          "text": [
            "Epoch [7/100] Batch [3800] Loss_G: 6.7730, Loss_D_A: 0.1116, Loss_D_B: 0.0404\n"
          ]
        },
        {
          "output_type": "stream",
          "name": "stderr",
          "text": [
            " 98%|█████████▊| 3902/4000 [09:13<00:14,  6.96it/s]"
          ]
        },
        {
          "output_type": "stream",
          "name": "stdout",
          "text": [
            "Epoch [7/100] Batch [3900] Loss_G: 5.7948, Loss_D_A: 0.2045, Loss_D_B: 0.0335\n"
          ]
        },
        {
          "output_type": "stream",
          "name": "stderr",
          "text": [
            "100%|██████████| 4000/4000 [09:27<00:00,  7.05it/s]\n",
            "  0%|          | 2/4000 [00:00<09:12,  7.23it/s]"
          ]
        },
        {
          "output_type": "stream",
          "name": "stdout",
          "text": [
            "Epoch [8/100] Batch [0] Loss_G: 6.5415, Loss_D_A: 0.0415, Loss_D_B: 0.0244\n"
          ]
        },
        {
          "output_type": "stream",
          "name": "stderr",
          "text": [
            "  3%|▎         | 102/4000 [00:14<08:33,  7.60it/s]"
          ]
        },
        {
          "output_type": "stream",
          "name": "stdout",
          "text": [
            "Epoch [8/100] Batch [100] Loss_G: 4.2506, Loss_D_A: 0.2538, Loss_D_B: 0.0207\n"
          ]
        },
        {
          "output_type": "stream",
          "name": "stderr",
          "text": [
            "  5%|▌         | 202/4000 [00:28<09:02,  7.00it/s]"
          ]
        },
        {
          "output_type": "stream",
          "name": "stdout",
          "text": [
            "Epoch [8/100] Batch [200] Loss_G: 4.5071, Loss_D_A: 0.0958, Loss_D_B: 0.0492\n"
          ]
        },
        {
          "output_type": "stream",
          "name": "stderr",
          "text": [
            "  8%|▊         | 302/4000 [00:42<09:14,  6.67it/s]"
          ]
        },
        {
          "output_type": "stream",
          "name": "stdout",
          "text": [
            "Epoch [8/100] Batch [300] Loss_G: 6.4575, Loss_D_A: 0.0558, Loss_D_B: 0.0080\n"
          ]
        },
        {
          "output_type": "stream",
          "name": "stderr",
          "text": [
            " 10%|█         | 402/4000 [00:56<07:58,  7.53it/s]"
          ]
        },
        {
          "output_type": "stream",
          "name": "stdout",
          "text": [
            "Epoch [8/100] Batch [400] Loss_G: 6.3756, Loss_D_A: 0.6552, Loss_D_B: 0.0108\n"
          ]
        },
        {
          "output_type": "stream",
          "name": "stderr",
          "text": [
            " 13%|█▎        | 502/4000 [01:10<08:56,  6.52it/s]"
          ]
        },
        {
          "output_type": "stream",
          "name": "stdout",
          "text": [
            "Epoch [8/100] Batch [500] Loss_G: 4.5716, Loss_D_A: 0.1744, Loss_D_B: 0.0118\n"
          ]
        },
        {
          "output_type": "stream",
          "name": "stderr",
          "text": [
            " 15%|█▌        | 602/4000 [01:24<10:06,  5.60it/s]"
          ]
        },
        {
          "output_type": "stream",
          "name": "stdout",
          "text": [
            "Epoch [8/100] Batch [600] Loss_G: 6.9101, Loss_D_A: 0.1700, Loss_D_B: 0.0270\n"
          ]
        },
        {
          "output_type": "stream",
          "name": "stderr",
          "text": [
            " 18%|█▊        | 702/4000 [01:39<07:07,  7.72it/s]"
          ]
        },
        {
          "output_type": "stream",
          "name": "stdout",
          "text": [
            "Epoch [8/100] Batch [700] Loss_G: 5.6817, Loss_D_A: 0.0921, Loss_D_B: 0.0139\n"
          ]
        },
        {
          "output_type": "stream",
          "name": "stderr",
          "text": [
            " 20%|██        | 802/4000 [01:53<07:24,  7.19it/s]"
          ]
        },
        {
          "output_type": "stream",
          "name": "stdout",
          "text": [
            "Epoch [8/100] Batch [800] Loss_G: 5.1643, Loss_D_A: 0.0969, Loss_D_B: 0.0361\n"
          ]
        },
        {
          "output_type": "stream",
          "name": "stderr",
          "text": [
            " 23%|██▎       | 902/4000 [02:07<07:52,  6.56it/s]"
          ]
        },
        {
          "output_type": "stream",
          "name": "stdout",
          "text": [
            "Epoch [8/100] Batch [900] Loss_G: 5.8939, Loss_D_A: 0.1330, Loss_D_B: 0.0108\n"
          ]
        },
        {
          "output_type": "stream",
          "name": "stderr",
          "text": [
            " 25%|██▌       | 1002/4000 [02:21<07:19,  6.82it/s]"
          ]
        },
        {
          "output_type": "stream",
          "name": "stdout",
          "text": [
            "Epoch [8/100] Batch [1000] Loss_G: 4.6289, Loss_D_A: 0.0765, Loss_D_B: 0.0163\n"
          ]
        },
        {
          "output_type": "stream",
          "name": "stderr",
          "text": [
            " 28%|██▊       | 1102/4000 [02:35<06:54,  7.00it/s]"
          ]
        },
        {
          "output_type": "stream",
          "name": "stdout",
          "text": [
            "Epoch [8/100] Batch [1100] Loss_G: 5.0575, Loss_D_A: 0.1519, Loss_D_B: 0.0200\n"
          ]
        },
        {
          "output_type": "stream",
          "name": "stderr",
          "text": [
            " 30%|███       | 1202/4000 [02:49<06:28,  7.20it/s]"
          ]
        },
        {
          "output_type": "stream",
          "name": "stdout",
          "text": [
            "Epoch [8/100] Batch [1200] Loss_G: 6.5204, Loss_D_A: 0.3136, Loss_D_B: 0.3304\n"
          ]
        },
        {
          "output_type": "stream",
          "name": "stderr",
          "text": [
            " 33%|███▎      | 1302/4000 [03:04<06:26,  6.98it/s]"
          ]
        },
        {
          "output_type": "stream",
          "name": "stdout",
          "text": [
            "Epoch [8/100] Batch [1300] Loss_G: 7.0786, Loss_D_A: 0.2241, Loss_D_B: 0.0146\n"
          ]
        },
        {
          "output_type": "stream",
          "name": "stderr",
          "text": [
            " 35%|███▌      | 1402/4000 [03:18<06:04,  7.13it/s]"
          ]
        },
        {
          "output_type": "stream",
          "name": "stdout",
          "text": [
            "Epoch [8/100] Batch [1400] Loss_G: 6.1812, Loss_D_A: 0.0711, Loss_D_B: 0.0363\n"
          ]
        },
        {
          "output_type": "stream",
          "name": "stderr",
          "text": [
            " 38%|███▊      | 1502/4000 [03:32<06:02,  6.89it/s]"
          ]
        },
        {
          "output_type": "stream",
          "name": "stdout",
          "text": [
            "Epoch [8/100] Batch [1500] Loss_G: 5.7899, Loss_D_A: 0.1070, Loss_D_B: 0.0127\n"
          ]
        },
        {
          "output_type": "stream",
          "name": "stderr",
          "text": [
            " 40%|████      | 1602/4000 [03:47<05:38,  7.08it/s]"
          ]
        },
        {
          "output_type": "stream",
          "name": "stdout",
          "text": [
            "Epoch [8/100] Batch [1600] Loss_G: 5.1121, Loss_D_A: 0.0367, Loss_D_B: 0.0159\n"
          ]
        },
        {
          "output_type": "stream",
          "name": "stderr",
          "text": [
            " 43%|████▎     | 1702/4000 [04:01<05:36,  6.84it/s]"
          ]
        },
        {
          "output_type": "stream",
          "name": "stdout",
          "text": [
            "Epoch [8/100] Batch [1700] Loss_G: 4.1623, Loss_D_A: 0.0505, Loss_D_B: 0.0195\n"
          ]
        },
        {
          "output_type": "stream",
          "name": "stderr",
          "text": [
            " 45%|████▌     | 1802/4000 [04:15<04:48,  7.62it/s]"
          ]
        },
        {
          "output_type": "stream",
          "name": "stdout",
          "text": [
            "Epoch [8/100] Batch [1800] Loss_G: 5.4034, Loss_D_A: 0.1131, Loss_D_B: 0.0135\n"
          ]
        },
        {
          "output_type": "stream",
          "name": "stderr",
          "text": [
            " 48%|████▊     | 1902/4000 [04:30<04:50,  7.21it/s]"
          ]
        },
        {
          "output_type": "stream",
          "name": "stdout",
          "text": [
            "Epoch [8/100] Batch [1900] Loss_G: 4.2074, Loss_D_A: 0.1430, Loss_D_B: 0.0193\n"
          ]
        },
        {
          "output_type": "stream",
          "name": "stderr",
          "text": [
            " 50%|█████     | 2002/4000 [04:44<04:24,  7.54it/s]"
          ]
        },
        {
          "output_type": "stream",
          "name": "stdout",
          "text": [
            "Epoch [8/100] Batch [2000] Loss_G: 6.1253, Loss_D_A: 0.1951, Loss_D_B: 0.0204\n"
          ]
        },
        {
          "output_type": "stream",
          "name": "stderr",
          "text": [
            " 53%|█████▎    | 2102/4000 [04:58<04:09,  7.60it/s]"
          ]
        },
        {
          "output_type": "stream",
          "name": "stdout",
          "text": [
            "Epoch [8/100] Batch [2100] Loss_G: 4.5322, Loss_D_A: 0.1892, Loss_D_B: 0.0126\n"
          ]
        },
        {
          "output_type": "stream",
          "name": "stderr",
          "text": [
            " 55%|█████▌    | 2202/4000 [05:12<04:02,  7.43it/s]"
          ]
        },
        {
          "output_type": "stream",
          "name": "stdout",
          "text": [
            "Epoch [8/100] Batch [2200] Loss_G: 5.3707, Loss_D_A: 0.1505, Loss_D_B: 0.0152\n"
          ]
        },
        {
          "output_type": "stream",
          "name": "stderr",
          "text": [
            " 58%|█████▊    | 2302/4000 [05:26<03:37,  7.81it/s]"
          ]
        },
        {
          "output_type": "stream",
          "name": "stdout",
          "text": [
            "Epoch [8/100] Batch [2300] Loss_G: 4.4066, Loss_D_A: 0.1371, Loss_D_B: 0.0114\n"
          ]
        },
        {
          "output_type": "stream",
          "name": "stderr",
          "text": [
            " 60%|██████    | 2402/4000 [05:40<03:41,  7.23it/s]"
          ]
        },
        {
          "output_type": "stream",
          "name": "stdout",
          "text": [
            "Epoch [8/100] Batch [2400] Loss_G: 5.5078, Loss_D_A: 0.1347, Loss_D_B: 0.0775\n"
          ]
        },
        {
          "output_type": "stream",
          "name": "stderr",
          "text": [
            " 63%|██████▎   | 2502/4000 [05:54<03:42,  6.74it/s]"
          ]
        },
        {
          "output_type": "stream",
          "name": "stdout",
          "text": [
            "Epoch [8/100] Batch [2500] Loss_G: 5.0709, Loss_D_A: 0.0885, Loss_D_B: 0.0129\n"
          ]
        },
        {
          "output_type": "stream",
          "name": "stderr",
          "text": [
            " 65%|██████▌   | 2602/4000 [06:08<03:11,  7.30it/s]"
          ]
        },
        {
          "output_type": "stream",
          "name": "stdout",
          "text": [
            "Epoch [8/100] Batch [2600] Loss_G: 5.0430, Loss_D_A: 0.1615, Loss_D_B: 0.0567\n"
          ]
        },
        {
          "output_type": "stream",
          "name": "stderr",
          "text": [
            " 68%|██████▊   | 2702/4000 [06:22<02:58,  7.25it/s]"
          ]
        },
        {
          "output_type": "stream",
          "name": "stdout",
          "text": [
            "Epoch [8/100] Batch [2700] Loss_G: 4.0832, Loss_D_A: 0.1682, Loss_D_B: 0.0296\n"
          ]
        },
        {
          "output_type": "stream",
          "name": "stderr",
          "text": [
            " 70%|███████   | 2802/4000 [06:36<02:45,  7.24it/s]"
          ]
        },
        {
          "output_type": "stream",
          "name": "stdout",
          "text": [
            "Epoch [8/100] Batch [2800] Loss_G: 4.9103, Loss_D_A: 0.0780, Loss_D_B: 0.0119\n"
          ]
        },
        {
          "output_type": "stream",
          "name": "stderr",
          "text": [
            " 73%|███████▎  | 2902/4000 [06:51<02:45,  6.63it/s]"
          ]
        },
        {
          "output_type": "stream",
          "name": "stdout",
          "text": [
            "Epoch [8/100] Batch [2900] Loss_G: 4.8214, Loss_D_A: 0.1204, Loss_D_B: 0.0110\n"
          ]
        },
        {
          "output_type": "stream",
          "name": "stderr",
          "text": [
            " 75%|███████▌  | 3002/4000 [07:05<02:16,  7.32it/s]"
          ]
        },
        {
          "output_type": "stream",
          "name": "stdout",
          "text": [
            "Epoch [8/100] Batch [3000] Loss_G: 6.2795, Loss_D_A: 0.1155, Loss_D_B: 0.0138\n"
          ]
        },
        {
          "output_type": "stream",
          "name": "stderr",
          "text": [
            " 78%|███████▊  | 3102/4000 [07:19<01:59,  7.50it/s]"
          ]
        },
        {
          "output_type": "stream",
          "name": "stdout",
          "text": [
            "Epoch [8/100] Batch [3100] Loss_G: 7.3349, Loss_D_A: 0.1673, Loss_D_B: 0.0105\n"
          ]
        },
        {
          "output_type": "stream",
          "name": "stderr",
          "text": [
            " 80%|████████  | 3202/4000 [07:34<01:51,  7.14it/s]"
          ]
        },
        {
          "output_type": "stream",
          "name": "stdout",
          "text": [
            "Epoch [8/100] Batch [3200] Loss_G: 4.0761, Loss_D_A: 0.4902, Loss_D_B: 0.0622\n"
          ]
        },
        {
          "output_type": "stream",
          "name": "stderr",
          "text": [
            " 83%|████████▎ | 3302/4000 [07:48<01:41,  6.90it/s]"
          ]
        },
        {
          "output_type": "stream",
          "name": "stdout",
          "text": [
            "Epoch [8/100] Batch [3300] Loss_G: 5.7200, Loss_D_A: 0.1375, Loss_D_B: 0.0130\n"
          ]
        },
        {
          "output_type": "stream",
          "name": "stderr",
          "text": [
            " 85%|████████▌ | 3402/4000 [08:02<01:30,  6.58it/s]"
          ]
        },
        {
          "output_type": "stream",
          "name": "stdout",
          "text": [
            "Epoch [8/100] Batch [3400] Loss_G: 4.3012, Loss_D_A: 0.3212, Loss_D_B: 0.0174\n"
          ]
        },
        {
          "output_type": "stream",
          "name": "stderr",
          "text": [
            " 88%|████████▊ | 3502/4000 [08:17<01:09,  7.18it/s]"
          ]
        },
        {
          "output_type": "stream",
          "name": "stdout",
          "text": [
            "Epoch [8/100] Batch [3500] Loss_G: 6.4332, Loss_D_A: 0.0781, Loss_D_B: 0.0274\n"
          ]
        },
        {
          "output_type": "stream",
          "name": "stderr",
          "text": [
            " 90%|█████████ | 3602/4000 [08:31<00:57,  6.87it/s]"
          ]
        },
        {
          "output_type": "stream",
          "name": "stdout",
          "text": [
            "Epoch [8/100] Batch [3600] Loss_G: 5.8418, Loss_D_A: 0.0601, Loss_D_B: 0.0211\n"
          ]
        },
        {
          "output_type": "stream",
          "name": "stderr",
          "text": [
            " 93%|█████████▎| 3702/4000 [08:45<00:44,  6.64it/s]"
          ]
        },
        {
          "output_type": "stream",
          "name": "stdout",
          "text": [
            "Epoch [8/100] Batch [3700] Loss_G: 4.0245, Loss_D_A: 0.1698, Loss_D_B: 0.0128\n"
          ]
        },
        {
          "output_type": "stream",
          "name": "stderr",
          "text": [
            " 95%|█████████▌| 3802/4000 [08:59<00:27,  7.14it/s]"
          ]
        },
        {
          "output_type": "stream",
          "name": "stdout",
          "text": [
            "Epoch [8/100] Batch [3800] Loss_G: 3.6241, Loss_D_A: 0.2219, Loss_D_B: 0.0226\n"
          ]
        },
        {
          "output_type": "stream",
          "name": "stderr",
          "text": [
            " 98%|█████████▊| 3902/4000 [09:14<00:13,  7.38it/s]"
          ]
        },
        {
          "output_type": "stream",
          "name": "stdout",
          "text": [
            "Epoch [8/100] Batch [3900] Loss_G: 7.3946, Loss_D_A: 0.2951, Loss_D_B: 0.0206\n"
          ]
        },
        {
          "output_type": "stream",
          "name": "stderr",
          "text": [
            "100%|██████████| 4000/4000 [09:28<00:00,  7.04it/s]\n",
            "  0%|          | 2/4000 [00:00<09:02,  7.37it/s]"
          ]
        },
        {
          "output_type": "stream",
          "name": "stdout",
          "text": [
            "Epoch [9/100] Batch [0] Loss_G: 6.2776, Loss_D_A: 0.1674, Loss_D_B: 0.0145\n"
          ]
        },
        {
          "output_type": "stream",
          "name": "stderr",
          "text": [
            "  3%|▎         | 102/4000 [00:14<08:58,  7.24it/s]"
          ]
        },
        {
          "output_type": "stream",
          "name": "stdout",
          "text": [
            "Epoch [9/100] Batch [100] Loss_G: 4.2544, Loss_D_A: 0.0977, Loss_D_B: 0.0049\n"
          ]
        },
        {
          "output_type": "stream",
          "name": "stderr",
          "text": [
            "  5%|▌         | 202/4000 [00:29<09:12,  6.88it/s]"
          ]
        },
        {
          "output_type": "stream",
          "name": "stdout",
          "text": [
            "Epoch [9/100] Batch [200] Loss_G: 5.2970, Loss_D_A: 0.1067, Loss_D_B: 0.0104\n"
          ]
        },
        {
          "output_type": "stream",
          "name": "stderr",
          "text": [
            "  8%|▊         | 302/4000 [00:44<08:52,  6.94it/s]"
          ]
        },
        {
          "output_type": "stream",
          "name": "stdout",
          "text": [
            "Epoch [9/100] Batch [300] Loss_G: 4.5511, Loss_D_A: 0.0711, Loss_D_B: 0.0750\n"
          ]
        },
        {
          "output_type": "stream",
          "name": "stderr",
          "text": [
            " 10%|█         | 402/4000 [00:58<08:22,  7.16it/s]"
          ]
        },
        {
          "output_type": "stream",
          "name": "stdout",
          "text": [
            "Epoch [9/100] Batch [400] Loss_G: 5.2090, Loss_D_A: 0.0934, Loss_D_B: 0.0202\n"
          ]
        },
        {
          "output_type": "stream",
          "name": "stderr",
          "text": [
            " 13%|█▎        | 502/4000 [01:13<08:04,  7.22it/s]"
          ]
        },
        {
          "output_type": "stream",
          "name": "stdout",
          "text": [
            "Epoch [9/100] Batch [500] Loss_G: 5.3571, Loss_D_A: 0.0967, Loss_D_B: 0.0196\n"
          ]
        },
        {
          "output_type": "stream",
          "name": "stderr",
          "text": [
            " 15%|█▌        | 602/4000 [01:27<07:59,  7.08it/s]"
          ]
        },
        {
          "output_type": "stream",
          "name": "stdout",
          "text": [
            "Epoch [9/100] Batch [600] Loss_G: 9.4011, Loss_D_A: 0.2141, Loss_D_B: 0.0288\n"
          ]
        },
        {
          "output_type": "stream",
          "name": "stderr",
          "text": [
            " 18%|█▊        | 702/4000 [01:42<07:26,  7.38it/s]"
          ]
        },
        {
          "output_type": "stream",
          "name": "stdout",
          "text": [
            "Epoch [9/100] Batch [700] Loss_G: 4.1279, Loss_D_A: 0.1602, Loss_D_B: 0.0550\n"
          ]
        },
        {
          "output_type": "stream",
          "name": "stderr",
          "text": [
            " 20%|██        | 802/4000 [01:56<07:52,  6.77it/s]"
          ]
        },
        {
          "output_type": "stream",
          "name": "stdout",
          "text": [
            "Epoch [9/100] Batch [800] Loss_G: 5.1211, Loss_D_A: 0.1665, Loss_D_B: 0.0125\n"
          ]
        },
        {
          "output_type": "stream",
          "name": "stderr",
          "text": [
            " 23%|██▎       | 902/4000 [02:10<07:41,  6.71it/s]"
          ]
        },
        {
          "output_type": "stream",
          "name": "stdout",
          "text": [
            "Epoch [9/100] Batch [900] Loss_G: 4.1670, Loss_D_A: 0.1942, Loss_D_B: 0.0204\n"
          ]
        },
        {
          "output_type": "stream",
          "name": "stderr",
          "text": [
            " 25%|██▌       | 1002/4000 [02:24<07:26,  6.72it/s]"
          ]
        },
        {
          "output_type": "stream",
          "name": "stdout",
          "text": [
            "Epoch [9/100] Batch [1000] Loss_G: 5.9756, Loss_D_A: 0.0197, Loss_D_B: 0.0167\n"
          ]
        },
        {
          "output_type": "stream",
          "name": "stderr",
          "text": [
            " 28%|██▊       | 1102/4000 [02:38<07:02,  6.86it/s]"
          ]
        },
        {
          "output_type": "stream",
          "name": "stdout",
          "text": [
            "Epoch [9/100] Batch [1100] Loss_G: 4.6439, Loss_D_A: 0.0575, Loss_D_B: 0.0999\n"
          ]
        },
        {
          "output_type": "stream",
          "name": "stderr",
          "text": [
            " 30%|███       | 1202/4000 [02:52<06:25,  7.25it/s]"
          ]
        },
        {
          "output_type": "stream",
          "name": "stdout",
          "text": [
            "Epoch [9/100] Batch [1200] Loss_G: 6.8292, Loss_D_A: 0.1437, Loss_D_B: 0.0100\n"
          ]
        },
        {
          "output_type": "stream",
          "name": "stderr",
          "text": [
            " 33%|███▎      | 1302/4000 [03:07<06:46,  6.63it/s]"
          ]
        },
        {
          "output_type": "stream",
          "name": "stdout",
          "text": [
            "Epoch [9/100] Batch [1300] Loss_G: 4.3358, Loss_D_A: 0.1436, Loss_D_B: 0.0055\n"
          ]
        },
        {
          "output_type": "stream",
          "name": "stderr",
          "text": [
            " 35%|███▌      | 1402/4000 [03:21<06:50,  6.33it/s]"
          ]
        },
        {
          "output_type": "stream",
          "name": "stdout",
          "text": [
            "Epoch [9/100] Batch [1400] Loss_G: 9.5307, Loss_D_A: 0.2722, Loss_D_B: 0.0279\n"
          ]
        },
        {
          "output_type": "stream",
          "name": "stderr",
          "text": [
            " 38%|███▊      | 1502/4000 [03:35<05:48,  7.18it/s]"
          ]
        },
        {
          "output_type": "stream",
          "name": "stdout",
          "text": [
            "Epoch [9/100] Batch [1500] Loss_G: 4.4579, Loss_D_A: 0.2006, Loss_D_B: 0.0575\n"
          ]
        },
        {
          "output_type": "stream",
          "name": "stderr",
          "text": [
            " 40%|████      | 1602/4000 [03:49<05:15,  7.60it/s]"
          ]
        },
        {
          "output_type": "stream",
          "name": "stdout",
          "text": [
            "Epoch [9/100] Batch [1600] Loss_G: 5.0651, Loss_D_A: 0.1701, Loss_D_B: 0.0363\n"
          ]
        },
        {
          "output_type": "stream",
          "name": "stderr",
          "text": [
            " 43%|████▎     | 1702/4000 [04:03<05:22,  7.12it/s]"
          ]
        },
        {
          "output_type": "stream",
          "name": "stdout",
          "text": [
            "Epoch [9/100] Batch [1700] Loss_G: 4.8637, Loss_D_A: 0.0360, Loss_D_B: 0.0207\n"
          ]
        },
        {
          "output_type": "stream",
          "name": "stderr",
          "text": [
            " 45%|████▌     | 1802/4000 [04:18<05:18,  6.91it/s]"
          ]
        },
        {
          "output_type": "stream",
          "name": "stdout",
          "text": [
            "Epoch [9/100] Batch [1800] Loss_G: 6.1230, Loss_D_A: 0.0608, Loss_D_B: 0.0280\n"
          ]
        },
        {
          "output_type": "stream",
          "name": "stderr",
          "text": [
            " 48%|████▊     | 1902/4000 [04:32<05:21,  6.52it/s]"
          ]
        },
        {
          "output_type": "stream",
          "name": "stdout",
          "text": [
            "Epoch [9/100] Batch [1900] Loss_G: 6.9192, Loss_D_A: 0.1517, Loss_D_B: 0.0090\n"
          ]
        },
        {
          "output_type": "stream",
          "name": "stderr",
          "text": [
            " 50%|█████     | 2002/4000 [04:46<04:39,  7.16it/s]"
          ]
        },
        {
          "output_type": "stream",
          "name": "stdout",
          "text": [
            "Epoch [9/100] Batch [2000] Loss_G: 7.6405, Loss_D_A: 0.1679, Loss_D_B: 0.0138\n"
          ]
        },
        {
          "output_type": "stream",
          "name": "stderr",
          "text": [
            " 53%|█████▎    | 2102/4000 [05:00<04:10,  7.57it/s]"
          ]
        },
        {
          "output_type": "stream",
          "name": "stdout",
          "text": [
            "Epoch [9/100] Batch [2100] Loss_G: 4.5789, Loss_D_A: 0.1328, Loss_D_B: 0.0512\n"
          ]
        },
        {
          "output_type": "stream",
          "name": "stderr",
          "text": [
            " 55%|█████▌    | 2202/4000 [05:14<04:06,  7.30it/s]"
          ]
        },
        {
          "output_type": "stream",
          "name": "stdout",
          "text": [
            "Epoch [9/100] Batch [2200] Loss_G: 4.0405, Loss_D_A: 0.0932, Loss_D_B: 0.0247\n"
          ]
        },
        {
          "output_type": "stream",
          "name": "stderr",
          "text": [
            " 58%|█████▊    | 2302/4000 [05:29<04:05,  6.91it/s]"
          ]
        },
        {
          "output_type": "stream",
          "name": "stdout",
          "text": [
            "Epoch [9/100] Batch [2300] Loss_G: 5.0766, Loss_D_A: 0.1300, Loss_D_B: 0.0299\n"
          ]
        },
        {
          "output_type": "stream",
          "name": "stderr",
          "text": [
            " 60%|██████    | 2402/4000 [05:43<03:51,  6.90it/s]"
          ]
        },
        {
          "output_type": "stream",
          "name": "stdout",
          "text": [
            "Epoch [9/100] Batch [2400] Loss_G: 3.5853, Loss_D_A: 0.1362, Loss_D_B: 0.0441\n"
          ]
        },
        {
          "output_type": "stream",
          "name": "stderr",
          "text": [
            " 63%|██████▎   | 2502/4000 [05:57<03:30,  7.10it/s]"
          ]
        },
        {
          "output_type": "stream",
          "name": "stdout",
          "text": [
            "Epoch [9/100] Batch [2500] Loss_G: 4.0672, Loss_D_A: 0.2176, Loss_D_B: 0.0197\n"
          ]
        },
        {
          "output_type": "stream",
          "name": "stderr",
          "text": [
            " 65%|██████▌   | 2602/4000 [06:11<03:08,  7.43it/s]"
          ]
        },
        {
          "output_type": "stream",
          "name": "stdout",
          "text": [
            "Epoch [9/100] Batch [2600] Loss_G: 5.4196, Loss_D_A: 0.1907, Loss_D_B: 0.0426\n"
          ]
        },
        {
          "output_type": "stream",
          "name": "stderr",
          "text": [
            " 68%|██████▊   | 2702/4000 [06:25<02:50,  7.60it/s]"
          ]
        },
        {
          "output_type": "stream",
          "name": "stdout",
          "text": [
            "Epoch [9/100] Batch [2700] Loss_G: 6.7149, Loss_D_A: 0.1357, Loss_D_B: 0.0142\n"
          ]
        },
        {
          "output_type": "stream",
          "name": "stderr",
          "text": [
            " 70%|███████   | 2802/4000 [06:39<02:59,  6.67it/s]"
          ]
        },
        {
          "output_type": "stream",
          "name": "stdout",
          "text": [
            "Epoch [9/100] Batch [2800] Loss_G: 4.7551, Loss_D_A: 0.0480, Loss_D_B: 0.0214\n"
          ]
        },
        {
          "output_type": "stream",
          "name": "stderr",
          "text": [
            " 73%|███████▎  | 2902/4000 [06:53<02:35,  7.06it/s]"
          ]
        },
        {
          "output_type": "stream",
          "name": "stdout",
          "text": [
            "Epoch [9/100] Batch [2900] Loss_G: 5.8400, Loss_D_A: 0.6170, Loss_D_B: 0.0600\n"
          ]
        },
        {
          "output_type": "stream",
          "name": "stderr",
          "text": [
            " 75%|███████▌  | 3002/4000 [07:07<02:15,  7.37it/s]"
          ]
        },
        {
          "output_type": "stream",
          "name": "stdout",
          "text": [
            "Epoch [9/100] Batch [3000] Loss_G: 4.9806, Loss_D_A: 0.0838, Loss_D_B: 0.0115\n"
          ]
        },
        {
          "output_type": "stream",
          "name": "stderr",
          "text": [
            " 78%|███████▊  | 3102/4000 [07:21<02:07,  7.04it/s]"
          ]
        },
        {
          "output_type": "stream",
          "name": "stdout",
          "text": [
            "Epoch [9/100] Batch [3100] Loss_G: 6.8744, Loss_D_A: 0.1081, Loss_D_B: 0.0103\n"
          ]
        },
        {
          "output_type": "stream",
          "name": "stderr",
          "text": [
            " 80%|████████  | 3202/4000 [07:36<01:56,  6.87it/s]"
          ]
        },
        {
          "output_type": "stream",
          "name": "stdout",
          "text": [
            "Epoch [9/100] Batch [3200] Loss_G: 4.1787, Loss_D_A: 0.2314, Loss_D_B: 0.0131\n"
          ]
        },
        {
          "output_type": "stream",
          "name": "stderr",
          "text": [
            " 83%|████████▎ | 3302/4000 [07:50<01:34,  7.36it/s]"
          ]
        },
        {
          "output_type": "stream",
          "name": "stdout",
          "text": [
            "Epoch [9/100] Batch [3300] Loss_G: 6.6109, Loss_D_A: 0.2149, Loss_D_B: 0.0183\n"
          ]
        },
        {
          "output_type": "stream",
          "name": "stderr",
          "text": [
            " 85%|████████▌ | 3402/4000 [08:04<01:25,  7.01it/s]"
          ]
        },
        {
          "output_type": "stream",
          "name": "stdout",
          "text": [
            "Epoch [9/100] Batch [3400] Loss_G: 6.8102, Loss_D_A: 0.2561, Loss_D_B: 0.0780\n"
          ]
        },
        {
          "output_type": "stream",
          "name": "stderr",
          "text": [
            " 88%|████████▊ | 3502/4000 [08:18<01:10,  7.07it/s]"
          ]
        },
        {
          "output_type": "stream",
          "name": "stdout",
          "text": [
            "Epoch [9/100] Batch [3500] Loss_G: 5.1742, Loss_D_A: 0.0656, Loss_D_B: 0.0177\n"
          ]
        },
        {
          "output_type": "stream",
          "name": "stderr",
          "text": [
            " 90%|█████████ | 3602/4000 [08:32<00:53,  7.39it/s]"
          ]
        },
        {
          "output_type": "stream",
          "name": "stdout",
          "text": [
            "Epoch [9/100] Batch [3600] Loss_G: 6.0457, Loss_D_A: 0.0737, Loss_D_B: 0.0186\n"
          ]
        },
        {
          "output_type": "stream",
          "name": "stderr",
          "text": [
            " 93%|█████████▎| 3702/4000 [08:47<00:40,  7.45it/s]"
          ]
        },
        {
          "output_type": "stream",
          "name": "stdout",
          "text": [
            "Epoch [9/100] Batch [3700] Loss_G: 4.6637, Loss_D_A: 0.0427, Loss_D_B: 0.0338\n"
          ]
        },
        {
          "output_type": "stream",
          "name": "stderr",
          "text": [
            " 95%|█████████▌| 3802/4000 [09:01<00:27,  7.29it/s]"
          ]
        },
        {
          "output_type": "stream",
          "name": "stdout",
          "text": [
            "Epoch [9/100] Batch [3800] Loss_G: 5.3279, Loss_D_A: 0.1205, Loss_D_B: 0.0097\n"
          ]
        },
        {
          "output_type": "stream",
          "name": "stderr",
          "text": [
            " 98%|█████████▊| 3902/4000 [09:15<00:13,  7.29it/s]"
          ]
        },
        {
          "output_type": "stream",
          "name": "stdout",
          "text": [
            "Epoch [9/100] Batch [3900] Loss_G: 8.2061, Loss_D_A: 0.1781, Loss_D_B: 0.0141\n"
          ]
        },
        {
          "output_type": "stream",
          "name": "stderr",
          "text": [
            "100%|██████████| 4000/4000 [09:29<00:00,  7.02it/s]\n",
            "  0%|          | 2/4000 [00:00<08:34,  7.77it/s]"
          ]
        },
        {
          "output_type": "stream",
          "name": "stdout",
          "text": [
            "Epoch [10/100] Batch [0] Loss_G: 7.2537, Loss_D_A: 0.1710, Loss_D_B: 0.0167\n"
          ]
        },
        {
          "output_type": "stream",
          "name": "stderr",
          "text": [
            "  3%|▎         | 102/4000 [00:14<09:18,  6.98it/s]"
          ]
        },
        {
          "output_type": "stream",
          "name": "stdout",
          "text": [
            "Epoch [10/100] Batch [100] Loss_G: 3.7265, Loss_D_A: 0.1095, Loss_D_B: 0.0144\n"
          ]
        },
        {
          "output_type": "stream",
          "name": "stderr",
          "text": [
            "  5%|▌         | 202/4000 [00:28<09:02,  7.00it/s]"
          ]
        },
        {
          "output_type": "stream",
          "name": "stdout",
          "text": [
            "Epoch [10/100] Batch [200] Loss_G: 4.1713, Loss_D_A: 0.1606, Loss_D_B: 0.0211\n"
          ]
        },
        {
          "output_type": "stream",
          "name": "stderr",
          "text": [
            "  8%|▊         | 302/4000 [00:42<09:01,  6.83it/s]"
          ]
        },
        {
          "output_type": "stream",
          "name": "stdout",
          "text": [
            "Epoch [10/100] Batch [300] Loss_G: 4.7309, Loss_D_A: 0.5190, Loss_D_B: 0.0232\n"
          ]
        },
        {
          "output_type": "stream",
          "name": "stderr",
          "text": [
            " 10%|█         | 402/4000 [00:56<08:10,  7.34it/s]"
          ]
        },
        {
          "output_type": "stream",
          "name": "stdout",
          "text": [
            "Epoch [10/100] Batch [400] Loss_G: 6.4642, Loss_D_A: 0.0880, Loss_D_B: 0.0297\n"
          ]
        },
        {
          "output_type": "stream",
          "name": "stderr",
          "text": [
            " 13%|█▎        | 502/4000 [01:10<08:07,  7.17it/s]"
          ]
        },
        {
          "output_type": "stream",
          "name": "stdout",
          "text": [
            "Epoch [10/100] Batch [500] Loss_G: 5.6337, Loss_D_A: 0.0410, Loss_D_B: 0.0108\n"
          ]
        },
        {
          "output_type": "stream",
          "name": "stderr",
          "text": [
            " 15%|█▌        | 602/4000 [01:24<07:54,  7.17it/s]"
          ]
        },
        {
          "output_type": "stream",
          "name": "stdout",
          "text": [
            "Epoch [10/100] Batch [600] Loss_G: 4.4918, Loss_D_A: 0.1354, Loss_D_B: 0.0239\n"
          ]
        },
        {
          "output_type": "stream",
          "name": "stderr",
          "text": [
            " 18%|█▊        | 702/4000 [01:39<07:21,  7.47it/s]"
          ]
        },
        {
          "output_type": "stream",
          "name": "stdout",
          "text": [
            "Epoch [10/100] Batch [700] Loss_G: 4.3659, Loss_D_A: 0.0680, Loss_D_B: 0.0662\n"
          ]
        },
        {
          "output_type": "stream",
          "name": "stderr",
          "text": [
            " 20%|██        | 802/4000 [01:53<07:45,  6.87it/s]"
          ]
        },
        {
          "output_type": "stream",
          "name": "stdout",
          "text": [
            "Epoch [10/100] Batch [800] Loss_G: 5.0253, Loss_D_A: 0.0975, Loss_D_B: 0.0181\n"
          ]
        },
        {
          "output_type": "stream",
          "name": "stderr",
          "text": [
            " 23%|██▎       | 902/4000 [02:07<07:01,  7.35it/s]"
          ]
        },
        {
          "output_type": "stream",
          "name": "stdout",
          "text": [
            "Epoch [10/100] Batch [900] Loss_G: 5.5033, Loss_D_A: 0.0970, Loss_D_B: 0.0625\n"
          ]
        },
        {
          "output_type": "stream",
          "name": "stderr",
          "text": [
            " 25%|██▌       | 1002/4000 [02:21<07:00,  7.13it/s]"
          ]
        },
        {
          "output_type": "stream",
          "name": "stdout",
          "text": [
            "Epoch [10/100] Batch [1000] Loss_G: 4.1998, Loss_D_A: 0.3532, Loss_D_B: 0.0088\n"
          ]
        },
        {
          "output_type": "stream",
          "name": "stderr",
          "text": [
            " 28%|██▊       | 1102/4000 [02:35<06:45,  7.15it/s]"
          ]
        },
        {
          "output_type": "stream",
          "name": "stdout",
          "text": [
            "Epoch [10/100] Batch [1100] Loss_G: 3.9665, Loss_D_A: 0.1433, Loss_D_B: 0.0211\n"
          ]
        },
        {
          "output_type": "stream",
          "name": "stderr",
          "text": [
            " 30%|███       | 1202/4000 [02:50<06:31,  7.15it/s]"
          ]
        },
        {
          "output_type": "stream",
          "name": "stdout",
          "text": [
            "Epoch [10/100] Batch [1200] Loss_G: 5.1723, Loss_D_A: 0.0538, Loss_D_B: 0.0315\n"
          ]
        },
        {
          "output_type": "stream",
          "name": "stderr",
          "text": [
            " 33%|███▎      | 1302/4000 [03:04<06:38,  6.77it/s]"
          ]
        },
        {
          "output_type": "stream",
          "name": "stdout",
          "text": [
            "Epoch [10/100] Batch [1300] Loss_G: 6.9184, Loss_D_A: 0.0546, Loss_D_B: 0.0381\n"
          ]
        },
        {
          "output_type": "stream",
          "name": "stderr",
          "text": [
            " 35%|███▌      | 1402/4000 [03:18<06:13,  6.96it/s]"
          ]
        },
        {
          "output_type": "stream",
          "name": "stdout",
          "text": [
            "Epoch [10/100] Batch [1400] Loss_G: 6.3363, Loss_D_A: 0.0648, Loss_D_B: 0.0137\n"
          ]
        },
        {
          "output_type": "stream",
          "name": "stderr",
          "text": [
            " 38%|███▊      | 1502/4000 [03:33<05:49,  7.15it/s]"
          ]
        },
        {
          "output_type": "stream",
          "name": "stdout",
          "text": [
            "Epoch [10/100] Batch [1500] Loss_G: 5.6746, Loss_D_A: 0.1242, Loss_D_B: 0.0269\n"
          ]
        },
        {
          "output_type": "stream",
          "name": "stderr",
          "text": [
            " 40%|████      | 1602/4000 [03:47<05:33,  7.20it/s]"
          ]
        },
        {
          "output_type": "stream",
          "name": "stdout",
          "text": [
            "Epoch [10/100] Batch [1600] Loss_G: 5.0434, Loss_D_A: 0.0646, Loss_D_B: 0.0485\n"
          ]
        },
        {
          "output_type": "stream",
          "name": "stderr",
          "text": [
            " 43%|████▎     | 1702/4000 [04:01<05:18,  7.21it/s]"
          ]
        },
        {
          "output_type": "stream",
          "name": "stdout",
          "text": [
            "Epoch [10/100] Batch [1700] Loss_G: 4.8848, Loss_D_A: 0.0652, Loss_D_B: 0.0497\n"
          ]
        },
        {
          "output_type": "stream",
          "name": "stderr",
          "text": [
            " 45%|████▌     | 1802/4000 [04:15<05:33,  6.59it/s]"
          ]
        },
        {
          "output_type": "stream",
          "name": "stdout",
          "text": [
            "Epoch [10/100] Batch [1800] Loss_G: 5.6364, Loss_D_A: 0.0293, Loss_D_B: 0.0145\n"
          ]
        },
        {
          "output_type": "stream",
          "name": "stderr",
          "text": [
            " 48%|████▊     | 1902/4000 [04:30<05:13,  6.69it/s]"
          ]
        },
        {
          "output_type": "stream",
          "name": "stdout",
          "text": [
            "Epoch [10/100] Batch [1900] Loss_G: 3.8475, Loss_D_A: 0.0399, Loss_D_B: 0.0195\n"
          ]
        },
        {
          "output_type": "stream",
          "name": "stderr",
          "text": [
            " 50%|█████     | 2002/4000 [04:44<04:43,  7.04it/s]"
          ]
        },
        {
          "output_type": "stream",
          "name": "stdout",
          "text": [
            "Epoch [10/100] Batch [2000] Loss_G: 3.8101, Loss_D_A: 0.1218, Loss_D_B: 0.0320\n"
          ]
        },
        {
          "output_type": "stream",
          "name": "stderr",
          "text": [
            " 53%|█████▎    | 2102/4000 [04:58<04:33,  6.93it/s]"
          ]
        },
        {
          "output_type": "stream",
          "name": "stdout",
          "text": [
            "Epoch [10/100] Batch [2100] Loss_G: 4.8173, Loss_D_A: 0.0845, Loss_D_B: 0.0210\n"
          ]
        },
        {
          "output_type": "stream",
          "name": "stderr",
          "text": [
            " 55%|█████▌    | 2202/4000 [05:13<04:02,  7.41it/s]"
          ]
        },
        {
          "output_type": "stream",
          "name": "stdout",
          "text": [
            "Epoch [10/100] Batch [2200] Loss_G: 6.8700, Loss_D_A: 0.0363, Loss_D_B: 0.0276\n"
          ]
        },
        {
          "output_type": "stream",
          "name": "stderr",
          "text": [
            " 58%|█████▊    | 2302/4000 [05:27<03:47,  7.45it/s]"
          ]
        },
        {
          "output_type": "stream",
          "name": "stdout",
          "text": [
            "Epoch [10/100] Batch [2300] Loss_G: 5.7958, Loss_D_A: 0.1626, Loss_D_B: 0.0253\n"
          ]
        },
        {
          "output_type": "stream",
          "name": "stderr",
          "text": [
            " 60%|██████    | 2402/4000 [05:42<04:03,  6.57it/s]"
          ]
        },
        {
          "output_type": "stream",
          "name": "stdout",
          "text": [
            "Epoch [10/100] Batch [2400] Loss_G: 6.7812, Loss_D_A: 0.1425, Loss_D_B: 0.0250\n"
          ]
        },
        {
          "output_type": "stream",
          "name": "stderr",
          "text": [
            " 63%|██████▎   | 2501/4000 [05:56<03:21,  7.43it/s]"
          ]
        },
        {
          "output_type": "stream",
          "name": "stdout",
          "text": [
            "Epoch [10/100] Batch [2500] Loss_G: 5.3462, Loss_D_A: 0.0568, Loss_D_B: 0.0129\n"
          ]
        },
        {
          "output_type": "stream",
          "name": "stderr",
          "text": [
            " 65%|██████▌   | 2602/4000 [06:11<03:08,  7.42it/s]"
          ]
        },
        {
          "output_type": "stream",
          "name": "stdout",
          "text": [
            "Epoch [10/100] Batch [2600] Loss_G: 5.5364, Loss_D_A: 0.0532, Loss_D_B: 0.0234\n"
          ]
        },
        {
          "output_type": "stream",
          "name": "stderr",
          "text": [
            " 68%|██████▊   | 2702/4000 [06:25<02:58,  7.27it/s]"
          ]
        },
        {
          "output_type": "stream",
          "name": "stdout",
          "text": [
            "Epoch [10/100] Batch [2700] Loss_G: 4.1111, Loss_D_A: 0.2637, Loss_D_B: 0.0091\n"
          ]
        },
        {
          "output_type": "stream",
          "name": "stderr",
          "text": [
            " 70%|███████   | 2802/4000 [06:39<02:52,  6.96it/s]"
          ]
        },
        {
          "output_type": "stream",
          "name": "stdout",
          "text": [
            "Epoch [10/100] Batch [2800] Loss_G: 5.0966, Loss_D_A: 0.0421, Loss_D_B: 0.0280\n"
          ]
        },
        {
          "output_type": "stream",
          "name": "stderr",
          "text": [
            " 73%|███████▎  | 2902/4000 [06:53<02:30,  7.30it/s]"
          ]
        },
        {
          "output_type": "stream",
          "name": "stdout",
          "text": [
            "Epoch [10/100] Batch [2900] Loss_G: 5.6914, Loss_D_A: 0.1701, Loss_D_B: 0.0355\n"
          ]
        },
        {
          "output_type": "stream",
          "name": "stderr",
          "text": [
            " 75%|███████▌  | 3002/4000 [07:07<02:26,  6.81it/s]"
          ]
        },
        {
          "output_type": "stream",
          "name": "stdout",
          "text": [
            "Epoch [10/100] Batch [3000] Loss_G: 4.1721, Loss_D_A: 0.3349, Loss_D_B: 0.0214\n"
          ]
        },
        {
          "output_type": "stream",
          "name": "stderr",
          "text": [
            " 78%|███████▊  | 3102/4000 [07:22<02:05,  7.15it/s]"
          ]
        },
        {
          "output_type": "stream",
          "name": "stdout",
          "text": [
            "Epoch [10/100] Batch [3100] Loss_G: 5.0376, Loss_D_A: 0.1488, Loss_D_B: 0.0448\n"
          ]
        },
        {
          "output_type": "stream",
          "name": "stderr",
          "text": [
            " 80%|████████  | 3202/4000 [07:35<02:05,  6.38it/s]"
          ]
        },
        {
          "output_type": "stream",
          "name": "stdout",
          "text": [
            "Epoch [10/100] Batch [3200] Loss_G: 5.0989, Loss_D_A: 0.3772, Loss_D_B: 0.0608\n"
          ]
        },
        {
          "output_type": "stream",
          "name": "stderr",
          "text": [
            " 83%|████████▎ | 3302/4000 [07:49<01:34,  7.43it/s]"
          ]
        },
        {
          "output_type": "stream",
          "name": "stdout",
          "text": [
            "Epoch [10/100] Batch [3300] Loss_G: 4.7261, Loss_D_A: 0.1219, Loss_D_B: 0.0335\n"
          ]
        },
        {
          "output_type": "stream",
          "name": "stderr",
          "text": [
            " 85%|████████▌ | 3402/4000 [08:03<01:24,  7.09it/s]"
          ]
        },
        {
          "output_type": "stream",
          "name": "stdout",
          "text": [
            "Epoch [10/100] Batch [3400] Loss_G: 5.1309, Loss_D_A: 0.3183, Loss_D_B: 0.0131\n"
          ]
        },
        {
          "output_type": "stream",
          "name": "stderr",
          "text": [
            " 88%|████████▊ | 3502/4000 [08:17<01:08,  7.30it/s]"
          ]
        },
        {
          "output_type": "stream",
          "name": "stdout",
          "text": [
            "Epoch [10/100] Batch [3500] Loss_G: 5.9195, Loss_D_A: 0.0715, Loss_D_B: 0.0118\n"
          ]
        },
        {
          "output_type": "stream",
          "name": "stderr",
          "text": [
            " 90%|█████████ | 3602/4000 [08:32<01:01,  6.47it/s]"
          ]
        },
        {
          "output_type": "stream",
          "name": "stdout",
          "text": [
            "Epoch [10/100] Batch [3600] Loss_G: 4.4555, Loss_D_A: 0.2909, Loss_D_B: 0.0216\n"
          ]
        },
        {
          "output_type": "stream",
          "name": "stderr",
          "text": [
            " 93%|█████████▎| 3702/4000 [08:46<00:39,  7.49it/s]"
          ]
        },
        {
          "output_type": "stream",
          "name": "stdout",
          "text": [
            "Epoch [10/100] Batch [3700] Loss_G: 4.6061, Loss_D_A: 0.1573, Loss_D_B: 0.0076\n"
          ]
        },
        {
          "output_type": "stream",
          "name": "stderr",
          "text": [
            " 95%|█████████▌| 3802/4000 [09:01<00:27,  7.23it/s]"
          ]
        },
        {
          "output_type": "stream",
          "name": "stdout",
          "text": [
            "Epoch [10/100] Batch [3800] Loss_G: 3.8995, Loss_D_A: 0.1160, Loss_D_B: 0.0351\n"
          ]
        },
        {
          "output_type": "stream",
          "name": "stderr",
          "text": [
            " 98%|█████████▊| 3902/4000 [09:15<00:14,  6.93it/s]"
          ]
        },
        {
          "output_type": "stream",
          "name": "stdout",
          "text": [
            "Epoch [10/100] Batch [3900] Loss_G: 4.0151, Loss_D_A: 0.2521, Loss_D_B: 0.0228\n"
          ]
        },
        {
          "output_type": "stream",
          "name": "stderr",
          "text": [
            "100%|██████████| 4000/4000 [09:29<00:00,  7.03it/s]\n",
            "  0%|          | 2/4000 [00:00<09:44,  6.84it/s]"
          ]
        },
        {
          "output_type": "stream",
          "name": "stdout",
          "text": [
            "Epoch [11/100] Batch [0] Loss_G: 4.2840, Loss_D_A: 0.1810, Loss_D_B: 0.0110\n"
          ]
        },
        {
          "output_type": "stream",
          "name": "stderr",
          "text": [
            "  3%|▎         | 102/4000 [00:14<08:47,  7.39it/s]"
          ]
        },
        {
          "output_type": "stream",
          "name": "stdout",
          "text": [
            "Epoch [11/100] Batch [100] Loss_G: 4.8672, Loss_D_A: 0.6657, Loss_D_B: 0.0197\n"
          ]
        },
        {
          "output_type": "stream",
          "name": "stderr",
          "text": [
            "  5%|▌         | 202/4000 [00:28<09:25,  6.72it/s]"
          ]
        },
        {
          "output_type": "stream",
          "name": "stdout",
          "text": [
            "Epoch [11/100] Batch [200] Loss_G: 4.9513, Loss_D_A: 0.1348, Loss_D_B: 0.0543\n"
          ]
        },
        {
          "output_type": "stream",
          "name": "stderr",
          "text": [
            "  8%|▊         | 302/4000 [00:43<08:41,  7.09it/s]"
          ]
        },
        {
          "output_type": "stream",
          "name": "stdout",
          "text": [
            "Epoch [11/100] Batch [300] Loss_G: 5.2886, Loss_D_A: 0.1911, Loss_D_B: 0.0096\n"
          ]
        },
        {
          "output_type": "stream",
          "name": "stderr",
          "text": [
            " 10%|█         | 402/4000 [00:57<09:20,  6.42it/s]"
          ]
        },
        {
          "output_type": "stream",
          "name": "stdout",
          "text": [
            "Epoch [11/100] Batch [400] Loss_G: 5.0394, Loss_D_A: 0.2623, Loss_D_B: 0.0088\n"
          ]
        },
        {
          "output_type": "stream",
          "name": "stderr",
          "text": [
            " 13%|█▎        | 502/4000 [01:11<07:45,  7.51it/s]"
          ]
        },
        {
          "output_type": "stream",
          "name": "stdout",
          "text": [
            "Epoch [11/100] Batch [500] Loss_G: 4.1053, Loss_D_A: 0.3731, Loss_D_B: 0.0113\n"
          ]
        },
        {
          "output_type": "stream",
          "name": "stderr",
          "text": [
            " 15%|█▌        | 602/4000 [01:25<08:10,  6.92it/s]"
          ]
        },
        {
          "output_type": "stream",
          "name": "stdout",
          "text": [
            "Epoch [11/100] Batch [600] Loss_G: 5.5377, Loss_D_A: 0.0832, Loss_D_B: 0.0211\n"
          ]
        },
        {
          "output_type": "stream",
          "name": "stderr",
          "text": [
            " 18%|█▊        | 701/4000 [01:40<09:03,  6.07it/s]"
          ]
        },
        {
          "output_type": "stream",
          "name": "stdout",
          "text": [
            "Epoch [11/100] Batch [700] Loss_G: 6.2111, Loss_D_A: 0.1402, Loss_D_B: 0.0114\n"
          ]
        },
        {
          "output_type": "stream",
          "name": "stderr",
          "text": [
            " 20%|██        | 802/4000 [01:54<07:48,  6.83it/s]"
          ]
        },
        {
          "output_type": "stream",
          "name": "stdout",
          "text": [
            "Epoch [11/100] Batch [800] Loss_G: 5.4638, Loss_D_A: 0.1957, Loss_D_B: 0.0198\n"
          ]
        },
        {
          "output_type": "stream",
          "name": "stderr",
          "text": [
            " 23%|██▎       | 902/4000 [02:08<07:51,  6.56it/s]"
          ]
        },
        {
          "output_type": "stream",
          "name": "stdout",
          "text": [
            "Epoch [11/100] Batch [900] Loss_G: 6.1987, Loss_D_A: 0.0939, Loss_D_B: 0.0218\n"
          ]
        },
        {
          "output_type": "stream",
          "name": "stderr",
          "text": [
            " 25%|██▌       | 1002/4000 [02:22<07:19,  6.83it/s]"
          ]
        },
        {
          "output_type": "stream",
          "name": "stdout",
          "text": [
            "Epoch [11/100] Batch [1000] Loss_G: 3.6199, Loss_D_A: 0.0884, Loss_D_B: 0.0108\n"
          ]
        },
        {
          "output_type": "stream",
          "name": "stderr",
          "text": [
            " 28%|██▊       | 1102/4000 [02:37<06:43,  7.18it/s]"
          ]
        },
        {
          "output_type": "stream",
          "name": "stdout",
          "text": [
            "Epoch [11/100] Batch [1100] Loss_G: 5.4501, Loss_D_A: 0.0778, Loss_D_B: 0.0273\n"
          ]
        },
        {
          "output_type": "stream",
          "name": "stderr",
          "text": [
            " 30%|███       | 1202/4000 [02:51<06:16,  7.42it/s]"
          ]
        },
        {
          "output_type": "stream",
          "name": "stdout",
          "text": [
            "Epoch [11/100] Batch [1200] Loss_G: 6.0181, Loss_D_A: 0.1954, Loss_D_B: 0.0097\n"
          ]
        },
        {
          "output_type": "stream",
          "name": "stderr",
          "text": [
            " 33%|███▎      | 1302/4000 [03:05<06:31,  6.89it/s]"
          ]
        },
        {
          "output_type": "stream",
          "name": "stdout",
          "text": [
            "Epoch [11/100] Batch [1300] Loss_G: 5.7457, Loss_D_A: 0.2056, Loss_D_B: 0.0205\n"
          ]
        },
        {
          "output_type": "stream",
          "name": "stderr",
          "text": [
            " 35%|███▌      | 1402/4000 [03:19<05:44,  7.54it/s]"
          ]
        },
        {
          "output_type": "stream",
          "name": "stdout",
          "text": [
            "Epoch [11/100] Batch [1400] Loss_G: 5.4800, Loss_D_A: 0.1588, Loss_D_B: 0.0274\n"
          ]
        },
        {
          "output_type": "stream",
          "name": "stderr",
          "text": [
            " 38%|███▊      | 1502/4000 [03:33<05:41,  7.32it/s]"
          ]
        },
        {
          "output_type": "stream",
          "name": "stdout",
          "text": [
            "Epoch [11/100] Batch [1500] Loss_G: 5.7135, Loss_D_A: 0.0797, Loss_D_B: 0.0209\n"
          ]
        },
        {
          "output_type": "stream",
          "name": "stderr",
          "text": [
            " 40%|████      | 1602/4000 [03:47<05:29,  7.27it/s]"
          ]
        },
        {
          "output_type": "stream",
          "name": "stdout",
          "text": [
            "Epoch [11/100] Batch [1600] Loss_G: 4.4940, Loss_D_A: 0.4233, Loss_D_B: 0.0110\n"
          ]
        },
        {
          "output_type": "stream",
          "name": "stderr",
          "text": [
            " 43%|████▎     | 1702/4000 [04:02<06:00,  6.38it/s]"
          ]
        },
        {
          "output_type": "stream",
          "name": "stdout",
          "text": [
            "Epoch [11/100] Batch [1700] Loss_G: 6.0811, Loss_D_A: 0.2422, Loss_D_B: 0.0131\n"
          ]
        },
        {
          "output_type": "stream",
          "name": "stderr",
          "text": [
            " 45%|████▌     | 1802/4000 [04:16<05:26,  6.72it/s]"
          ]
        },
        {
          "output_type": "stream",
          "name": "stdout",
          "text": [
            "Epoch [11/100] Batch [1800] Loss_G: 6.8904, Loss_D_A: 0.0692, Loss_D_B: 0.0337\n"
          ]
        },
        {
          "output_type": "stream",
          "name": "stderr",
          "text": [
            " 48%|████▊     | 1902/4000 [04:30<04:56,  7.07it/s]"
          ]
        },
        {
          "output_type": "stream",
          "name": "stdout",
          "text": [
            "Epoch [11/100] Batch [1900] Loss_G: 5.7102, Loss_D_A: 0.0571, Loss_D_B: 0.0215\n"
          ]
        },
        {
          "output_type": "stream",
          "name": "stderr",
          "text": [
            " 50%|█████     | 2002/4000 [04:44<05:07,  6.50it/s]"
          ]
        },
        {
          "output_type": "stream",
          "name": "stdout",
          "text": [
            "Epoch [11/100] Batch [2000] Loss_G: 6.2986, Loss_D_A: 0.4283, Loss_D_B: 0.0402\n"
          ]
        },
        {
          "output_type": "stream",
          "name": "stderr",
          "text": [
            " 53%|█████▎    | 2102/4000 [04:58<04:18,  7.35it/s]"
          ]
        },
        {
          "output_type": "stream",
          "name": "stdout",
          "text": [
            "Epoch [11/100] Batch [2100] Loss_G: 4.7072, Loss_D_A: 0.1677, Loss_D_B: 0.0123\n"
          ]
        },
        {
          "output_type": "stream",
          "name": "stderr",
          "text": [
            " 55%|█████▌    | 2202/4000 [05:12<04:14,  7.07it/s]"
          ]
        },
        {
          "output_type": "stream",
          "name": "stdout",
          "text": [
            "Epoch [11/100] Batch [2200] Loss_G: 5.1541, Loss_D_A: 0.1610, Loss_D_B: 0.0121\n"
          ]
        },
        {
          "output_type": "stream",
          "name": "stderr",
          "text": [
            " 58%|█████▊    | 2302/4000 [05:26<03:57,  7.15it/s]"
          ]
        },
        {
          "output_type": "stream",
          "name": "stdout",
          "text": [
            "Epoch [11/100] Batch [2300] Loss_G: 6.6742, Loss_D_A: 0.2472, Loss_D_B: 0.0430\n"
          ]
        },
        {
          "output_type": "stream",
          "name": "stderr",
          "text": [
            " 60%|██████    | 2402/4000 [05:40<03:39,  7.29it/s]"
          ]
        },
        {
          "output_type": "stream",
          "name": "stdout",
          "text": [
            "Epoch [11/100] Batch [2400] Loss_G: 7.5458, Loss_D_A: 0.0493, Loss_D_B: 0.0453\n"
          ]
        },
        {
          "output_type": "stream",
          "name": "stderr",
          "text": [
            " 63%|██████▎   | 2502/4000 [05:55<03:40,  6.79it/s]"
          ]
        },
        {
          "output_type": "stream",
          "name": "stdout",
          "text": [
            "Epoch [11/100] Batch [2500] Loss_G: 6.6259, Loss_D_A: 0.2498, Loss_D_B: 0.0085\n"
          ]
        },
        {
          "output_type": "stream",
          "name": "stderr",
          "text": [
            " 65%|██████▌   | 2602/4000 [06:09<03:39,  6.38it/s]"
          ]
        },
        {
          "output_type": "stream",
          "name": "stdout",
          "text": [
            "Epoch [11/100] Batch [2600] Loss_G: 5.2765, Loss_D_A: 0.2912, Loss_D_B: 0.0107\n"
          ]
        },
        {
          "output_type": "stream",
          "name": "stderr",
          "text": [
            " 68%|██████▊   | 2702/4000 [06:23<02:55,  7.40it/s]"
          ]
        },
        {
          "output_type": "stream",
          "name": "stdout",
          "text": [
            "Epoch [11/100] Batch [2700] Loss_G: 6.0750, Loss_D_A: 0.0999, Loss_D_B: 0.0160\n"
          ]
        },
        {
          "output_type": "stream",
          "name": "stderr",
          "text": [
            " 70%|███████   | 2802/4000 [06:37<02:55,  6.84it/s]"
          ]
        },
        {
          "output_type": "stream",
          "name": "stdout",
          "text": [
            "Epoch [11/100] Batch [2800] Loss_G: 7.3887, Loss_D_A: 0.0327, Loss_D_B: 0.0172\n"
          ]
        },
        {
          "output_type": "stream",
          "name": "stderr",
          "text": [
            " 73%|███████▎  | 2902/4000 [06:51<02:31,  7.25it/s]"
          ]
        },
        {
          "output_type": "stream",
          "name": "stdout",
          "text": [
            "Epoch [11/100] Batch [2900] Loss_G: 4.0746, Loss_D_A: 0.2046, Loss_D_B: 0.0545\n"
          ]
        },
        {
          "output_type": "stream",
          "name": "stderr",
          "text": [
            " 75%|███████▌  | 3001/4000 [07:05<02:44,  6.07it/s]"
          ]
        },
        {
          "output_type": "stream",
          "name": "stdout",
          "text": [
            "Epoch [11/100] Batch [3000] Loss_G: 4.0518, Loss_D_A: 0.1962, Loss_D_B: 0.0528\n"
          ]
        },
        {
          "output_type": "stream",
          "name": "stderr",
          "text": [
            " 78%|███████▊  | 3102/4000 [07:21<02:10,  6.90it/s]"
          ]
        },
        {
          "output_type": "stream",
          "name": "stdout",
          "text": [
            "Epoch [11/100] Batch [3100] Loss_G: 3.5456, Loss_D_A: 0.2390, Loss_D_B: 0.0296\n"
          ]
        },
        {
          "output_type": "stream",
          "name": "stderr",
          "text": [
            " 80%|████████  | 3202/4000 [07:38<01:57,  6.80it/s]"
          ]
        },
        {
          "output_type": "stream",
          "name": "stdout",
          "text": [
            "Epoch [11/100] Batch [3200] Loss_G: 6.3298, Loss_D_A: 0.1825, Loss_D_B: 0.0170\n"
          ]
        },
        {
          "output_type": "stream",
          "name": "stderr",
          "text": [
            " 83%|████████▎ | 3302/4000 [07:52<01:36,  7.22it/s]"
          ]
        },
        {
          "output_type": "stream",
          "name": "stdout",
          "text": [
            "Epoch [11/100] Batch [3300] Loss_G: 3.3978, Loss_D_A: 0.2488, Loss_D_B: 0.0436\n"
          ]
        },
        {
          "output_type": "stream",
          "name": "stderr",
          "text": [
            " 85%|████████▌ | 3402/4000 [08:06<01:23,  7.16it/s]"
          ]
        },
        {
          "output_type": "stream",
          "name": "stdout",
          "text": [
            "Epoch [11/100] Batch [3400] Loss_G: 4.4829, Loss_D_A: 0.1775, Loss_D_B: 0.0166\n"
          ]
        },
        {
          "output_type": "stream",
          "name": "stderr",
          "text": [
            " 88%|████████▊ | 3502/4000 [08:20<01:07,  7.39it/s]"
          ]
        },
        {
          "output_type": "stream",
          "name": "stdout",
          "text": [
            "Epoch [11/100] Batch [3500] Loss_G: 6.1158, Loss_D_A: 0.0748, Loss_D_B: 0.0908\n"
          ]
        },
        {
          "output_type": "stream",
          "name": "stderr",
          "text": [
            " 90%|█████████ | 3602/4000 [08:35<00:54,  7.25it/s]"
          ]
        },
        {
          "output_type": "stream",
          "name": "stdout",
          "text": [
            "Epoch [11/100] Batch [3600] Loss_G: 5.5374, Loss_D_A: 0.1615, Loss_D_B: 0.0250\n"
          ]
        },
        {
          "output_type": "stream",
          "name": "stderr",
          "text": [
            " 93%|█████████▎| 3702/4000 [08:49<00:41,  7.27it/s]"
          ]
        },
        {
          "output_type": "stream",
          "name": "stdout",
          "text": [
            "Epoch [11/100] Batch [3700] Loss_G: 5.8792, Loss_D_A: 0.0456, Loss_D_B: 0.0123\n"
          ]
        },
        {
          "output_type": "stream",
          "name": "stderr",
          "text": [
            " 95%|█████████▌| 3802/4000 [09:03<00:27,  7.19it/s]"
          ]
        },
        {
          "output_type": "stream",
          "name": "stdout",
          "text": [
            "Epoch [11/100] Batch [3800] Loss_G: 4.8843, Loss_D_A: 0.2124, Loss_D_B: 0.0060\n"
          ]
        },
        {
          "output_type": "stream",
          "name": "stderr",
          "text": [
            " 98%|█████████▊| 3902/4000 [09:17<00:13,  7.39it/s]"
          ]
        },
        {
          "output_type": "stream",
          "name": "stdout",
          "text": [
            "Epoch [11/100] Batch [3900] Loss_G: 5.2303, Loss_D_A: 0.1047, Loss_D_B: 0.0168\n"
          ]
        },
        {
          "output_type": "stream",
          "name": "stderr",
          "text": [
            "100%|██████████| 4000/4000 [09:31<00:00,  6.99it/s]\n",
            "  0%|          | 2/4000 [00:00<10:09,  6.56it/s]"
          ]
        },
        {
          "output_type": "stream",
          "name": "stdout",
          "text": [
            "Epoch [12/100] Batch [0] Loss_G: 5.4391, Loss_D_A: 0.0953, Loss_D_B: 0.0270\n"
          ]
        },
        {
          "output_type": "stream",
          "name": "stderr",
          "text": [
            "  3%|▎         | 102/4000 [00:14<08:57,  7.25it/s]"
          ]
        },
        {
          "output_type": "stream",
          "name": "stdout",
          "text": [
            "Epoch [12/100] Batch [100] Loss_G: 5.3168, Loss_D_A: 0.0912, Loss_D_B: 0.0105\n"
          ]
        },
        {
          "output_type": "stream",
          "name": "stderr",
          "text": [
            "  5%|▌         | 202/4000 [00:28<08:51,  7.15it/s]"
          ]
        },
        {
          "output_type": "stream",
          "name": "stdout",
          "text": [
            "Epoch [12/100] Batch [200] Loss_G: 4.9400, Loss_D_A: 0.1767, Loss_D_B: 0.0062\n"
          ]
        },
        {
          "output_type": "stream",
          "name": "stderr",
          "text": [
            "  8%|▊         | 302/4000 [00:42<08:29,  7.26it/s]"
          ]
        },
        {
          "output_type": "stream",
          "name": "stdout",
          "text": [
            "Epoch [12/100] Batch [300] Loss_G: 5.5630, Loss_D_A: 0.2218, Loss_D_B: 0.0122\n"
          ]
        },
        {
          "output_type": "stream",
          "name": "stderr",
          "text": [
            " 10%|█         | 402/4000 [00:57<08:15,  7.26it/s]"
          ]
        },
        {
          "output_type": "stream",
          "name": "stdout",
          "text": [
            "Epoch [12/100] Batch [400] Loss_G: 6.0015, Loss_D_A: 0.0220, Loss_D_B: 0.0163\n"
          ]
        },
        {
          "output_type": "stream",
          "name": "stderr",
          "text": [
            " 13%|█▎        | 502/4000 [01:11<09:12,  6.33it/s]"
          ]
        },
        {
          "output_type": "stream",
          "name": "stdout",
          "text": [
            "Epoch [12/100] Batch [500] Loss_G: 6.6452, Loss_D_A: 0.1106, Loss_D_B: 0.0116\n"
          ]
        },
        {
          "output_type": "stream",
          "name": "stderr",
          "text": [
            " 15%|█▌        | 602/4000 [01:26<08:32,  6.63it/s]"
          ]
        },
        {
          "output_type": "stream",
          "name": "stdout",
          "text": [
            "Epoch [12/100] Batch [600] Loss_G: 4.9866, Loss_D_A: 0.1269, Loss_D_B: 0.0135\n"
          ]
        },
        {
          "output_type": "stream",
          "name": "stderr",
          "text": [
            " 18%|█▊        | 702/4000 [01:40<07:40,  7.17it/s]"
          ]
        },
        {
          "output_type": "stream",
          "name": "stdout",
          "text": [
            "Epoch [12/100] Batch [700] Loss_G: 6.7562, Loss_D_A: 0.2138, Loss_D_B: 0.0225\n"
          ]
        },
        {
          "output_type": "stream",
          "name": "stderr",
          "text": [
            " 20%|██        | 802/4000 [01:54<07:52,  6.77it/s]"
          ]
        },
        {
          "output_type": "stream",
          "name": "stdout",
          "text": [
            "Epoch [12/100] Batch [800] Loss_G: 4.7470, Loss_D_A: 0.2727, Loss_D_B: 0.0744\n"
          ]
        },
        {
          "output_type": "stream",
          "name": "stderr",
          "text": [
            " 23%|██▎       | 902/4000 [02:08<07:32,  6.85it/s]"
          ]
        },
        {
          "output_type": "stream",
          "name": "stdout",
          "text": [
            "Epoch [12/100] Batch [900] Loss_G: 4.1898, Loss_D_A: 0.0383, Loss_D_B: 0.0101\n"
          ]
        },
        {
          "output_type": "stream",
          "name": "stderr",
          "text": [
            " 25%|██▌       | 1002/4000 [02:22<07:08,  7.00it/s]"
          ]
        },
        {
          "output_type": "stream",
          "name": "stdout",
          "text": [
            "Epoch [12/100] Batch [1000] Loss_G: 5.2069, Loss_D_A: 0.2674, Loss_D_B: 0.0170\n"
          ]
        },
        {
          "output_type": "stream",
          "name": "stderr",
          "text": [
            " 28%|██▊       | 1102/4000 [02:37<06:12,  7.77it/s]"
          ]
        },
        {
          "output_type": "stream",
          "name": "stdout",
          "text": [
            "Epoch [12/100] Batch [1100] Loss_G: 5.6643, Loss_D_A: 0.1543, Loss_D_B: 0.0256\n"
          ]
        },
        {
          "output_type": "stream",
          "name": "stderr",
          "text": [
            " 30%|███       | 1202/4000 [02:51<07:49,  5.96it/s]"
          ]
        },
        {
          "output_type": "stream",
          "name": "stdout",
          "text": [
            "Epoch [12/100] Batch [1200] Loss_G: 4.9394, Loss_D_A: 0.2753, Loss_D_B: 0.0098\n"
          ]
        },
        {
          "output_type": "stream",
          "name": "stderr",
          "text": [
            " 33%|███▎      | 1302/4000 [03:05<06:06,  7.37it/s]"
          ]
        },
        {
          "output_type": "stream",
          "name": "stdout",
          "text": [
            "Epoch [12/100] Batch [1300] Loss_G: 5.4215, Loss_D_A: 0.0734, Loss_D_B: 0.1559\n"
          ]
        },
        {
          "output_type": "stream",
          "name": "stderr",
          "text": [
            " 35%|███▌      | 1402/4000 [03:20<06:11,  6.99it/s]"
          ]
        },
        {
          "output_type": "stream",
          "name": "stdout",
          "text": [
            "Epoch [12/100] Batch [1400] Loss_G: 5.2586, Loss_D_A: 0.0530, Loss_D_B: 0.0107\n"
          ]
        },
        {
          "output_type": "stream",
          "name": "stderr",
          "text": [
            " 38%|███▊      | 1502/4000 [03:34<05:54,  7.05it/s]"
          ]
        },
        {
          "output_type": "stream",
          "name": "stdout",
          "text": [
            "Epoch [12/100] Batch [1500] Loss_G: 7.5553, Loss_D_A: 0.1656, Loss_D_B: 0.0110\n"
          ]
        },
        {
          "output_type": "stream",
          "name": "stderr",
          "text": [
            " 40%|████      | 1602/4000 [03:48<05:54,  6.76it/s]"
          ]
        },
        {
          "output_type": "stream",
          "name": "stdout",
          "text": [
            "Epoch [12/100] Batch [1600] Loss_G: 6.4158, Loss_D_A: 0.1720, Loss_D_B: 0.0110\n"
          ]
        },
        {
          "output_type": "stream",
          "name": "stderr",
          "text": [
            " 43%|████▎     | 1702/4000 [04:02<05:55,  6.46it/s]"
          ]
        },
        {
          "output_type": "stream",
          "name": "stdout",
          "text": [
            "Epoch [12/100] Batch [1700] Loss_G: 3.3907, Loss_D_A: 0.1281, Loss_D_B: 0.0136\n"
          ]
        },
        {
          "output_type": "stream",
          "name": "stderr",
          "text": [
            " 45%|████▌     | 1802/4000 [04:16<05:34,  6.57it/s]"
          ]
        },
        {
          "output_type": "stream",
          "name": "stdout",
          "text": [
            "Epoch [12/100] Batch [1800] Loss_G: 7.0190, Loss_D_A: 0.0891, Loss_D_B: 0.0532\n"
          ]
        },
        {
          "output_type": "stream",
          "name": "stderr",
          "text": [
            " 48%|████▊     | 1902/4000 [04:30<05:15,  6.65it/s]"
          ]
        },
        {
          "output_type": "stream",
          "name": "stdout",
          "text": [
            "Epoch [12/100] Batch [1900] Loss_G: 4.5834, Loss_D_A: 0.0897, Loss_D_B: 0.0159\n"
          ]
        },
        {
          "output_type": "stream",
          "name": "stderr",
          "text": [
            " 50%|█████     | 2001/4000 [04:44<04:41,  7.11it/s]"
          ]
        },
        {
          "output_type": "stream",
          "name": "stdout",
          "text": [
            "Epoch [12/100] Batch [2000] Loss_G: 3.7974, Loss_D_A: 0.1347, Loss_D_B: 0.0099\n"
          ]
        },
        {
          "output_type": "stream",
          "name": "stderr",
          "text": [
            " 53%|█████▎    | 2102/4000 [04:59<04:46,  6.62it/s]"
          ]
        },
        {
          "output_type": "stream",
          "name": "stdout",
          "text": [
            "Epoch [12/100] Batch [2100] Loss_G: 6.7433, Loss_D_A: 0.0399, Loss_D_B: 0.0137\n"
          ]
        },
        {
          "output_type": "stream",
          "name": "stderr",
          "text": [
            " 55%|█████▌    | 2202/4000 [05:14<04:04,  7.35it/s]"
          ]
        },
        {
          "output_type": "stream",
          "name": "stdout",
          "text": [
            "Epoch [12/100] Batch [2200] Loss_G: 5.3016, Loss_D_A: 0.0736, Loss_D_B: 0.0301\n"
          ]
        },
        {
          "output_type": "stream",
          "name": "stderr",
          "text": [
            " 58%|█████▊    | 2302/4000 [05:28<03:59,  7.08it/s]"
          ]
        },
        {
          "output_type": "stream",
          "name": "stdout",
          "text": [
            "Epoch [12/100] Batch [2300] Loss_G: 4.8308, Loss_D_A: 0.2284, Loss_D_B: 0.0163\n"
          ]
        },
        {
          "output_type": "stream",
          "name": "stderr",
          "text": [
            " 60%|██████    | 2402/4000 [05:42<03:37,  7.33it/s]"
          ]
        },
        {
          "output_type": "stream",
          "name": "stdout",
          "text": [
            "Epoch [12/100] Batch [2400] Loss_G: 4.8181, Loss_D_A: 0.1232, Loss_D_B: 0.0091\n"
          ]
        },
        {
          "output_type": "stream",
          "name": "stderr",
          "text": [
            " 63%|██████▎   | 2502/4000 [05:56<03:21,  7.43it/s]"
          ]
        },
        {
          "output_type": "stream",
          "name": "stdout",
          "text": [
            "Epoch [12/100] Batch [2500] Loss_G: 4.5114, Loss_D_A: 0.0528, Loss_D_B: 0.0347\n"
          ]
        },
        {
          "output_type": "stream",
          "name": "stderr",
          "text": [
            " 65%|██████▌   | 2602/4000 [06:10<03:20,  6.98it/s]"
          ]
        },
        {
          "output_type": "stream",
          "name": "stdout",
          "text": [
            "Epoch [12/100] Batch [2600] Loss_G: 4.4094, Loss_D_A: 0.0813, Loss_D_B: 0.0118\n"
          ]
        },
        {
          "output_type": "stream",
          "name": "stderr",
          "text": [
            " 68%|██████▊   | 2702/4000 [06:25<02:53,  7.50it/s]"
          ]
        },
        {
          "output_type": "stream",
          "name": "stdout",
          "text": [
            "Epoch [12/100] Batch [2700] Loss_G: 5.2695, Loss_D_A: 0.1542, Loss_D_B: 0.0119\n"
          ]
        },
        {
          "output_type": "stream",
          "name": "stderr",
          "text": [
            " 70%|███████   | 2802/4000 [06:39<02:34,  7.73it/s]"
          ]
        },
        {
          "output_type": "stream",
          "name": "stdout",
          "text": [
            "Epoch [12/100] Batch [2800] Loss_G: 5.4468, Loss_D_A: 0.1692, Loss_D_B: 0.0199\n"
          ]
        },
        {
          "output_type": "stream",
          "name": "stderr",
          "text": [
            " 73%|███████▎  | 2902/4000 [06:53<02:31,  7.23it/s]"
          ]
        },
        {
          "output_type": "stream",
          "name": "stdout",
          "text": [
            "Epoch [12/100] Batch [2900] Loss_G: 4.4547, Loss_D_A: 0.2180, Loss_D_B: 0.0374\n"
          ]
        },
        {
          "output_type": "stream",
          "name": "stderr",
          "text": [
            " 75%|███████▌  | 3002/4000 [07:07<02:12,  7.55it/s]"
          ]
        },
        {
          "output_type": "stream",
          "name": "stdout",
          "text": [
            "Epoch [12/100] Batch [3000] Loss_G: 4.2073, Loss_D_A: 0.0599, Loss_D_B: 0.0254\n"
          ]
        },
        {
          "output_type": "stream",
          "name": "stderr",
          "text": [
            " 78%|███████▊  | 3102/4000 [07:22<02:08,  6.99it/s]"
          ]
        },
        {
          "output_type": "stream",
          "name": "stdout",
          "text": [
            "Epoch [12/100] Batch [3100] Loss_G: 5.3180, Loss_D_A: 0.3667, Loss_D_B: 0.0121\n"
          ]
        },
        {
          "output_type": "stream",
          "name": "stderr",
          "text": [
            " 80%|████████  | 3202/4000 [07:37<01:51,  7.13it/s]"
          ]
        },
        {
          "output_type": "stream",
          "name": "stdout",
          "text": [
            "Epoch [12/100] Batch [3200] Loss_G: 5.5117, Loss_D_A: 0.0399, Loss_D_B: 0.0219\n"
          ]
        },
        {
          "output_type": "stream",
          "name": "stderr",
          "text": [
            " 83%|████████▎ | 3302/4000 [07:51<01:38,  7.09it/s]"
          ]
        },
        {
          "output_type": "stream",
          "name": "stdout",
          "text": [
            "Epoch [12/100] Batch [3300] Loss_G: 7.3033, Loss_D_A: 0.0993, Loss_D_B: 0.0101\n"
          ]
        },
        {
          "output_type": "stream",
          "name": "stderr",
          "text": [
            " 85%|████████▌ | 3402/4000 [08:05<01:29,  6.67it/s]"
          ]
        },
        {
          "output_type": "stream",
          "name": "stdout",
          "text": [
            "Epoch [12/100] Batch [3400] Loss_G: 8.0083, Loss_D_A: 0.1272, Loss_D_B: 0.0084\n"
          ]
        },
        {
          "output_type": "stream",
          "name": "stderr",
          "text": [
            " 88%|████████▊ | 3502/4000 [08:19<01:07,  7.41it/s]"
          ]
        },
        {
          "output_type": "stream",
          "name": "stdout",
          "text": [
            "Epoch [12/100] Batch [3500] Loss_G: 6.5488, Loss_D_A: 0.2332, Loss_D_B: 0.0273\n"
          ]
        },
        {
          "output_type": "stream",
          "name": "stderr",
          "text": [
            " 90%|█████████ | 3602/4000 [08:33<00:53,  7.40it/s]"
          ]
        },
        {
          "output_type": "stream",
          "name": "stdout",
          "text": [
            "Epoch [12/100] Batch [3600] Loss_G: 5.1269, Loss_D_A: 0.1881, Loss_D_B: 0.0094\n"
          ]
        },
        {
          "output_type": "stream",
          "name": "stderr",
          "text": [
            " 93%|█████████▎| 3702/4000 [08:48<00:41,  7.11it/s]"
          ]
        },
        {
          "output_type": "stream",
          "name": "stdout",
          "text": [
            "Epoch [12/100] Batch [3700] Loss_G: 4.2394, Loss_D_A: 0.1501, Loss_D_B: 0.0116\n"
          ]
        },
        {
          "output_type": "stream",
          "name": "stderr",
          "text": [
            " 95%|█████████▌| 3802/4000 [09:02<00:26,  7.48it/s]"
          ]
        },
        {
          "output_type": "stream",
          "name": "stdout",
          "text": [
            "Epoch [12/100] Batch [3800] Loss_G: 5.5055, Loss_D_A: 0.1018, Loss_D_B: 0.0090\n"
          ]
        },
        {
          "output_type": "stream",
          "name": "stderr",
          "text": [
            " 98%|█████████▊| 3902/4000 [09:16<00:14,  6.73it/s]"
          ]
        },
        {
          "output_type": "stream",
          "name": "stdout",
          "text": [
            "Epoch [12/100] Batch [3900] Loss_G: 6.2261, Loss_D_A: 0.1918, Loss_D_B: 0.0177\n"
          ]
        },
        {
          "output_type": "stream",
          "name": "stderr",
          "text": [
            "100%|██████████| 4000/4000 [09:30<00:00,  7.01it/s]\n",
            "  0%|          | 2/4000 [00:00<08:49,  7.55it/s]"
          ]
        },
        {
          "output_type": "stream",
          "name": "stdout",
          "text": [
            "Epoch [13/100] Batch [0] Loss_G: 3.8064, Loss_D_A: 0.0586, Loss_D_B: 0.0656\n"
          ]
        },
        {
          "output_type": "stream",
          "name": "stderr",
          "text": [
            "  3%|▎         | 102/4000 [00:14<09:09,  7.10it/s]"
          ]
        },
        {
          "output_type": "stream",
          "name": "stdout",
          "text": [
            "Epoch [13/100] Batch [100] Loss_G: 4.4174, Loss_D_A: 0.3495, Loss_D_B: 0.0582\n"
          ]
        },
        {
          "output_type": "stream",
          "name": "stderr",
          "text": [
            "  5%|▌         | 202/4000 [00:28<09:27,  6.69it/s]"
          ]
        },
        {
          "output_type": "stream",
          "name": "stdout",
          "text": [
            "Epoch [13/100] Batch [200] Loss_G: 5.0046, Loss_D_A: 0.0686, Loss_D_B: 0.0089\n"
          ]
        },
        {
          "output_type": "stream",
          "name": "stderr",
          "text": [
            "  8%|▊         | 302/4000 [00:43<13:26,  4.59it/s]"
          ]
        },
        {
          "output_type": "stream",
          "name": "stdout",
          "text": [
            "Epoch [13/100] Batch [300] Loss_G: 6.8478, Loss_D_A: 0.0535, Loss_D_B: 0.0068\n"
          ]
        },
        {
          "output_type": "stream",
          "name": "stderr",
          "text": [
            " 10%|█         | 402/4000 [00:57<08:42,  6.88it/s]"
          ]
        },
        {
          "output_type": "stream",
          "name": "stdout",
          "text": [
            "Epoch [13/100] Batch [400] Loss_G: 6.1051, Loss_D_A: 0.0259, Loss_D_B: 0.0294\n"
          ]
        },
        {
          "output_type": "stream",
          "name": "stderr",
          "text": [
            " 13%|█▎        | 502/4000 [01:11<08:49,  6.60it/s]"
          ]
        },
        {
          "output_type": "stream",
          "name": "stdout",
          "text": [
            "Epoch [13/100] Batch [500] Loss_G: 5.5096, Loss_D_A: 0.1208, Loss_D_B: 0.0221\n"
          ]
        },
        {
          "output_type": "stream",
          "name": "stderr",
          "text": [
            " 15%|█▌        | 602/4000 [01:25<07:42,  7.35it/s]"
          ]
        },
        {
          "output_type": "stream",
          "name": "stdout",
          "text": [
            "Epoch [13/100] Batch [600] Loss_G: 5.1012, Loss_D_A: 0.2019, Loss_D_B: 0.0122\n"
          ]
        },
        {
          "output_type": "stream",
          "name": "stderr",
          "text": [
            " 18%|█▊        | 702/4000 [01:40<08:04,  6.80it/s]"
          ]
        },
        {
          "output_type": "stream",
          "name": "stdout",
          "text": [
            "Epoch [13/100] Batch [700] Loss_G: 4.5373, Loss_D_A: 0.2137, Loss_D_B: 0.0294\n"
          ]
        },
        {
          "output_type": "stream",
          "name": "stderr",
          "text": [
            " 20%|██        | 802/4000 [01:54<07:21,  7.24it/s]"
          ]
        },
        {
          "output_type": "stream",
          "name": "stdout",
          "text": [
            "Epoch [13/100] Batch [800] Loss_G: 5.4108, Loss_D_A: 0.1309, Loss_D_B: 0.0078\n"
          ]
        },
        {
          "output_type": "stream",
          "name": "stderr",
          "text": [
            " 23%|██▎       | 902/4000 [02:08<08:30,  6.07it/s]"
          ]
        },
        {
          "output_type": "stream",
          "name": "stdout",
          "text": [
            "Epoch [13/100] Batch [900] Loss_G: 7.7090, Loss_D_A: 0.2705, Loss_D_B: 0.0085\n"
          ]
        },
        {
          "output_type": "stream",
          "name": "stderr",
          "text": [
            " 25%|██▌       | 1001/4000 [02:22<06:30,  7.68it/s]"
          ]
        },
        {
          "output_type": "stream",
          "name": "stdout",
          "text": [
            "Epoch [13/100] Batch [1000] Loss_G: 4.1204, Loss_D_A: 0.1192, Loss_D_B: 0.0306\n"
          ]
        },
        {
          "output_type": "stream",
          "name": "stderr",
          "text": [
            " 28%|██▊       | 1102/4000 [02:37<06:29,  7.44it/s]"
          ]
        },
        {
          "output_type": "stream",
          "name": "stdout",
          "text": [
            "Epoch [13/100] Batch [1100] Loss_G: 3.9367, Loss_D_A: 0.1545, Loss_D_B: 0.0070\n"
          ]
        },
        {
          "output_type": "stream",
          "name": "stderr",
          "text": [
            " 30%|███       | 1202/4000 [02:51<06:18,  7.39it/s]"
          ]
        },
        {
          "output_type": "stream",
          "name": "stdout",
          "text": [
            "Epoch [13/100] Batch [1200] Loss_G: 5.0315, Loss_D_A: 0.1155, Loss_D_B: 0.0233\n"
          ]
        },
        {
          "output_type": "stream",
          "name": "stderr",
          "text": [
            " 33%|███▎      | 1302/4000 [03:05<06:29,  6.93it/s]"
          ]
        },
        {
          "output_type": "stream",
          "name": "stdout",
          "text": [
            "Epoch [13/100] Batch [1300] Loss_G: 5.7426, Loss_D_A: 0.1584, Loss_D_B: 0.0090\n"
          ]
        },
        {
          "output_type": "stream",
          "name": "stderr",
          "text": [
            " 35%|███▌      | 1402/4000 [03:19<06:18,  6.86it/s]"
          ]
        },
        {
          "output_type": "stream",
          "name": "stdout",
          "text": [
            "Epoch [13/100] Batch [1400] Loss_G: 4.4811, Loss_D_A: 0.0932, Loss_D_B: 0.0067\n"
          ]
        },
        {
          "output_type": "stream",
          "name": "stderr",
          "text": [
            " 38%|███▊      | 1502/4000 [03:33<05:28,  7.60it/s]"
          ]
        },
        {
          "output_type": "stream",
          "name": "stdout",
          "text": [
            "Epoch [13/100] Batch [1500] Loss_G: 7.7598, Loss_D_A: 0.1992, Loss_D_B: 0.0185\n"
          ]
        },
        {
          "output_type": "stream",
          "name": "stderr",
          "text": [
            " 40%|████      | 1602/4000 [03:47<05:42,  7.00it/s]"
          ]
        },
        {
          "output_type": "stream",
          "name": "stdout",
          "text": [
            "Epoch [13/100] Batch [1600] Loss_G: 4.9005, Loss_D_A: 0.1382, Loss_D_B: 0.0074\n"
          ]
        },
        {
          "output_type": "stream",
          "name": "stderr",
          "text": [
            " 43%|████▎     | 1702/4000 [04:02<05:39,  6.76it/s]"
          ]
        },
        {
          "output_type": "stream",
          "name": "stdout",
          "text": [
            "Epoch [13/100] Batch [1700] Loss_G: 4.0813, Loss_D_A: 0.1741, Loss_D_B: 0.0357\n"
          ]
        },
        {
          "output_type": "stream",
          "name": "stderr",
          "text": [
            " 45%|████▌     | 1802/4000 [04:16<05:01,  7.29it/s]"
          ]
        },
        {
          "output_type": "stream",
          "name": "stdout",
          "text": [
            "Epoch [13/100] Batch [1800] Loss_G: 4.5128, Loss_D_A: 0.1340, Loss_D_B: 0.0124\n"
          ]
        },
        {
          "output_type": "stream",
          "name": "stderr",
          "text": [
            " 48%|████▊     | 1902/4000 [04:31<05:03,  6.91it/s]"
          ]
        },
        {
          "output_type": "stream",
          "name": "stdout",
          "text": [
            "Epoch [13/100] Batch [1900] Loss_G: 7.0320, Loss_D_A: 0.0987, Loss_D_B: 0.0210\n"
          ]
        },
        {
          "output_type": "stream",
          "name": "stderr",
          "text": [
            " 50%|█████     | 2002/4000 [04:45<04:35,  7.25it/s]"
          ]
        },
        {
          "output_type": "stream",
          "name": "stdout",
          "text": [
            "Epoch [13/100] Batch [2000] Loss_G: 5.7520, Loss_D_A: 0.0642, Loss_D_B: 0.0348\n"
          ]
        },
        {
          "output_type": "stream",
          "name": "stderr",
          "text": [
            " 53%|█████▎    | 2102/4000 [04:59<04:29,  7.03it/s]"
          ]
        },
        {
          "output_type": "stream",
          "name": "stdout",
          "text": [
            "Epoch [13/100] Batch [2100] Loss_G: 7.2229, Loss_D_A: 0.0464, Loss_D_B: 0.0231\n"
          ]
        },
        {
          "output_type": "stream",
          "name": "stderr",
          "text": [
            " 55%|█████▌    | 2202/4000 [05:13<04:27,  6.73it/s]"
          ]
        },
        {
          "output_type": "stream",
          "name": "stdout",
          "text": [
            "Epoch [13/100] Batch [2200] Loss_G: 6.0320, Loss_D_A: 0.1560, Loss_D_B: 0.0371\n"
          ]
        },
        {
          "output_type": "stream",
          "name": "stderr",
          "text": [
            " 58%|█████▊    | 2302/4000 [05:27<04:17,  6.59it/s]"
          ]
        },
        {
          "output_type": "stream",
          "name": "stdout",
          "text": [
            "Epoch [13/100] Batch [2300] Loss_G: 5.9627, Loss_D_A: 0.2602, Loss_D_B: 0.0123\n"
          ]
        },
        {
          "output_type": "stream",
          "name": "stderr",
          "text": [
            " 60%|██████    | 2402/4000 [05:42<03:50,  6.93it/s]"
          ]
        },
        {
          "output_type": "stream",
          "name": "stdout",
          "text": [
            "Epoch [13/100] Batch [2400] Loss_G: 4.0859, Loss_D_A: 0.0465, Loss_D_B: 0.0113\n"
          ]
        },
        {
          "output_type": "stream",
          "name": "stderr",
          "text": [
            " 63%|██████▎   | 2502/4000 [05:56<03:30,  7.12it/s]"
          ]
        },
        {
          "output_type": "stream",
          "name": "stdout",
          "text": [
            "Epoch [13/100] Batch [2500] Loss_G: 5.5144, Loss_D_A: 0.0432, Loss_D_B: 0.0255\n"
          ]
        },
        {
          "output_type": "stream",
          "name": "stderr",
          "text": [
            " 65%|██████▌   | 2602/4000 [06:10<03:14,  7.19it/s]"
          ]
        },
        {
          "output_type": "stream",
          "name": "stdout",
          "text": [
            "Epoch [13/100] Batch [2600] Loss_G: 4.2121, Loss_D_A: 0.3962, Loss_D_B: 0.0140\n"
          ]
        },
        {
          "output_type": "stream",
          "name": "stderr",
          "text": [
            " 68%|██████▊   | 2702/4000 [06:25<02:55,  7.41it/s]"
          ]
        },
        {
          "output_type": "stream",
          "name": "stdout",
          "text": [
            "Epoch [13/100] Batch [2700] Loss_G: 4.2529, Loss_D_A: 0.0383, Loss_D_B: 0.0657\n"
          ]
        },
        {
          "output_type": "stream",
          "name": "stderr",
          "text": [
            " 70%|███████   | 2802/4000 [06:39<03:00,  6.63it/s]"
          ]
        },
        {
          "output_type": "stream",
          "name": "stdout",
          "text": [
            "Epoch [13/100] Batch [2800] Loss_G: 4.9505, Loss_D_A: 0.0754, Loss_D_B: 0.0127\n"
          ]
        },
        {
          "output_type": "stream",
          "name": "stderr",
          "text": [
            " 73%|███████▎  | 2902/4000 [06:53<02:39,  6.90it/s]"
          ]
        },
        {
          "output_type": "stream",
          "name": "stdout",
          "text": [
            "Epoch [13/100] Batch [2900] Loss_G: 3.9732, Loss_D_A: 0.0604, Loss_D_B: 0.0071\n"
          ]
        },
        {
          "output_type": "stream",
          "name": "stderr",
          "text": [
            " 75%|███████▌  | 3002/4000 [07:07<02:13,  7.48it/s]"
          ]
        },
        {
          "output_type": "stream",
          "name": "stdout",
          "text": [
            "Epoch [13/100] Batch [3000] Loss_G: 5.2024, Loss_D_A: 0.0441, Loss_D_B: 0.0224\n"
          ]
        },
        {
          "output_type": "stream",
          "name": "stderr",
          "text": [
            " 78%|███████▊  | 3102/4000 [07:22<02:08,  7.00it/s]"
          ]
        },
        {
          "output_type": "stream",
          "name": "stdout",
          "text": [
            "Epoch [13/100] Batch [3100] Loss_G: 4.9660, Loss_D_A: 0.1293, Loss_D_B: 0.0072\n"
          ]
        },
        {
          "output_type": "stream",
          "name": "stderr",
          "text": [
            " 80%|████████  | 3202/4000 [07:36<01:54,  7.00it/s]"
          ]
        },
        {
          "output_type": "stream",
          "name": "stdout",
          "text": [
            "Epoch [13/100] Batch [3200] Loss_G: 7.0817, Loss_D_A: 0.2093, Loss_D_B: 0.0590\n"
          ]
        },
        {
          "output_type": "stream",
          "name": "stderr",
          "text": [
            " 83%|████████▎ | 3302/4000 [07:50<01:28,  7.92it/s]"
          ]
        },
        {
          "output_type": "stream",
          "name": "stdout",
          "text": [
            "Epoch [13/100] Batch [3300] Loss_G: 4.8916, Loss_D_A: 0.1727, Loss_D_B: 0.0116\n"
          ]
        },
        {
          "output_type": "stream",
          "name": "stderr",
          "text": [
            " 85%|████████▌ | 3402/4000 [08:04<01:25,  6.97it/s]"
          ]
        },
        {
          "output_type": "stream",
          "name": "stdout",
          "text": [
            "Epoch [13/100] Batch [3400] Loss_G: 4.9645, Loss_D_A: 0.1992, Loss_D_B: 0.0194\n"
          ]
        },
        {
          "output_type": "stream",
          "name": "stderr",
          "text": [
            " 88%|████████▊ | 3502/4000 [08:18<01:13,  6.79it/s]"
          ]
        },
        {
          "output_type": "stream",
          "name": "stdout",
          "text": [
            "Epoch [13/100] Batch [3500] Loss_G: 4.3498, Loss_D_A: 0.1645, Loss_D_B: 0.0338\n"
          ]
        },
        {
          "output_type": "stream",
          "name": "stderr",
          "text": [
            " 90%|█████████ | 3602/4000 [08:33<00:55,  7.17it/s]"
          ]
        },
        {
          "output_type": "stream",
          "name": "stdout",
          "text": [
            "Epoch [13/100] Batch [3600] Loss_G: 5.2600, Loss_D_A: 0.2250, Loss_D_B: 0.0138\n"
          ]
        },
        {
          "output_type": "stream",
          "name": "stderr",
          "text": [
            " 93%|█████████▎| 3702/4000 [08:47<00:39,  7.51it/s]"
          ]
        },
        {
          "output_type": "stream",
          "name": "stdout",
          "text": [
            "Epoch [13/100] Batch [3700] Loss_G: 4.7412, Loss_D_A: 0.1195, Loss_D_B: 0.0144\n"
          ]
        },
        {
          "output_type": "stream",
          "name": "stderr",
          "text": [
            " 95%|█████████▌| 3802/4000 [09:01<00:27,  7.27it/s]"
          ]
        },
        {
          "output_type": "stream",
          "name": "stdout",
          "text": [
            "Epoch [13/100] Batch [3800] Loss_G: 3.8474, Loss_D_A: 0.1413, Loss_D_B: 0.0076\n"
          ]
        },
        {
          "output_type": "stream",
          "name": "stderr",
          "text": [
            " 98%|█████████▊| 3902/4000 [09:16<00:14,  6.82it/s]"
          ]
        },
        {
          "output_type": "stream",
          "name": "stdout",
          "text": [
            "Epoch [13/100] Batch [3900] Loss_G: 5.7899, Loss_D_A: 0.0472, Loss_D_B: 0.0199\n"
          ]
        },
        {
          "output_type": "stream",
          "name": "stderr",
          "text": [
            "100%|██████████| 4000/4000 [09:29<00:00,  7.02it/s]\n",
            "  0%|          | 2/4000 [00:00<09:35,  6.94it/s]"
          ]
        },
        {
          "output_type": "stream",
          "name": "stdout",
          "text": [
            "Epoch [14/100] Batch [0] Loss_G: 4.9012, Loss_D_A: 0.3162, Loss_D_B: 0.0114\n"
          ]
        },
        {
          "output_type": "stream",
          "name": "stderr",
          "text": [
            "  3%|▎         | 102/4000 [00:14<08:45,  7.41it/s]"
          ]
        },
        {
          "output_type": "stream",
          "name": "stdout",
          "text": [
            "Epoch [14/100] Batch [100] Loss_G: 4.8722, Loss_D_A: 0.0391, Loss_D_B: 0.0155\n"
          ]
        },
        {
          "output_type": "stream",
          "name": "stderr",
          "text": [
            "  5%|▌         | 202/4000 [00:28<08:41,  7.28it/s]"
          ]
        },
        {
          "output_type": "stream",
          "name": "stdout",
          "text": [
            "Epoch [14/100] Batch [200] Loss_G: 4.2556, Loss_D_A: 0.0963, Loss_D_B: 0.0078\n"
          ]
        },
        {
          "output_type": "stream",
          "name": "stderr",
          "text": [
            "  8%|▊         | 302/4000 [00:42<08:53,  6.93it/s]"
          ]
        },
        {
          "output_type": "stream",
          "name": "stdout",
          "text": [
            "Epoch [14/100] Batch [300] Loss_G: 8.0968, Loss_D_A: 0.0953, Loss_D_B: 0.0188\n"
          ]
        },
        {
          "output_type": "stream",
          "name": "stderr",
          "text": [
            " 10%|█         | 402/4000 [00:56<08:58,  6.69it/s]"
          ]
        },
        {
          "output_type": "stream",
          "name": "stdout",
          "text": [
            "Epoch [14/100] Batch [400] Loss_G: 5.2797, Loss_D_A: 0.3996, Loss_D_B: 0.0133\n"
          ]
        },
        {
          "output_type": "stream",
          "name": "stderr",
          "text": [
            " 13%|█▎        | 502/4000 [01:11<08:52,  6.57it/s]"
          ]
        },
        {
          "output_type": "stream",
          "name": "stdout",
          "text": [
            "Epoch [14/100] Batch [500] Loss_G: 6.7485, Loss_D_A: 0.0615, Loss_D_B: 0.0377\n"
          ]
        },
        {
          "output_type": "stream",
          "name": "stderr",
          "text": [
            " 15%|█▌        | 602/4000 [01:25<08:40,  6.53it/s]"
          ]
        },
        {
          "output_type": "stream",
          "name": "stdout",
          "text": [
            "Epoch [14/100] Batch [600] Loss_G: 4.7406, Loss_D_A: 0.1373, Loss_D_B: 0.0072\n"
          ]
        },
        {
          "output_type": "stream",
          "name": "stderr",
          "text": [
            " 18%|█▊        | 702/4000 [01:39<07:18,  7.52it/s]"
          ]
        },
        {
          "output_type": "stream",
          "name": "stdout",
          "text": [
            "Epoch [14/100] Batch [700] Loss_G: 9.1388, Loss_D_A: 0.1081, Loss_D_B: 0.0160\n"
          ]
        },
        {
          "output_type": "stream",
          "name": "stderr",
          "text": [
            " 20%|██        | 802/4000 [01:53<07:36,  7.00it/s]"
          ]
        },
        {
          "output_type": "stream",
          "name": "stdout",
          "text": [
            "Epoch [14/100] Batch [800] Loss_G: 4.0494, Loss_D_A: 0.0889, Loss_D_B: 0.0089\n"
          ]
        },
        {
          "output_type": "stream",
          "name": "stderr",
          "text": [
            " 23%|██▎       | 902/4000 [02:07<07:14,  7.12it/s]"
          ]
        },
        {
          "output_type": "stream",
          "name": "stdout",
          "text": [
            "Epoch [14/100] Batch [900] Loss_G: 4.7254, Loss_D_A: 0.1898, Loss_D_B: 0.0112\n"
          ]
        },
        {
          "output_type": "stream",
          "name": "stderr",
          "text": [
            " 25%|██▌       | 1002/4000 [02:22<06:54,  7.23it/s]"
          ]
        },
        {
          "output_type": "stream",
          "name": "stdout",
          "text": [
            "Epoch [14/100] Batch [1000] Loss_G: 4.5418, Loss_D_A: 0.3056, Loss_D_B: 0.0188\n"
          ]
        },
        {
          "output_type": "stream",
          "name": "stderr",
          "text": [
            " 28%|██▊       | 1102/4000 [02:37<06:51,  7.04it/s]"
          ]
        },
        {
          "output_type": "stream",
          "name": "stdout",
          "text": [
            "Epoch [14/100] Batch [1100] Loss_G: 5.6368, Loss_D_A: 0.2932, Loss_D_B: 0.0141\n"
          ]
        },
        {
          "output_type": "stream",
          "name": "stderr",
          "text": [
            " 30%|███       | 1202/4000 [02:52<07:04,  6.59it/s]"
          ]
        },
        {
          "output_type": "stream",
          "name": "stdout",
          "text": [
            "Epoch [14/100] Batch [1200] Loss_G: 5.0761, Loss_D_A: 0.1986, Loss_D_B: 0.0423\n"
          ]
        },
        {
          "output_type": "stream",
          "name": "stderr",
          "text": [
            " 33%|███▎      | 1302/4000 [03:06<06:12,  7.25it/s]"
          ]
        },
        {
          "output_type": "stream",
          "name": "stdout",
          "text": [
            "Epoch [14/100] Batch [1300] Loss_G: 6.7320, Loss_D_A: 0.1577, Loss_D_B: 0.0304\n"
          ]
        },
        {
          "output_type": "stream",
          "name": "stderr",
          "text": [
            " 35%|███▌      | 1402/4000 [03:20<06:42,  6.45it/s]"
          ]
        },
        {
          "output_type": "stream",
          "name": "stdout",
          "text": [
            "Epoch [14/100] Batch [1400] Loss_G: 5.0918, Loss_D_A: 0.0897, Loss_D_B: 0.0276\n"
          ]
        },
        {
          "output_type": "stream",
          "name": "stderr",
          "text": [
            " 38%|███▊      | 1502/4000 [03:34<06:24,  6.50it/s]"
          ]
        },
        {
          "output_type": "stream",
          "name": "stdout",
          "text": [
            "Epoch [14/100] Batch [1500] Loss_G: 3.6788, Loss_D_A: 0.1919, Loss_D_B: 0.0040\n"
          ]
        },
        {
          "output_type": "stream",
          "name": "stderr",
          "text": [
            " 40%|████      | 1602/4000 [03:48<05:14,  7.62it/s]"
          ]
        },
        {
          "output_type": "stream",
          "name": "stdout",
          "text": [
            "Epoch [14/100] Batch [1600] Loss_G: 4.7867, Loss_D_A: 0.1332, Loss_D_B: 0.0095\n"
          ]
        },
        {
          "output_type": "stream",
          "name": "stderr",
          "text": [
            " 43%|████▎     | 1702/4000 [04:02<05:24,  7.09it/s]"
          ]
        },
        {
          "output_type": "stream",
          "name": "stdout",
          "text": [
            "Epoch [14/100] Batch [1700] Loss_G: 6.5418, Loss_D_A: 0.0518, Loss_D_B: 0.0229\n"
          ]
        },
        {
          "output_type": "stream",
          "name": "stderr",
          "text": [
            " 45%|████▌     | 1802/4000 [04:17<05:38,  6.49it/s]"
          ]
        },
        {
          "output_type": "stream",
          "name": "stdout",
          "text": [
            "Epoch [14/100] Batch [1800] Loss_G: 6.7801, Loss_D_A: 0.1100, Loss_D_B: 0.0310\n"
          ]
        },
        {
          "output_type": "stream",
          "name": "stderr",
          "text": [
            " 48%|████▊     | 1902/4000 [04:31<04:54,  7.12it/s]"
          ]
        },
        {
          "output_type": "stream",
          "name": "stdout",
          "text": [
            "Epoch [14/100] Batch [1900] Loss_G: 5.5662, Loss_D_A: 0.1556, Loss_D_B: 0.0144\n"
          ]
        },
        {
          "output_type": "stream",
          "name": "stderr",
          "text": [
            " 50%|█████     | 2002/4000 [04:45<04:56,  6.73it/s]"
          ]
        },
        {
          "output_type": "stream",
          "name": "stdout",
          "text": [
            "Epoch [14/100] Batch [2000] Loss_G: 5.3605, Loss_D_A: 0.0851, Loss_D_B: 0.0097\n"
          ]
        },
        {
          "output_type": "stream",
          "name": "stderr",
          "text": [
            " 53%|█████▎    | 2102/4000 [04:59<04:16,  7.39it/s]"
          ]
        },
        {
          "output_type": "stream",
          "name": "stdout",
          "text": [
            "Epoch [14/100] Batch [2100] Loss_G: 5.7013, Loss_D_A: 0.0911, Loss_D_B: 0.0224\n"
          ]
        },
        {
          "output_type": "stream",
          "name": "stderr",
          "text": [
            " 55%|█████▌    | 2202/4000 [05:19<08:43,  3.44it/s]"
          ]
        },
        {
          "output_type": "stream",
          "name": "stdout",
          "text": [
            "Epoch [14/100] Batch [2200] Loss_G: 4.4223, Loss_D_A: 0.0123, Loss_D_B: 0.0116\n"
          ]
        },
        {
          "output_type": "stream",
          "name": "stderr",
          "text": [
            " 58%|█████▊    | 2302/4000 [05:37<03:58,  7.12it/s]"
          ]
        },
        {
          "output_type": "stream",
          "name": "stdout",
          "text": [
            "Epoch [14/100] Batch [2300] Loss_G: 4.9193, Loss_D_A: 0.0704, Loss_D_B: 0.0107\n"
          ]
        },
        {
          "output_type": "stream",
          "name": "stderr",
          "text": [
            " 60%|██████    | 2402/4000 [05:51<03:46,  7.04it/s]"
          ]
        },
        {
          "output_type": "stream",
          "name": "stdout",
          "text": [
            "Epoch [14/100] Batch [2400] Loss_G: 6.8524, Loss_D_A: 0.1702, Loss_D_B: 0.0248\n"
          ]
        },
        {
          "output_type": "stream",
          "name": "stderr",
          "text": [
            " 63%|██████▎   | 2502/4000 [06:05<03:27,  7.22it/s]"
          ]
        },
        {
          "output_type": "stream",
          "name": "stdout",
          "text": [
            "Epoch [14/100] Batch [2500] Loss_G: 4.3584, Loss_D_A: 0.0327, Loss_D_B: 0.0112\n"
          ]
        },
        {
          "output_type": "stream",
          "name": "stderr",
          "text": [
            " 65%|██████▌   | 2602/4000 [06:19<03:10,  7.35it/s]"
          ]
        },
        {
          "output_type": "stream",
          "name": "stdout",
          "text": [
            "Epoch [14/100] Batch [2600] Loss_G: 6.0111, Loss_D_A: 0.1113, Loss_D_B: 0.0094\n"
          ]
        },
        {
          "output_type": "stream",
          "name": "stderr",
          "text": [
            " 68%|██████▊   | 2702/4000 [06:33<02:52,  7.51it/s]"
          ]
        },
        {
          "output_type": "stream",
          "name": "stdout",
          "text": [
            "Epoch [14/100] Batch [2700] Loss_G: 5.0201, Loss_D_A: 0.1521, Loss_D_B: 0.0359\n"
          ]
        },
        {
          "output_type": "stream",
          "name": "stderr",
          "text": [
            " 70%|███████   | 2802/4000 [06:47<02:38,  7.55it/s]"
          ]
        },
        {
          "output_type": "stream",
          "name": "stdout",
          "text": [
            "Epoch [14/100] Batch [2800] Loss_G: 5.3180, Loss_D_A: 0.2250, Loss_D_B: 0.0119\n"
          ]
        },
        {
          "output_type": "stream",
          "name": "stderr",
          "text": [
            " 73%|███████▎  | 2902/4000 [07:02<02:28,  7.42it/s]"
          ]
        },
        {
          "output_type": "stream",
          "name": "stdout",
          "text": [
            "Epoch [14/100] Batch [2900] Loss_G: 4.7168, Loss_D_A: 0.1217, Loss_D_B: 0.0209\n"
          ]
        },
        {
          "output_type": "stream",
          "name": "stderr",
          "text": [
            " 75%|███████▌  | 3002/4000 [07:16<02:20,  7.11it/s]"
          ]
        },
        {
          "output_type": "stream",
          "name": "stdout",
          "text": [
            "Epoch [14/100] Batch [3000] Loss_G: 3.7884, Loss_D_A: 0.0592, Loss_D_B: 0.0122\n"
          ]
        },
        {
          "output_type": "stream",
          "name": "stderr",
          "text": [
            " 78%|███████▊  | 3102/4000 [07:31<02:08,  6.98it/s]"
          ]
        },
        {
          "output_type": "stream",
          "name": "stdout",
          "text": [
            "Epoch [14/100] Batch [3100] Loss_G: 6.2570, Loss_D_A: 0.1185, Loss_D_B: 0.0334\n"
          ]
        },
        {
          "output_type": "stream",
          "name": "stderr",
          "text": [
            " 80%|████████  | 3202/4000 [07:44<01:40,  7.97it/s]"
          ]
        },
        {
          "output_type": "stream",
          "name": "stdout",
          "text": [
            "Epoch [14/100] Batch [3200] Loss_G: 4.7842, Loss_D_A: 0.1087, Loss_D_B: 0.0223\n"
          ]
        },
        {
          "output_type": "stream",
          "name": "stderr",
          "text": [
            " 83%|████████▎ | 3302/4000 [07:59<01:39,  6.99it/s]"
          ]
        },
        {
          "output_type": "stream",
          "name": "stdout",
          "text": [
            "Epoch [14/100] Batch [3300] Loss_G: 3.5635, Loss_D_A: 0.2669, Loss_D_B: 0.0072\n"
          ]
        },
        {
          "output_type": "stream",
          "name": "stderr",
          "text": [
            " 85%|████████▌ | 3402/4000 [08:13<01:21,  7.29it/s]"
          ]
        },
        {
          "output_type": "stream",
          "name": "stdout",
          "text": [
            "Epoch [14/100] Batch [3400] Loss_G: 3.6165, Loss_D_A: 0.1006, Loss_D_B: 0.0241\n"
          ]
        },
        {
          "output_type": "stream",
          "name": "stderr",
          "text": [
            " 88%|████████▊ | 3502/4000 [08:27<01:06,  7.54it/s]"
          ]
        },
        {
          "output_type": "stream",
          "name": "stdout",
          "text": [
            "Epoch [14/100] Batch [3500] Loss_G: 4.6022, Loss_D_A: 0.1676, Loss_D_B: 0.0262\n"
          ]
        },
        {
          "output_type": "stream",
          "name": "stderr",
          "text": [
            " 90%|█████████ | 3602/4000 [08:42<00:58,  6.84it/s]"
          ]
        },
        {
          "output_type": "stream",
          "name": "stdout",
          "text": [
            "Epoch [14/100] Batch [3600] Loss_G: 4.0301, Loss_D_A: 0.0386, Loss_D_B: 0.0062\n"
          ]
        },
        {
          "output_type": "stream",
          "name": "stderr",
          "text": [
            " 93%|█████████▎| 3702/4000 [08:56<00:40,  7.34it/s]"
          ]
        },
        {
          "output_type": "stream",
          "name": "stdout",
          "text": [
            "Epoch [14/100] Batch [3700] Loss_G: 5.5633, Loss_D_A: 0.0829, Loss_D_B: 0.0136\n"
          ]
        },
        {
          "output_type": "stream",
          "name": "stderr",
          "text": [
            " 95%|█████████▌| 3802/4000 [09:10<00:27,  7.30it/s]"
          ]
        },
        {
          "output_type": "stream",
          "name": "stdout",
          "text": [
            "Epoch [14/100] Batch [3800] Loss_G: 3.8743, Loss_D_A: 0.1281, Loss_D_B: 0.0110\n"
          ]
        },
        {
          "output_type": "stream",
          "name": "stderr",
          "text": [
            " 98%|█████████▊| 3902/4000 [09:25<00:14,  6.60it/s]"
          ]
        },
        {
          "output_type": "stream",
          "name": "stdout",
          "text": [
            "Epoch [14/100] Batch [3900] Loss_G: 5.0843, Loss_D_A: 0.0850, Loss_D_B: 0.0125\n"
          ]
        },
        {
          "output_type": "stream",
          "name": "stderr",
          "text": [
            "100%|██████████| 4000/4000 [09:38<00:00,  6.91it/s]\n",
            "  0%|          | 2/4000 [00:00<09:20,  7.13it/s]"
          ]
        },
        {
          "output_type": "stream",
          "name": "stdout",
          "text": [
            "Epoch [15/100] Batch [0] Loss_G: 4.5338, Loss_D_A: 0.0400, Loss_D_B: 0.0459\n"
          ]
        },
        {
          "output_type": "stream",
          "name": "stderr",
          "text": [
            "  3%|▎         | 102/4000 [00:14<10:05,  6.44it/s]"
          ]
        },
        {
          "output_type": "stream",
          "name": "stdout",
          "text": [
            "Epoch [15/100] Batch [100] Loss_G: 4.6853, Loss_D_A: 0.1298, Loss_D_B: 0.0194\n"
          ]
        },
        {
          "output_type": "stream",
          "name": "stderr",
          "text": [
            "  5%|▌         | 202/4000 [00:29<08:58,  7.06it/s]"
          ]
        },
        {
          "output_type": "stream",
          "name": "stdout",
          "text": [
            "Epoch [15/100] Batch [200] Loss_G: 4.8175, Loss_D_A: 0.2611, Loss_D_B: 0.0281\n"
          ]
        },
        {
          "output_type": "stream",
          "name": "stderr",
          "text": [
            "  8%|▊         | 302/4000 [00:43<08:09,  7.56it/s]"
          ]
        },
        {
          "output_type": "stream",
          "name": "stdout",
          "text": [
            "Epoch [15/100] Batch [300] Loss_G: 4.4573, Loss_D_A: 0.0329, Loss_D_B: 0.0149\n"
          ]
        },
        {
          "output_type": "stream",
          "name": "stderr",
          "text": [
            " 10%|█         | 402/4000 [00:58<08:05,  7.41it/s]"
          ]
        },
        {
          "output_type": "stream",
          "name": "stdout",
          "text": [
            "Epoch [15/100] Batch [400] Loss_G: 3.6730, Loss_D_A: 0.0713, Loss_D_B: 0.0740\n"
          ]
        },
        {
          "output_type": "stream",
          "name": "stderr",
          "text": [
            " 13%|█▎        | 502/4000 [01:12<08:00,  7.28it/s]"
          ]
        },
        {
          "output_type": "stream",
          "name": "stdout",
          "text": [
            "Epoch [15/100] Batch [500] Loss_G: 4.5248, Loss_D_A: 0.0526, Loss_D_B: 0.0098\n"
          ]
        },
        {
          "output_type": "stream",
          "name": "stderr",
          "text": [
            " 15%|█▌        | 602/4000 [01:26<07:35,  7.45it/s]"
          ]
        },
        {
          "output_type": "stream",
          "name": "stdout",
          "text": [
            "Epoch [15/100] Batch [600] Loss_G: 3.3215, Loss_D_A: 0.1240, Loss_D_B: 0.0461\n"
          ]
        },
        {
          "output_type": "stream",
          "name": "stderr",
          "text": [
            " 18%|█▊        | 702/4000 [01:40<07:30,  7.32it/s]"
          ]
        },
        {
          "output_type": "stream",
          "name": "stdout",
          "text": [
            "Epoch [15/100] Batch [700] Loss_G: 5.2939, Loss_D_A: 0.1000, Loss_D_B: 0.0572\n"
          ]
        },
        {
          "output_type": "stream",
          "name": "stderr",
          "text": [
            " 20%|██        | 802/4000 [01:55<07:42,  6.91it/s]"
          ]
        },
        {
          "output_type": "stream",
          "name": "stdout",
          "text": [
            "Epoch [15/100] Batch [800] Loss_G: 3.9829, Loss_D_A: 0.3477, Loss_D_B: 0.0084\n"
          ]
        },
        {
          "output_type": "stream",
          "name": "stderr",
          "text": [
            " 23%|██▎       | 902/4000 [02:09<07:41,  6.72it/s]"
          ]
        },
        {
          "output_type": "stream",
          "name": "stdout",
          "text": [
            "Epoch [15/100] Batch [900] Loss_G: 5.1674, Loss_D_A: 0.0957, Loss_D_B: 0.0079\n"
          ]
        },
        {
          "output_type": "stream",
          "name": "stderr",
          "text": [
            " 25%|██▌       | 1002/4000 [02:23<07:29,  6.66it/s]"
          ]
        },
        {
          "output_type": "stream",
          "name": "stdout",
          "text": [
            "Epoch [15/100] Batch [1000] Loss_G: 5.1153, Loss_D_A: 0.2742, Loss_D_B: 0.0379\n"
          ]
        },
        {
          "output_type": "stream",
          "name": "stderr",
          "text": [
            " 28%|██▊       | 1102/4000 [02:37<07:04,  6.82it/s]"
          ]
        },
        {
          "output_type": "stream",
          "name": "stdout",
          "text": [
            "Epoch [15/100] Batch [1100] Loss_G: 3.3590, Loss_D_A: 0.1212, Loss_D_B: 0.0078\n"
          ]
        },
        {
          "output_type": "stream",
          "name": "stderr",
          "text": [
            " 30%|███       | 1202/4000 [02:52<05:53,  7.91it/s]"
          ]
        },
        {
          "output_type": "stream",
          "name": "stdout",
          "text": [
            "Epoch [15/100] Batch [1200] Loss_G: 5.5207, Loss_D_A: 0.0887, Loss_D_B: 0.0107\n"
          ]
        },
        {
          "output_type": "stream",
          "name": "stderr",
          "text": [
            " 33%|███▎      | 1302/4000 [03:07<07:09,  6.28it/s]"
          ]
        },
        {
          "output_type": "stream",
          "name": "stdout",
          "text": [
            "Epoch [15/100] Batch [1300] Loss_G: 5.5536, Loss_D_A: 0.0711, Loss_D_B: 0.0162\n"
          ]
        },
        {
          "output_type": "stream",
          "name": "stderr",
          "text": [
            " 35%|███▌      | 1402/4000 [03:21<06:20,  6.82it/s]"
          ]
        },
        {
          "output_type": "stream",
          "name": "stdout",
          "text": [
            "Epoch [15/100] Batch [1400] Loss_G: 5.5137, Loss_D_A: 0.3884, Loss_D_B: 0.0249\n"
          ]
        },
        {
          "output_type": "stream",
          "name": "stderr",
          "text": [
            " 38%|███▊      | 1502/4000 [03:36<06:17,  6.62it/s]"
          ]
        },
        {
          "output_type": "stream",
          "name": "stdout",
          "text": [
            "Epoch [15/100] Batch [1500] Loss_G: 3.8327, Loss_D_A: 0.0656, Loss_D_B: 0.0144\n"
          ]
        },
        {
          "output_type": "stream",
          "name": "stderr",
          "text": [
            " 40%|████      | 1602/4000 [03:50<05:09,  7.75it/s]"
          ]
        },
        {
          "output_type": "stream",
          "name": "stdout",
          "text": [
            "Epoch [15/100] Batch [1600] Loss_G: 4.3140, Loss_D_A: 0.1667, Loss_D_B: 0.0319\n"
          ]
        },
        {
          "output_type": "stream",
          "name": "stderr",
          "text": [
            " 43%|████▎     | 1702/4000 [04:04<05:48,  6.59it/s]"
          ]
        },
        {
          "output_type": "stream",
          "name": "stdout",
          "text": [
            "Epoch [15/100] Batch [1700] Loss_G: 6.2589, Loss_D_A: 0.0578, Loss_D_B: 0.0082\n"
          ]
        },
        {
          "output_type": "stream",
          "name": "stderr",
          "text": [
            " 45%|████▌     | 1802/4000 [04:18<05:11,  7.05it/s]"
          ]
        },
        {
          "output_type": "stream",
          "name": "stdout",
          "text": [
            "Epoch [15/100] Batch [1800] Loss_G: 5.9911, Loss_D_A: 0.1492, Loss_D_B: 0.0121\n"
          ]
        },
        {
          "output_type": "stream",
          "name": "stderr",
          "text": [
            " 48%|████▊     | 1902/4000 [04:32<04:53,  7.15it/s]"
          ]
        },
        {
          "output_type": "stream",
          "name": "stdout",
          "text": [
            "Epoch [15/100] Batch [1900] Loss_G: 6.5111, Loss_D_A: 0.1048, Loss_D_B: 0.0217\n"
          ]
        },
        {
          "output_type": "stream",
          "name": "stderr",
          "text": [
            " 50%|█████     | 2002/4000 [04:47<05:04,  6.56it/s]"
          ]
        },
        {
          "output_type": "stream",
          "name": "stdout",
          "text": [
            "Epoch [15/100] Batch [2000] Loss_G: 8.1467, Loss_D_A: 0.3112, Loss_D_B: 0.0122\n"
          ]
        },
        {
          "output_type": "stream",
          "name": "stderr",
          "text": [
            " 53%|█████▎    | 2102/4000 [05:01<03:54,  8.09it/s]"
          ]
        },
        {
          "output_type": "stream",
          "name": "stdout",
          "text": [
            "Epoch [15/100] Batch [2100] Loss_G: 4.0813, Loss_D_A: 0.0365, Loss_D_B: 0.0513\n"
          ]
        },
        {
          "output_type": "stream",
          "name": "stderr",
          "text": [
            " 55%|█████▌    | 2202/4000 [05:15<03:58,  7.53it/s]"
          ]
        },
        {
          "output_type": "stream",
          "name": "stdout",
          "text": [
            "Epoch [15/100] Batch [2200] Loss_G: 4.4398, Loss_D_A: 0.0778, Loss_D_B: 0.0136\n"
          ]
        },
        {
          "output_type": "stream",
          "name": "stderr",
          "text": [
            " 58%|█████▊    | 2302/4000 [05:29<03:43,  7.59it/s]"
          ]
        },
        {
          "output_type": "stream",
          "name": "stdout",
          "text": [
            "Epoch [15/100] Batch [2300] Loss_G: 5.9059, Loss_D_A: 0.0409, Loss_D_B: 0.0071\n"
          ]
        },
        {
          "output_type": "stream",
          "name": "stderr",
          "text": [
            " 60%|██████    | 2401/4000 [05:44<03:44,  7.13it/s]"
          ]
        },
        {
          "output_type": "stream",
          "name": "stdout",
          "text": [
            "Epoch [15/100] Batch [2400] Loss_G: 5.1619, Loss_D_A: 0.2769, Loss_D_B: 0.0263\n"
          ]
        },
        {
          "output_type": "stream",
          "name": "stderr",
          "text": [
            " 63%|██████▎   | 2502/4000 [05:58<03:30,  7.11it/s]"
          ]
        },
        {
          "output_type": "stream",
          "name": "stdout",
          "text": [
            "Epoch [15/100] Batch [2500] Loss_G: 5.2612, Loss_D_A: 0.0754, Loss_D_B: 0.0402\n"
          ]
        },
        {
          "output_type": "stream",
          "name": "stderr",
          "text": [
            " 65%|██████▌   | 2602/4000 [06:12<03:31,  6.59it/s]"
          ]
        },
        {
          "output_type": "stream",
          "name": "stdout",
          "text": [
            "Epoch [15/100] Batch [2600] Loss_G: 5.5411, Loss_D_A: 0.1046, Loss_D_B: 0.0287\n"
          ]
        },
        {
          "output_type": "stream",
          "name": "stderr",
          "text": [
            " 68%|██████▊   | 2702/4000 [06:26<03:05,  6.98it/s]"
          ]
        },
        {
          "output_type": "stream",
          "name": "stdout",
          "text": [
            "Epoch [15/100] Batch [2700] Loss_G: 4.3533, Loss_D_A: 0.3452, Loss_D_B: 0.0136\n"
          ]
        },
        {
          "output_type": "stream",
          "name": "stderr",
          "text": [
            " 70%|███████   | 2802/4000 [06:41<02:50,  7.04it/s]"
          ]
        },
        {
          "output_type": "stream",
          "name": "stdout",
          "text": [
            "Epoch [15/100] Batch [2800] Loss_G: 6.8939, Loss_D_A: 0.0512, Loss_D_B: 0.0369\n"
          ]
        },
        {
          "output_type": "stream",
          "name": "stderr",
          "text": [
            " 73%|███████▎  | 2902/4000 [06:55<02:46,  6.60it/s]"
          ]
        },
        {
          "output_type": "stream",
          "name": "stdout",
          "text": [
            "Epoch [15/100] Batch [2900] Loss_G: 5.4806, Loss_D_A: 0.0568, Loss_D_B: 0.0145\n"
          ]
        },
        {
          "output_type": "stream",
          "name": "stderr",
          "text": [
            " 75%|███████▌  | 3002/4000 [07:09<02:20,  7.08it/s]"
          ]
        },
        {
          "output_type": "stream",
          "name": "stdout",
          "text": [
            "Epoch [15/100] Batch [3000] Loss_G: 5.5693, Loss_D_A: 0.0735, Loss_D_B: 0.0148\n"
          ]
        },
        {
          "output_type": "stream",
          "name": "stderr",
          "text": [
            " 78%|███████▊  | 3102/4000 [07:23<02:02,  7.31it/s]"
          ]
        },
        {
          "output_type": "stream",
          "name": "stdout",
          "text": [
            "Epoch [15/100] Batch [3100] Loss_G: 6.0291, Loss_D_A: 0.0649, Loss_D_B: 0.0226\n"
          ]
        },
        {
          "output_type": "stream",
          "name": "stderr",
          "text": [
            " 80%|████████  | 3202/4000 [07:37<01:54,  6.96it/s]"
          ]
        },
        {
          "output_type": "stream",
          "name": "stdout",
          "text": [
            "Epoch [15/100] Batch [3200] Loss_G: 3.4336, Loss_D_A: 0.0246, Loss_D_B: 0.0152\n"
          ]
        },
        {
          "output_type": "stream",
          "name": "stderr",
          "text": [
            " 83%|████████▎ | 3302/4000 [07:51<01:37,  7.15it/s]"
          ]
        },
        {
          "output_type": "stream",
          "name": "stdout",
          "text": [
            "Epoch [15/100] Batch [3300] Loss_G: 6.2991, Loss_D_A: 0.2399, Loss_D_B: 0.0384\n"
          ]
        },
        {
          "output_type": "stream",
          "name": "stderr",
          "text": [
            " 85%|████████▌ | 3402/4000 [08:05<01:25,  6.98it/s]"
          ]
        },
        {
          "output_type": "stream",
          "name": "stdout",
          "text": [
            "Epoch [15/100] Batch [3400] Loss_G: 4.8197, Loss_D_A: 0.1757, Loss_D_B: 0.0118\n"
          ]
        },
        {
          "output_type": "stream",
          "name": "stderr",
          "text": [
            " 88%|████████▊ | 3502/4000 [08:19<01:06,  7.44it/s]"
          ]
        },
        {
          "output_type": "stream",
          "name": "stdout",
          "text": [
            "Epoch [15/100] Batch [3500] Loss_G: 3.9591, Loss_D_A: 0.0532, Loss_D_B: 0.0316\n"
          ]
        },
        {
          "output_type": "stream",
          "name": "stderr",
          "text": [
            " 90%|█████████ | 3602/4000 [08:33<00:53,  7.45it/s]"
          ]
        },
        {
          "output_type": "stream",
          "name": "stdout",
          "text": [
            "Epoch [15/100] Batch [3600] Loss_G: 4.4991, Loss_D_A: 0.0530, Loss_D_B: 0.0152\n"
          ]
        },
        {
          "output_type": "stream",
          "name": "stderr",
          "text": [
            " 93%|█████████▎| 3702/4000 [08:47<00:41,  7.10it/s]"
          ]
        },
        {
          "output_type": "stream",
          "name": "stdout",
          "text": [
            "Epoch [15/100] Batch [3700] Loss_G: 5.4965, Loss_D_A: 0.0704, Loss_D_B: 0.0065\n"
          ]
        },
        {
          "output_type": "stream",
          "name": "stderr",
          "text": [
            " 95%|█████████▌| 3802/4000 [09:01<00:27,  7.20it/s]"
          ]
        },
        {
          "output_type": "stream",
          "name": "stdout",
          "text": [
            "Epoch [15/100] Batch [3800] Loss_G: 4.1009, Loss_D_A: 0.0980, Loss_D_B: 0.0136\n"
          ]
        },
        {
          "output_type": "stream",
          "name": "stderr",
          "text": [
            " 98%|█████████▊| 3902/4000 [09:16<00:13,  7.19it/s]"
          ]
        },
        {
          "output_type": "stream",
          "name": "stdout",
          "text": [
            "Epoch [15/100] Batch [3900] Loss_G: 5.1974, Loss_D_A: 0.1928, Loss_D_B: 0.0128\n"
          ]
        },
        {
          "output_type": "stream",
          "name": "stderr",
          "text": [
            "100%|██████████| 4000/4000 [09:29<00:00,  7.02it/s]\n",
            "  0%|          | 1/4000 [00:00<08:11,  8.14it/s]"
          ]
        },
        {
          "output_type": "stream",
          "name": "stdout",
          "text": [
            "Epoch [16/100] Batch [0] Loss_G: 5.4637, Loss_D_A: 0.0819, Loss_D_B: 0.0386\n"
          ]
        },
        {
          "output_type": "stream",
          "name": "stderr",
          "text": [
            "  3%|▎         | 102/4000 [00:14<09:11,  7.06it/s]"
          ]
        },
        {
          "output_type": "stream",
          "name": "stdout",
          "text": [
            "Epoch [16/100] Batch [100] Loss_G: 6.5795, Loss_D_A: 0.1181, Loss_D_B: 0.0228\n"
          ]
        },
        {
          "output_type": "stream",
          "name": "stderr",
          "text": [
            "  5%|▌         | 202/4000 [00:29<09:10,  6.90it/s]"
          ]
        },
        {
          "output_type": "stream",
          "name": "stdout",
          "text": [
            "Epoch [16/100] Batch [200] Loss_G: 5.6219, Loss_D_A: 0.0946, Loss_D_B: 0.0119\n"
          ]
        },
        {
          "output_type": "stream",
          "name": "stderr",
          "text": [
            "  8%|▊         | 302/4000 [00:43<08:48,  7.00it/s]"
          ]
        },
        {
          "output_type": "stream",
          "name": "stdout",
          "text": [
            "Epoch [16/100] Batch [300] Loss_G: 5.7292, Loss_D_A: 0.1008, Loss_D_B: 0.0320\n"
          ]
        },
        {
          "output_type": "stream",
          "name": "stderr",
          "text": [
            " 10%|█         | 402/4000 [00:57<08:47,  6.82it/s]"
          ]
        },
        {
          "output_type": "stream",
          "name": "stdout",
          "text": [
            "Epoch [16/100] Batch [400] Loss_G: 5.0578, Loss_D_A: 0.0905, Loss_D_B: 0.0173\n"
          ]
        },
        {
          "output_type": "stream",
          "name": "stderr",
          "text": [
            " 13%|█▎        | 502/4000 [01:12<08:54,  6.54it/s]"
          ]
        },
        {
          "output_type": "stream",
          "name": "stdout",
          "text": [
            "Epoch [16/100] Batch [500] Loss_G: 6.3097, Loss_D_A: 0.1206, Loss_D_B: 0.0304\n"
          ]
        },
        {
          "output_type": "stream",
          "name": "stderr",
          "text": [
            " 15%|█▌        | 602/4000 [01:26<08:11,  6.92it/s]"
          ]
        },
        {
          "output_type": "stream",
          "name": "stdout",
          "text": [
            "Epoch [16/100] Batch [600] Loss_G: 5.1540, Loss_D_A: 0.0903, Loss_D_B: 0.0203\n"
          ]
        },
        {
          "output_type": "stream",
          "name": "stderr",
          "text": [
            " 18%|█▊        | 702/4000 [01:40<07:34,  7.26it/s]"
          ]
        },
        {
          "output_type": "stream",
          "name": "stdout",
          "text": [
            "Epoch [16/100] Batch [700] Loss_G: 3.9346, Loss_D_A: 0.2040, Loss_D_B: 0.0239\n"
          ]
        },
        {
          "output_type": "stream",
          "name": "stderr",
          "text": [
            " 20%|██        | 802/4000 [01:54<07:36,  7.01it/s]"
          ]
        },
        {
          "output_type": "stream",
          "name": "stdout",
          "text": [
            "Epoch [16/100] Batch [800] Loss_G: 5.5522, Loss_D_A: 0.0549, Loss_D_B: 0.0518\n"
          ]
        },
        {
          "output_type": "stream",
          "name": "stderr",
          "text": [
            " 23%|██▎       | 902/4000 [02:08<07:48,  6.61it/s]"
          ]
        },
        {
          "output_type": "stream",
          "name": "stdout",
          "text": [
            "Epoch [16/100] Batch [900] Loss_G: 5.1197, Loss_D_A: 0.0808, Loss_D_B: 0.0200\n"
          ]
        },
        {
          "output_type": "stream",
          "name": "stderr",
          "text": [
            " 25%|██▌       | 1002/4000 [02:22<07:06,  7.02it/s]"
          ]
        },
        {
          "output_type": "stream",
          "name": "stdout",
          "text": [
            "Epoch [16/100] Batch [1000] Loss_G: 5.6052, Loss_D_A: 0.1316, Loss_D_B: 0.0094\n"
          ]
        },
        {
          "output_type": "stream",
          "name": "stderr",
          "text": [
            " 28%|██▊       | 1102/4000 [02:37<06:44,  7.16it/s]"
          ]
        },
        {
          "output_type": "stream",
          "name": "stdout",
          "text": [
            "Epoch [16/100] Batch [1100] Loss_G: 5.0110, Loss_D_A: 0.1218, Loss_D_B: 0.0271\n"
          ]
        },
        {
          "output_type": "stream",
          "name": "stderr",
          "text": [
            " 30%|███       | 1202/4000 [02:51<06:38,  7.02it/s]"
          ]
        },
        {
          "output_type": "stream",
          "name": "stdout",
          "text": [
            "Epoch [16/100] Batch [1200] Loss_G: 4.1885, Loss_D_A: 0.2173, Loss_D_B: 0.0344\n"
          ]
        },
        {
          "output_type": "stream",
          "name": "stderr",
          "text": [
            " 33%|███▎      | 1302/4000 [03:05<06:59,  6.44it/s]"
          ]
        },
        {
          "output_type": "stream",
          "name": "stdout",
          "text": [
            "Epoch [16/100] Batch [1300] Loss_G: 7.4678, Loss_D_A: 0.1859, Loss_D_B: 0.0139\n"
          ]
        },
        {
          "output_type": "stream",
          "name": "stderr",
          "text": [
            " 35%|███▌      | 1402/4000 [03:20<05:55,  7.30it/s]"
          ]
        },
        {
          "output_type": "stream",
          "name": "stdout",
          "text": [
            "Epoch [16/100] Batch [1400] Loss_G: 4.7267, Loss_D_A: 0.0245, Loss_D_B: 0.0104\n"
          ]
        },
        {
          "output_type": "stream",
          "name": "stderr",
          "text": [
            " 38%|███▊      | 1502/4000 [03:34<06:09,  6.75it/s]"
          ]
        },
        {
          "output_type": "stream",
          "name": "stdout",
          "text": [
            "Epoch [16/100] Batch [1500] Loss_G: 4.6902, Loss_D_A: 0.0849, Loss_D_B: 0.0115\n"
          ]
        },
        {
          "output_type": "stream",
          "name": "stderr",
          "text": [
            " 40%|████      | 1602/4000 [03:48<05:56,  6.72it/s]"
          ]
        },
        {
          "output_type": "stream",
          "name": "stdout",
          "text": [
            "Epoch [16/100] Batch [1600] Loss_G: 4.9529, Loss_D_A: 0.0380, Loss_D_B: 0.0089\n"
          ]
        },
        {
          "output_type": "stream",
          "name": "stderr",
          "text": [
            " 43%|████▎     | 1702/4000 [04:02<05:44,  6.68it/s]"
          ]
        },
        {
          "output_type": "stream",
          "name": "stdout",
          "text": [
            "Epoch [16/100] Batch [1700] Loss_G: 5.5426, Loss_D_A: 0.1206, Loss_D_B: 0.0173\n"
          ]
        },
        {
          "output_type": "stream",
          "name": "stderr",
          "text": [
            " 45%|████▌     | 1802/4000 [04:16<05:18,  6.90it/s]"
          ]
        },
        {
          "output_type": "stream",
          "name": "stdout",
          "text": [
            "Epoch [16/100] Batch [1800] Loss_G: 4.4848, Loss_D_A: 0.1125, Loss_D_B: 0.0107\n"
          ]
        },
        {
          "output_type": "stream",
          "name": "stderr",
          "text": [
            " 48%|████▊     | 1902/4000 [04:30<04:57,  7.05it/s]"
          ]
        },
        {
          "output_type": "stream",
          "name": "stdout",
          "text": [
            "Epoch [16/100] Batch [1900] Loss_G: 5.0041, Loss_D_A: 0.2854, Loss_D_B: 0.0067\n"
          ]
        },
        {
          "output_type": "stream",
          "name": "stderr",
          "text": [
            " 50%|█████     | 2002/4000 [04:45<04:27,  7.48it/s]"
          ]
        },
        {
          "output_type": "stream",
          "name": "stdout",
          "text": [
            "Epoch [16/100] Batch [2000] Loss_G: 3.7705, Loss_D_A: 0.1452, Loss_D_B: 0.0082\n"
          ]
        },
        {
          "output_type": "stream",
          "name": "stderr",
          "text": [
            " 53%|█████▎    | 2102/4000 [04:59<04:09,  7.61it/s]"
          ]
        },
        {
          "output_type": "stream",
          "name": "stdout",
          "text": [
            "Epoch [16/100] Batch [2100] Loss_G: 5.5929, Loss_D_A: 0.0460, Loss_D_B: 0.0117\n"
          ]
        },
        {
          "output_type": "stream",
          "name": "stderr",
          "text": [
            " 55%|█████▌    | 2202/4000 [05:13<04:16,  7.00it/s]"
          ]
        },
        {
          "output_type": "stream",
          "name": "stdout",
          "text": [
            "Epoch [16/100] Batch [2200] Loss_G: 4.5708, Loss_D_A: 0.0289, Loss_D_B: 0.0096\n"
          ]
        },
        {
          "output_type": "stream",
          "name": "stderr",
          "text": [
            " 58%|█████▊    | 2302/4000 [05:27<04:18,  6.58it/s]"
          ]
        },
        {
          "output_type": "stream",
          "name": "stdout",
          "text": [
            "Epoch [16/100] Batch [2300] Loss_G: 4.2274, Loss_D_A: 0.3984, Loss_D_B: 0.0077\n"
          ]
        },
        {
          "output_type": "stream",
          "name": "stderr",
          "text": [
            " 60%|██████    | 2402/4000 [05:42<03:39,  7.27it/s]"
          ]
        },
        {
          "output_type": "stream",
          "name": "stdout",
          "text": [
            "Epoch [16/100] Batch [2400] Loss_G: 3.7059, Loss_D_A: 0.1323, Loss_D_B: 0.0230\n"
          ]
        },
        {
          "output_type": "stream",
          "name": "stderr",
          "text": [
            " 63%|██████▎   | 2502/4000 [05:56<03:23,  7.35it/s]"
          ]
        },
        {
          "output_type": "stream",
          "name": "stdout",
          "text": [
            "Epoch [16/100] Batch [2500] Loss_G: 5.4982, Loss_D_A: 0.0529, Loss_D_B: 0.0101\n"
          ]
        },
        {
          "output_type": "stream",
          "name": "stderr",
          "text": [
            " 65%|██████▌   | 2602/4000 [06:10<03:20,  6.97it/s]"
          ]
        },
        {
          "output_type": "stream",
          "name": "stdout",
          "text": [
            "Epoch [16/100] Batch [2600] Loss_G: 5.9052, Loss_D_A: 0.1402, Loss_D_B: 0.0097\n"
          ]
        },
        {
          "output_type": "stream",
          "name": "stderr",
          "text": [
            " 68%|██████▊   | 2702/4000 [06:24<03:10,  6.81it/s]"
          ]
        },
        {
          "output_type": "stream",
          "name": "stdout",
          "text": [
            "Epoch [16/100] Batch [2700] Loss_G: 4.3218, Loss_D_A: 0.0205, Loss_D_B: 0.0069\n"
          ]
        },
        {
          "output_type": "stream",
          "name": "stderr",
          "text": [
            " 70%|███████   | 2802/4000 [06:39<02:48,  7.11it/s]"
          ]
        },
        {
          "output_type": "stream",
          "name": "stdout",
          "text": [
            "Epoch [16/100] Batch [2800] Loss_G: 6.6287, Loss_D_A: 0.2203, Loss_D_B: 0.0161\n"
          ]
        },
        {
          "output_type": "stream",
          "name": "stderr",
          "text": [
            " 73%|███████▎  | 2902/4000 [06:53<02:37,  6.96it/s]"
          ]
        },
        {
          "output_type": "stream",
          "name": "stdout",
          "text": [
            "Epoch [16/100] Batch [2900] Loss_G: 4.5072, Loss_D_A: 0.1094, Loss_D_B: 0.0244\n"
          ]
        },
        {
          "output_type": "stream",
          "name": "stderr",
          "text": [
            " 75%|███████▌  | 3002/4000 [07:07<02:25,  6.86it/s]"
          ]
        },
        {
          "output_type": "stream",
          "name": "stdout",
          "text": [
            "Epoch [16/100] Batch [3000] Loss_G: 4.7464, Loss_D_A: 0.0785, Loss_D_B: 0.0139\n"
          ]
        },
        {
          "output_type": "stream",
          "name": "stderr",
          "text": [
            " 78%|███████▊  | 3102/4000 [07:21<02:06,  7.12it/s]"
          ]
        },
        {
          "output_type": "stream",
          "name": "stdout",
          "text": [
            "Epoch [16/100] Batch [3100] Loss_G: 5.8934, Loss_D_A: 0.0422, Loss_D_B: 0.0529\n"
          ]
        },
        {
          "output_type": "stream",
          "name": "stderr",
          "text": [
            " 80%|████████  | 3202/4000 [07:35<01:56,  6.85it/s]"
          ]
        },
        {
          "output_type": "stream",
          "name": "stdout",
          "text": [
            "Epoch [16/100] Batch [3200] Loss_G: 4.1064, Loss_D_A: 0.1325, Loss_D_B: 0.0057\n"
          ]
        },
        {
          "output_type": "stream",
          "name": "stderr",
          "text": [
            " 83%|████████▎ | 3302/4000 [07:50<01:34,  7.40it/s]"
          ]
        },
        {
          "output_type": "stream",
          "name": "stdout",
          "text": [
            "Epoch [16/100] Batch [3300] Loss_G: 4.0564, Loss_D_A: 0.2565, Loss_D_B: 0.0409\n"
          ]
        },
        {
          "output_type": "stream",
          "name": "stderr",
          "text": [
            " 85%|████████▌ | 3402/4000 [08:04<01:28,  6.72it/s]"
          ]
        },
        {
          "output_type": "stream",
          "name": "stdout",
          "text": [
            "Epoch [16/100] Batch [3400] Loss_G: 4.9253, Loss_D_A: 0.1559, Loss_D_B: 0.0146\n"
          ]
        },
        {
          "output_type": "stream",
          "name": "stderr",
          "text": [
            " 88%|████████▊ | 3502/4000 [08:19<01:21,  6.09it/s]"
          ]
        },
        {
          "output_type": "stream",
          "name": "stdout",
          "text": [
            "Epoch [16/100] Batch [3500] Loss_G: 6.7031, Loss_D_A: 0.0906, Loss_D_B: 0.0065\n"
          ]
        },
        {
          "output_type": "stream",
          "name": "stderr",
          "text": [
            " 90%|█████████ | 3601/4000 [08:44<03:40,  1.81it/s]"
          ]
        },
        {
          "output_type": "stream",
          "name": "stdout",
          "text": [
            "Epoch [16/100] Batch [3600] Loss_G: 4.8794, Loss_D_A: 0.2067, Loss_D_B: 0.0088\n"
          ]
        },
        {
          "output_type": "stream",
          "name": "stderr",
          "text": [
            " 93%|█████████▎| 3702/4000 [09:00<00:40,  7.28it/s]"
          ]
        },
        {
          "output_type": "stream",
          "name": "stdout",
          "text": [
            "Epoch [16/100] Batch [3700] Loss_G: 4.1102, Loss_D_A: 0.2751, Loss_D_B: 0.0141\n"
          ]
        },
        {
          "output_type": "stream",
          "name": "stderr",
          "text": [
            " 95%|█████████▌| 3802/4000 [09:14<00:26,  7.49it/s]"
          ]
        },
        {
          "output_type": "stream",
          "name": "stdout",
          "text": [
            "Epoch [16/100] Batch [3800] Loss_G: 4.4652, Loss_D_A: 0.1449, Loss_D_B: 0.0097\n"
          ]
        },
        {
          "output_type": "stream",
          "name": "stderr",
          "text": [
            " 98%|█████████▊| 3902/4000 [09:28<00:13,  7.07it/s]"
          ]
        },
        {
          "output_type": "stream",
          "name": "stdout",
          "text": [
            "Epoch [16/100] Batch [3900] Loss_G: 5.6702, Loss_D_A: 0.1408, Loss_D_B: 0.0147\n"
          ]
        },
        {
          "output_type": "stream",
          "name": "stderr",
          "text": [
            "100%|██████████| 4000/4000 [09:42<00:00,  6.87it/s]\n",
            "  0%|          | 1/4000 [00:00<09:56,  6.70it/s]"
          ]
        },
        {
          "output_type": "stream",
          "name": "stdout",
          "text": [
            "Epoch [17/100] Batch [0] Loss_G: 5.5597, Loss_D_A: 0.0485, Loss_D_B: 0.0187\n"
          ]
        },
        {
          "output_type": "stream",
          "name": "stderr",
          "text": [
            "  3%|▎         | 102/4000 [00:14<09:35,  6.77it/s]"
          ]
        },
        {
          "output_type": "stream",
          "name": "stdout",
          "text": [
            "Epoch [17/100] Batch [100] Loss_G: 4.0714, Loss_D_A: 0.1453, Loss_D_B: 0.0101\n"
          ]
        },
        {
          "output_type": "stream",
          "name": "stderr",
          "text": [
            "  5%|▌         | 201/4000 [00:28<09:12,  6.87it/s]"
          ]
        },
        {
          "output_type": "stream",
          "name": "stdout",
          "text": [
            "Epoch [17/100] Batch [200] Loss_G: 4.7032, Loss_D_A: 0.1586, Loss_D_B: 0.0135\n"
          ]
        },
        {
          "output_type": "stream",
          "name": "stderr",
          "text": [
            "  8%|▊         | 302/4000 [00:43<11:12,  5.50it/s]"
          ]
        },
        {
          "output_type": "stream",
          "name": "stdout",
          "text": [
            "Epoch [17/100] Batch [300] Loss_G: 3.6941, Loss_D_A: 0.1420, Loss_D_B: 0.0172\n"
          ]
        },
        {
          "output_type": "stream",
          "name": "stderr",
          "text": [
            " 10%|█         | 402/4000 [00:57<07:42,  7.79it/s]"
          ]
        },
        {
          "output_type": "stream",
          "name": "stdout",
          "text": [
            "Epoch [17/100] Batch [400] Loss_G: 4.9972, Loss_D_A: 0.0918, Loss_D_B: 0.0128\n"
          ]
        },
        {
          "output_type": "stream",
          "name": "stderr",
          "text": [
            " 13%|█▎        | 502/4000 [01:11<07:36,  7.67it/s]"
          ]
        },
        {
          "output_type": "stream",
          "name": "stdout",
          "text": [
            "Epoch [17/100] Batch [500] Loss_G: 5.6252, Loss_D_A: 0.1347, Loss_D_B: 0.0239\n"
          ]
        },
        {
          "output_type": "stream",
          "name": "stderr",
          "text": [
            " 15%|█▌        | 602/4000 [01:25<08:15,  6.86it/s]"
          ]
        },
        {
          "output_type": "stream",
          "name": "stdout",
          "text": [
            "Epoch [17/100] Batch [600] Loss_G: 5.0419, Loss_D_A: 0.0909, Loss_D_B: 0.0068\n"
          ]
        },
        {
          "output_type": "stream",
          "name": "stderr",
          "text": [
            " 18%|█▊        | 702/4000 [01:39<08:46,  6.27it/s]"
          ]
        },
        {
          "output_type": "stream",
          "name": "stdout",
          "text": [
            "Epoch [17/100] Batch [700] Loss_G: 4.6219, Loss_D_A: 0.0517, Loss_D_B: 0.0284\n"
          ]
        },
        {
          "output_type": "stream",
          "name": "stderr",
          "text": [
            " 20%|██        | 802/4000 [01:53<08:32,  6.23it/s]"
          ]
        },
        {
          "output_type": "stream",
          "name": "stdout",
          "text": [
            "Epoch [17/100] Batch [800] Loss_G: 4.5605, Loss_D_A: 0.0402, Loss_D_B: 0.0284\n"
          ]
        },
        {
          "output_type": "stream",
          "name": "stderr",
          "text": [
            " 23%|██▎       | 902/4000 [02:07<07:09,  7.21it/s]"
          ]
        },
        {
          "output_type": "stream",
          "name": "stdout",
          "text": [
            "Epoch [17/100] Batch [900] Loss_G: 4.1406, Loss_D_A: 0.2601, Loss_D_B: 0.0148\n"
          ]
        },
        {
          "output_type": "stream",
          "name": "stderr",
          "text": [
            " 25%|██▌       | 1002/4000 [02:22<07:15,  6.88it/s]"
          ]
        },
        {
          "output_type": "stream",
          "name": "stdout",
          "text": [
            "Epoch [17/100] Batch [1000] Loss_G: 4.7765, Loss_D_A: 0.1728, Loss_D_B: 0.0092\n"
          ]
        },
        {
          "output_type": "stream",
          "name": "stderr",
          "text": [
            " 28%|██▊       | 1102/4000 [02:36<06:37,  7.29it/s]"
          ]
        },
        {
          "output_type": "stream",
          "name": "stdout",
          "text": [
            "Epoch [17/100] Batch [1100] Loss_G: 6.3860, Loss_D_A: 0.1406, Loss_D_B: 0.0169\n"
          ]
        },
        {
          "output_type": "stream",
          "name": "stderr",
          "text": [
            " 30%|███       | 1202/4000 [02:50<06:25,  7.25it/s]"
          ]
        },
        {
          "output_type": "stream",
          "name": "stdout",
          "text": [
            "Epoch [17/100] Batch [1200] Loss_G: 4.3978, Loss_D_A: 0.2844, Loss_D_B: 0.0059\n"
          ]
        },
        {
          "output_type": "stream",
          "name": "stderr",
          "text": [
            " 33%|███▎      | 1302/4000 [03:04<06:02,  7.45it/s]"
          ]
        },
        {
          "output_type": "stream",
          "name": "stdout",
          "text": [
            "Epoch [17/100] Batch [1300] Loss_G: 3.6024, Loss_D_A: 0.1742, Loss_D_B: 0.0111\n"
          ]
        },
        {
          "output_type": "stream",
          "name": "stderr",
          "text": [
            " 35%|███▌      | 1402/4000 [03:18<05:56,  7.29it/s]"
          ]
        },
        {
          "output_type": "stream",
          "name": "stdout",
          "text": [
            "Epoch [17/100] Batch [1400] Loss_G: 4.4458, Loss_D_A: 0.2552, Loss_D_B: 0.0177\n"
          ]
        },
        {
          "output_type": "stream",
          "name": "stderr",
          "text": [
            " 38%|███▊      | 1502/4000 [03:32<05:54,  7.06it/s]"
          ]
        },
        {
          "output_type": "stream",
          "name": "stdout",
          "text": [
            "Epoch [17/100] Batch [1500] Loss_G: 4.4248, Loss_D_A: 0.0496, Loss_D_B: 0.0076\n"
          ]
        },
        {
          "output_type": "stream",
          "name": "stderr",
          "text": [
            " 40%|████      | 1602/4000 [03:47<06:00,  6.66it/s]"
          ]
        },
        {
          "output_type": "stream",
          "name": "stdout",
          "text": [
            "Epoch [17/100] Batch [1600] Loss_G: 4.0646, Loss_D_A: 0.1527, Loss_D_B: 0.0272\n"
          ]
        },
        {
          "output_type": "stream",
          "name": "stderr",
          "text": [
            " 43%|████▎     | 1702/4000 [04:01<05:29,  6.98it/s]"
          ]
        },
        {
          "output_type": "stream",
          "name": "stdout",
          "text": [
            "Epoch [17/100] Batch [1700] Loss_G: 6.0684, Loss_D_A: 0.3595, Loss_D_B: 0.0118\n"
          ]
        },
        {
          "output_type": "stream",
          "name": "stderr",
          "text": [
            " 45%|████▌     | 1802/4000 [04:16<05:19,  6.87it/s]"
          ]
        },
        {
          "output_type": "stream",
          "name": "stdout",
          "text": [
            "Epoch [17/100] Batch [1800] Loss_G: 5.0404, Loss_D_A: 0.1137, Loss_D_B: 0.0209\n"
          ]
        },
        {
          "output_type": "stream",
          "name": "stderr",
          "text": [
            " 48%|████▊     | 1902/4000 [04:30<05:05,  6.87it/s]"
          ]
        },
        {
          "output_type": "stream",
          "name": "stdout",
          "text": [
            "Epoch [17/100] Batch [1900] Loss_G: 5.0475, Loss_D_A: 0.0806, Loss_D_B: 0.0066\n"
          ]
        },
        {
          "output_type": "stream",
          "name": "stderr",
          "text": [
            " 50%|█████     | 2002/4000 [04:45<04:58,  6.69it/s]"
          ]
        },
        {
          "output_type": "stream",
          "name": "stdout",
          "text": [
            "Epoch [17/100] Batch [2000] Loss_G: 5.9701, Loss_D_A: 0.0875, Loss_D_B: 0.0071\n"
          ]
        },
        {
          "output_type": "stream",
          "name": "stderr",
          "text": [
            " 53%|█████▎    | 2102/4000 [04:59<04:31,  6.99it/s]"
          ]
        },
        {
          "output_type": "stream",
          "name": "stdout",
          "text": [
            "Epoch [17/100] Batch [2100] Loss_G: 7.7503, Loss_D_A: 0.1013, Loss_D_B: 0.0160\n"
          ]
        },
        {
          "output_type": "stream",
          "name": "stderr",
          "text": [
            " 55%|█████▌    | 2202/4000 [05:13<03:55,  7.63it/s]"
          ]
        },
        {
          "output_type": "stream",
          "name": "stdout",
          "text": [
            "Epoch [17/100] Batch [2200] Loss_G: 3.5157, Loss_D_A: 0.1064, Loss_D_B: 0.0144\n"
          ]
        },
        {
          "output_type": "stream",
          "name": "stderr",
          "text": [
            " 58%|█████▊    | 2302/4000 [05:28<03:49,  7.38it/s]"
          ]
        },
        {
          "output_type": "stream",
          "name": "stdout",
          "text": [
            "Epoch [17/100] Batch [2300] Loss_G: 3.8496, Loss_D_A: 0.0307, Loss_D_B: 0.0244\n"
          ]
        },
        {
          "output_type": "stream",
          "name": "stderr",
          "text": [
            " 60%|██████    | 2402/4000 [05:42<03:38,  7.32it/s]"
          ]
        },
        {
          "output_type": "stream",
          "name": "stdout",
          "text": [
            "Epoch [17/100] Batch [2400] Loss_G: 4.4414, Loss_D_A: 0.0672, Loss_D_B: 0.0382\n"
          ]
        },
        {
          "output_type": "stream",
          "name": "stderr",
          "text": [
            " 63%|██████▎   | 2502/4000 [05:57<03:33,  7.03it/s]"
          ]
        },
        {
          "output_type": "stream",
          "name": "stdout",
          "text": [
            "Epoch [17/100] Batch [2500] Loss_G: 3.6646, Loss_D_A: 0.2052, Loss_D_B: 0.0274\n"
          ]
        },
        {
          "output_type": "stream",
          "name": "stderr",
          "text": [
            " 65%|██████▌   | 2602/4000 [06:11<03:07,  7.46it/s]"
          ]
        },
        {
          "output_type": "stream",
          "name": "stdout",
          "text": [
            "Epoch [17/100] Batch [2600] Loss_G: 5.1806, Loss_D_A: 0.1270, Loss_D_B: 0.0037\n"
          ]
        },
        {
          "output_type": "stream",
          "name": "stderr",
          "text": [
            " 68%|██████▊   | 2702/4000 [06:25<03:09,  6.85it/s]"
          ]
        },
        {
          "output_type": "stream",
          "name": "stdout",
          "text": [
            "Epoch [17/100] Batch [2700] Loss_G: 5.6300, Loss_D_A: 0.2745, Loss_D_B: 0.0054\n"
          ]
        },
        {
          "output_type": "stream",
          "name": "stderr",
          "text": [
            " 70%|███████   | 2802/4000 [06:39<02:55,  6.83it/s]"
          ]
        },
        {
          "output_type": "stream",
          "name": "stdout",
          "text": [
            "Epoch [17/100] Batch [2800] Loss_G: 4.1436, Loss_D_A: 0.2007, Loss_D_B: 0.0060\n"
          ]
        },
        {
          "output_type": "stream",
          "name": "stderr",
          "text": [
            " 73%|███████▎  | 2902/4000 [06:53<02:33,  7.14it/s]"
          ]
        },
        {
          "output_type": "stream",
          "name": "stdout",
          "text": [
            "Epoch [17/100] Batch [2900] Loss_G: 4.2037, Loss_D_A: 0.0801, Loss_D_B: 0.0092\n"
          ]
        },
        {
          "output_type": "stream",
          "name": "stderr",
          "text": [
            " 75%|███████▌  | 3002/4000 [07:07<02:28,  6.72it/s]"
          ]
        },
        {
          "output_type": "stream",
          "name": "stdout",
          "text": [
            "Epoch [17/100] Batch [3000] Loss_G: 5.3387, Loss_D_A: 0.2466, Loss_D_B: 0.0088\n"
          ]
        },
        {
          "output_type": "stream",
          "name": "stderr",
          "text": [
            " 78%|███████▊  | 3102/4000 [07:22<02:02,  7.32it/s]"
          ]
        },
        {
          "output_type": "stream",
          "name": "stdout",
          "text": [
            "Epoch [17/100] Batch [3100] Loss_G: 3.9953, Loss_D_A: 0.0504, Loss_D_B: 0.0078\n"
          ]
        },
        {
          "output_type": "stream",
          "name": "stderr",
          "text": [
            " 80%|████████  | 3202/4000 [07:36<01:57,  6.79it/s]"
          ]
        },
        {
          "output_type": "stream",
          "name": "stdout",
          "text": [
            "Epoch [17/100] Batch [3200] Loss_G: 6.1545, Loss_D_A: 0.2048, Loss_D_B: 0.0080\n"
          ]
        },
        {
          "output_type": "stream",
          "name": "stderr",
          "text": [
            " 83%|████████▎ | 3302/4000 [07:50<01:51,  6.25it/s]"
          ]
        },
        {
          "output_type": "stream",
          "name": "stdout",
          "text": [
            "Epoch [17/100] Batch [3300] Loss_G: 5.0652, Loss_D_A: 0.2006, Loss_D_B: 0.0306\n"
          ]
        },
        {
          "output_type": "stream",
          "name": "stderr",
          "text": [
            " 85%|████████▌ | 3402/4000 [08:04<01:23,  7.13it/s]"
          ]
        },
        {
          "output_type": "stream",
          "name": "stdout",
          "text": [
            "Epoch [17/100] Batch [3400] Loss_G: 9.2908, Loss_D_A: 0.1492, Loss_D_B: 0.0051\n"
          ]
        },
        {
          "output_type": "stream",
          "name": "stderr",
          "text": [
            " 88%|████████▊ | 3502/4000 [08:18<01:11,  6.94it/s]"
          ]
        },
        {
          "output_type": "stream",
          "name": "stdout",
          "text": [
            "Epoch [17/100] Batch [3500] Loss_G: 6.0459, Loss_D_A: 0.0457, Loss_D_B: 0.0485\n"
          ]
        },
        {
          "output_type": "stream",
          "name": "stderr",
          "text": [
            " 90%|█████████ | 3602/4000 [08:32<00:55,  7.13it/s]"
          ]
        },
        {
          "output_type": "stream",
          "name": "stdout",
          "text": [
            "Epoch [17/100] Batch [3600] Loss_G: 4.1648, Loss_D_A: 0.0534, Loss_D_B: 0.0078\n"
          ]
        },
        {
          "output_type": "stream",
          "name": "stderr",
          "text": [
            " 93%|█████████▎| 3702/4000 [08:46<00:42,  6.98it/s]"
          ]
        },
        {
          "output_type": "stream",
          "name": "stdout",
          "text": [
            "Epoch [17/100] Batch [3700] Loss_G: 7.3053, Loss_D_A: 0.2983, Loss_D_B: 0.0193\n"
          ]
        },
        {
          "output_type": "stream",
          "name": "stderr",
          "text": [
            " 95%|█████████▌| 3802/4000 [09:00<00:26,  7.44it/s]"
          ]
        },
        {
          "output_type": "stream",
          "name": "stdout",
          "text": [
            "Epoch [17/100] Batch [3800] Loss_G: 4.9314, Loss_D_A: 0.0497, Loss_D_B: 0.0359\n"
          ]
        },
        {
          "output_type": "stream",
          "name": "stderr",
          "text": [
            " 98%|█████████▊| 3902/4000 [09:15<00:13,  7.12it/s]"
          ]
        },
        {
          "output_type": "stream",
          "name": "stdout",
          "text": [
            "Epoch [17/100] Batch [3900] Loss_G: 5.2479, Loss_D_A: 0.2076, Loss_D_B: 0.0073\n"
          ]
        },
        {
          "output_type": "stream",
          "name": "stderr",
          "text": [
            "100%|█████████▉| 3984/4000 [09:27<00:02,  7.26it/s]"
          ]
        }
      ]
    },
    {
      "cell_type": "markdown",
      "source": [],
      "metadata": {
        "id": "3vZrq9h4TM9U"
      }
    }
  ],
  "metadata": {
    "accelerator": "GPU",
    "colab": {
      "gpuType": "A100",
      "machine_shape": "hm",
      "provenance": [],
      "authorship_tag": "ABX9TyNOR67eICUkJgKacxcVwfXF",
      "include_colab_link": true
    },
    "kernelspec": {
      "display_name": "Python 3",
      "name": "python3"
    },
    "language_info": {
      "name": "python"
    }
  },
  "nbformat": 4,
  "nbformat_minor": 0
}